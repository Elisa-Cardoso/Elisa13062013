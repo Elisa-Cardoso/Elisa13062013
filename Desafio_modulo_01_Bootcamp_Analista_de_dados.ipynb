{
  "nbformat": 4,
  "nbformat_minor": 0,
  "metadata": {
    "colab": {
      "provenance": [],
      "authorship_tag": "ABX9TyP/yMrkbdsY9N/u/aTHtJJR",
      "include_colab_link": true
    },
    "kernelspec": {
      "name": "python3",
      "display_name": "Python 3"
    },
    "language_info": {
      "name": "python"
    }
  },
  "cells": [
    {
      "cell_type": "markdown",
      "metadata": {
        "id": "view-in-github",
        "colab_type": "text"
      },
      "source": [
        "<a href=\"https://colab.research.google.com/github/ElisaCSouza23/projetos/blob/main/Desafio_modulo_01_Bootcamp_Analista_de_dados.ipynb\" target=\"_parent\"><img src=\"https://colab.research.google.com/assets/colab-badge.svg\" alt=\"Open In Colab\"/></a>"
      ]
    },
    {
      "cell_type": "markdown",
      "source": [
        "# **Enunciado da questão**\n",
        "\n",
        "\n",
        "Você é um cientista de dados em uma equipe de saúde que está buscando\n",
        "identificar padrões em dados médicos de pacientes. \n",
        "\n",
        "Sua equipe está trabalhando em um projeto para identificar riscos de saúde em pacientes com problemas de saúde específicos, como diabetes, hipertensão ou doença cardiovascular. \n",
        "\n",
        "**Seu objetivo é coletar, tratar e analisar dados de pacientes\n",
        "para criar grupos de pacientes com risco intermediário, alto ou muito alto de\n",
        "problemas de saúde.**\n",
        "\n",
        "Sua equipe decidiu usar o método de **agrupamento k-means para agrupar os\n",
        "pacientes em três grupos distintos com base nas informações fornecidas**. O\n",
        "objetivo é identificar padrões nos dados que possam indicar o risco de um paciente desenvolver problemas cardiovasculares. \n",
        "\n",
        "As doenças cardiovasculares são uma das principais causas de morbidade e mortalidade em todo o mundo. É essencial que os profissionais de saúde possam\n",
        "identificar pacientes com maior risco de desenvolver essas doenças, a fim de\n",
        "oferecer tratamentos e aconselhamentos preventivos personalizados."
      ],
      "metadata": {
        "id": "6gJVZmCwxL5p"
      }
    },
    {
      "cell_type": "markdown",
      "source": [
        "\n",
        "# Importando bibliotecas\n",
        "\n"
      ],
      "metadata": {
        "id": "0dT46MVJlQeU"
      }
    },
    {
      "cell_type": "code",
      "execution_count": 1,
      "metadata": {
        "id": "b51CBkJ1lGvf"
      },
      "outputs": [],
      "source": [
        "import pandas as pd\n",
        "import matplotlib.pyplot as plt\n",
        "import seaborn as sns\n",
        "import plotly.express as px\n",
        "import plotly.offline as py\n",
        "import plotly.graph_objects as go"
      ]
    },
    {
      "cell_type": "markdown",
      "source": [
        "# Verificando versões das bibliotecas"
      ],
      "metadata": {
        "id": "JcwomkDllp2W"
      }
    },
    {
      "cell_type": "code",
      "source": [
        "# import sklearn\n",
        "# import plotly\n",
        "# print(f'''Verificando versões das bibliotecas: \\n\n",
        "# pandas: {pd._version_}\n",
        "# sklearn: {sklearn._version_}\n",
        "# plotly: {plotly._version_}\n",
        "# ''') "
      ],
      "metadata": {
        "id": "1jxuZmJrlnz1"
      },
      "execution_count": 6,
      "outputs": []
    },
    {
      "cell_type": "markdown",
      "source": [
        "# Coleta de dados"
      ],
      "metadata": {
        "id": "MH0McQNJmheM"
      }
    },
    {
      "cell_type": "code",
      "source": [
        "# Coleta de dados 1\n",
        "dados_medicos = pd.read_csv('/content/dados_medicos.csv', sep=';', encoding='latin-1')\n",
        "dados_medicos.head()"
      ],
      "metadata": {
        "colab": {
          "base_uri": "https://localhost:8080/",
          "height": 267
        },
        "id": "LhRvMHM-mMS0",
        "outputId": "3d4ef784-32fe-4a1c-93fd-4e1a754d9468"
      },
      "execution_count": 8,
      "outputs": [
        {
          "output_type": "execute_result",
          "data": {
            "text/plain": [
              "   ID   IMC  Pressão Sistólica  Pressão Diastólica Nível de Açúcar   peso  \\\n",
              "0   1  31.7                139                  70          Normal  162.1   \n",
              "1   2  28.1                 93                  66          Normal  193.4   \n",
              "2   3  26.1                109                  86          Normal  162.2   \n",
              "3   4  31.6                159                  87          Normal  155.4   \n",
              "4   5  37.2                 99                  63          Normal  161.5   \n",
              "\n",
              "   Colesterol Total  Triglicerídeos Histórico Familiar - Cardiaco  \n",
              "0             262.8           152.6                           Sim  \n",
              "1             199.2           152.4                           Sim  \n",
              "2             223.4           190.1                           Não  \n",
              "3             189.7           130.2                           Não  \n",
              "4             218.3           146.0                           Não  "
            ],
            "text/html": [
              "\n",
              "  <div id=\"df-040e2da4-55f5-421f-bafa-490590d669bd\">\n",
              "    <div class=\"colab-df-container\">\n",
              "      <div>\n",
              "<style scoped>\n",
              "    .dataframe tbody tr th:only-of-type {\n",
              "        vertical-align: middle;\n",
              "    }\n",
              "\n",
              "    .dataframe tbody tr th {\n",
              "        vertical-align: top;\n",
              "    }\n",
              "\n",
              "    .dataframe thead th {\n",
              "        text-align: right;\n",
              "    }\n",
              "</style>\n",
              "<table border=\"1\" class=\"dataframe\">\n",
              "  <thead>\n",
              "    <tr style=\"text-align: right;\">\n",
              "      <th></th>\n",
              "      <th>ID</th>\n",
              "      <th>IMC</th>\n",
              "      <th>Pressão Sistólica</th>\n",
              "      <th>Pressão Diastólica</th>\n",
              "      <th>Nível de Açúcar</th>\n",
              "      <th>peso</th>\n",
              "      <th>Colesterol Total</th>\n",
              "      <th>Triglicerídeos</th>\n",
              "      <th>Histórico Familiar - Cardiaco</th>\n",
              "    </tr>\n",
              "  </thead>\n",
              "  <tbody>\n",
              "    <tr>\n",
              "      <th>0</th>\n",
              "      <td>1</td>\n",
              "      <td>31.7</td>\n",
              "      <td>139</td>\n",
              "      <td>70</td>\n",
              "      <td>Normal</td>\n",
              "      <td>162.1</td>\n",
              "      <td>262.8</td>\n",
              "      <td>152.6</td>\n",
              "      <td>Sim</td>\n",
              "    </tr>\n",
              "    <tr>\n",
              "      <th>1</th>\n",
              "      <td>2</td>\n",
              "      <td>28.1</td>\n",
              "      <td>93</td>\n",
              "      <td>66</td>\n",
              "      <td>Normal</td>\n",
              "      <td>193.4</td>\n",
              "      <td>199.2</td>\n",
              "      <td>152.4</td>\n",
              "      <td>Sim</td>\n",
              "    </tr>\n",
              "    <tr>\n",
              "      <th>2</th>\n",
              "      <td>3</td>\n",
              "      <td>26.1</td>\n",
              "      <td>109</td>\n",
              "      <td>86</td>\n",
              "      <td>Normal</td>\n",
              "      <td>162.2</td>\n",
              "      <td>223.4</td>\n",
              "      <td>190.1</td>\n",
              "      <td>Não</td>\n",
              "    </tr>\n",
              "    <tr>\n",
              "      <th>3</th>\n",
              "      <td>4</td>\n",
              "      <td>31.6</td>\n",
              "      <td>159</td>\n",
              "      <td>87</td>\n",
              "      <td>Normal</td>\n",
              "      <td>155.4</td>\n",
              "      <td>189.7</td>\n",
              "      <td>130.2</td>\n",
              "      <td>Não</td>\n",
              "    </tr>\n",
              "    <tr>\n",
              "      <th>4</th>\n",
              "      <td>5</td>\n",
              "      <td>37.2</td>\n",
              "      <td>99</td>\n",
              "      <td>63</td>\n",
              "      <td>Normal</td>\n",
              "      <td>161.5</td>\n",
              "      <td>218.3</td>\n",
              "      <td>146.0</td>\n",
              "      <td>Não</td>\n",
              "    </tr>\n",
              "  </tbody>\n",
              "</table>\n",
              "</div>\n",
              "      <button class=\"colab-df-convert\" onclick=\"convertToInteractive('df-040e2da4-55f5-421f-bafa-490590d669bd')\"\n",
              "              title=\"Convert this dataframe to an interactive table.\"\n",
              "              style=\"display:none;\">\n",
              "        \n",
              "  <svg xmlns=\"http://www.w3.org/2000/svg\" height=\"24px\"viewBox=\"0 0 24 24\"\n",
              "       width=\"24px\">\n",
              "    <path d=\"M0 0h24v24H0V0z\" fill=\"none\"/>\n",
              "    <path d=\"M18.56 5.44l.94 2.06.94-2.06 2.06-.94-2.06-.94-.94-2.06-.94 2.06-2.06.94zm-11 1L8.5 8.5l.94-2.06 2.06-.94-2.06-.94L8.5 2.5l-.94 2.06-2.06.94zm10 10l.94 2.06.94-2.06 2.06-.94-2.06-.94-.94-2.06-.94 2.06-2.06.94z\"/><path d=\"M17.41 7.96l-1.37-1.37c-.4-.4-.92-.59-1.43-.59-.52 0-1.04.2-1.43.59L10.3 9.45l-7.72 7.72c-.78.78-.78 2.05 0 2.83L4 21.41c.39.39.9.59 1.41.59.51 0 1.02-.2 1.41-.59l7.78-7.78 2.81-2.81c.8-.78.8-2.07 0-2.86zM5.41 20L4 18.59l7.72-7.72 1.47 1.35L5.41 20z\"/>\n",
              "  </svg>\n",
              "      </button>\n",
              "      \n",
              "  <style>\n",
              "    .colab-df-container {\n",
              "      display:flex;\n",
              "      flex-wrap:wrap;\n",
              "      gap: 12px;\n",
              "    }\n",
              "\n",
              "    .colab-df-convert {\n",
              "      background-color: #E8F0FE;\n",
              "      border: none;\n",
              "      border-radius: 50%;\n",
              "      cursor: pointer;\n",
              "      display: none;\n",
              "      fill: #1967D2;\n",
              "      height: 32px;\n",
              "      padding: 0 0 0 0;\n",
              "      width: 32px;\n",
              "    }\n",
              "\n",
              "    .colab-df-convert:hover {\n",
              "      background-color: #E2EBFA;\n",
              "      box-shadow: 0px 1px 2px rgba(60, 64, 67, 0.3), 0px 1px 3px 1px rgba(60, 64, 67, 0.15);\n",
              "      fill: #174EA6;\n",
              "    }\n",
              "\n",
              "    [theme=dark] .colab-df-convert {\n",
              "      background-color: #3B4455;\n",
              "      fill: #D2E3FC;\n",
              "    }\n",
              "\n",
              "    [theme=dark] .colab-df-convert:hover {\n",
              "      background-color: #434B5C;\n",
              "      box-shadow: 0px 1px 3px 1px rgba(0, 0, 0, 0.15);\n",
              "      filter: drop-shadow(0px 1px 2px rgba(0, 0, 0, 0.3));\n",
              "      fill: #FFFFFF;\n",
              "    }\n",
              "  </style>\n",
              "\n",
              "      <script>\n",
              "        const buttonEl =\n",
              "          document.querySelector('#df-040e2da4-55f5-421f-bafa-490590d669bd button.colab-df-convert');\n",
              "        buttonEl.style.display =\n",
              "          google.colab.kernel.accessAllowed ? 'block' : 'none';\n",
              "\n",
              "        async function convertToInteractive(key) {\n",
              "          const element = document.querySelector('#df-040e2da4-55f5-421f-bafa-490590d669bd');\n",
              "          const dataTable =\n",
              "            await google.colab.kernel.invokeFunction('convertToInteractive',\n",
              "                                                     [key], {});\n",
              "          if (!dataTable) return;\n",
              "\n",
              "          const docLinkHtml = 'Like what you see? Visit the ' +\n",
              "            '<a target=\"_blank\" href=https://colab.research.google.com/notebooks/data_table.ipynb>data table notebook</a>'\n",
              "            + ' to learn more about interactive tables.';\n",
              "          element.innerHTML = '';\n",
              "          dataTable['output_type'] = 'display_data';\n",
              "          await google.colab.output.renderOutput(dataTable, element);\n",
              "          const docLink = document.createElement('div');\n",
              "          docLink.innerHTML = docLinkHtml;\n",
              "          element.appendChild(docLink);\n",
              "        }\n",
              "      </script>\n",
              "    </div>\n",
              "  </div>\n",
              "  "
            ]
          },
          "metadata": {},
          "execution_count": 8
        }
      ]
    },
    {
      "cell_type": "code",
      "source": [
        "# Coleta de dados 2\n",
        "dados_perfil = pd.read_excel('/content/dados_perfil.xlsx')\n",
        "dados_perfil.head()"
      ],
      "metadata": {
        "colab": {
          "base_uri": "https://localhost:8080/",
          "height": 206
        },
        "id": "2ArMntE9oAGB",
        "outputId": "c0eb0a29-1187-4aa2-a1c6-56b487cdf82c"
      },
      "execution_count": 9,
      "outputs": [
        {
          "output_type": "execute_result",
          "data": {
            "text/plain": [
              "   ID Gênero  Idade Consumo de Álcool    Atividade Física  cod_uf\n",
              "0   1      M   74.0          Moderado  Atividade Moderada      31\n",
              "1   2      F   34.0             Baixo  Atividade Moderada      35\n",
              "2   3      M   18.0          Moderado  Atividade Moderada      29\n",
              "3   4      M   72.0             Baixo          Sedentário      15\n",
              "4   5      F   63.0             Baixo  Atividade Moderada      41"
            ],
            "text/html": [
              "\n",
              "  <div id=\"df-e7bab0ab-93f4-4844-8e03-7c280494913d\">\n",
              "    <div class=\"colab-df-container\">\n",
              "      <div>\n",
              "<style scoped>\n",
              "    .dataframe tbody tr th:only-of-type {\n",
              "        vertical-align: middle;\n",
              "    }\n",
              "\n",
              "    .dataframe tbody tr th {\n",
              "        vertical-align: top;\n",
              "    }\n",
              "\n",
              "    .dataframe thead th {\n",
              "        text-align: right;\n",
              "    }\n",
              "</style>\n",
              "<table border=\"1\" class=\"dataframe\">\n",
              "  <thead>\n",
              "    <tr style=\"text-align: right;\">\n",
              "      <th></th>\n",
              "      <th>ID</th>\n",
              "      <th>Gênero</th>\n",
              "      <th>Idade</th>\n",
              "      <th>Consumo de Álcool</th>\n",
              "      <th>Atividade Física</th>\n",
              "      <th>cod_uf</th>\n",
              "    </tr>\n",
              "  </thead>\n",
              "  <tbody>\n",
              "    <tr>\n",
              "      <th>0</th>\n",
              "      <td>1</td>\n",
              "      <td>M</td>\n",
              "      <td>74.0</td>\n",
              "      <td>Moderado</td>\n",
              "      <td>Atividade Moderada</td>\n",
              "      <td>31</td>\n",
              "    </tr>\n",
              "    <tr>\n",
              "      <th>1</th>\n",
              "      <td>2</td>\n",
              "      <td>F</td>\n",
              "      <td>34.0</td>\n",
              "      <td>Baixo</td>\n",
              "      <td>Atividade Moderada</td>\n",
              "      <td>35</td>\n",
              "    </tr>\n",
              "    <tr>\n",
              "      <th>2</th>\n",
              "      <td>3</td>\n",
              "      <td>M</td>\n",
              "      <td>18.0</td>\n",
              "      <td>Moderado</td>\n",
              "      <td>Atividade Moderada</td>\n",
              "      <td>29</td>\n",
              "    </tr>\n",
              "    <tr>\n",
              "      <th>3</th>\n",
              "      <td>4</td>\n",
              "      <td>M</td>\n",
              "      <td>72.0</td>\n",
              "      <td>Baixo</td>\n",
              "      <td>Sedentário</td>\n",
              "      <td>15</td>\n",
              "    </tr>\n",
              "    <tr>\n",
              "      <th>4</th>\n",
              "      <td>5</td>\n",
              "      <td>F</td>\n",
              "      <td>63.0</td>\n",
              "      <td>Baixo</td>\n",
              "      <td>Atividade Moderada</td>\n",
              "      <td>41</td>\n",
              "    </tr>\n",
              "  </tbody>\n",
              "</table>\n",
              "</div>\n",
              "      <button class=\"colab-df-convert\" onclick=\"convertToInteractive('df-e7bab0ab-93f4-4844-8e03-7c280494913d')\"\n",
              "              title=\"Convert this dataframe to an interactive table.\"\n",
              "              style=\"display:none;\">\n",
              "        \n",
              "  <svg xmlns=\"http://www.w3.org/2000/svg\" height=\"24px\"viewBox=\"0 0 24 24\"\n",
              "       width=\"24px\">\n",
              "    <path d=\"M0 0h24v24H0V0z\" fill=\"none\"/>\n",
              "    <path d=\"M18.56 5.44l.94 2.06.94-2.06 2.06-.94-2.06-.94-.94-2.06-.94 2.06-2.06.94zm-11 1L8.5 8.5l.94-2.06 2.06-.94-2.06-.94L8.5 2.5l-.94 2.06-2.06.94zm10 10l.94 2.06.94-2.06 2.06-.94-2.06-.94-.94-2.06-.94 2.06-2.06.94z\"/><path d=\"M17.41 7.96l-1.37-1.37c-.4-.4-.92-.59-1.43-.59-.52 0-1.04.2-1.43.59L10.3 9.45l-7.72 7.72c-.78.78-.78 2.05 0 2.83L4 21.41c.39.39.9.59 1.41.59.51 0 1.02-.2 1.41-.59l7.78-7.78 2.81-2.81c.8-.78.8-2.07 0-2.86zM5.41 20L4 18.59l7.72-7.72 1.47 1.35L5.41 20z\"/>\n",
              "  </svg>\n",
              "      </button>\n",
              "      \n",
              "  <style>\n",
              "    .colab-df-container {\n",
              "      display:flex;\n",
              "      flex-wrap:wrap;\n",
              "      gap: 12px;\n",
              "    }\n",
              "\n",
              "    .colab-df-convert {\n",
              "      background-color: #E8F0FE;\n",
              "      border: none;\n",
              "      border-radius: 50%;\n",
              "      cursor: pointer;\n",
              "      display: none;\n",
              "      fill: #1967D2;\n",
              "      height: 32px;\n",
              "      padding: 0 0 0 0;\n",
              "      width: 32px;\n",
              "    }\n",
              "\n",
              "    .colab-df-convert:hover {\n",
              "      background-color: #E2EBFA;\n",
              "      box-shadow: 0px 1px 2px rgba(60, 64, 67, 0.3), 0px 1px 3px 1px rgba(60, 64, 67, 0.15);\n",
              "      fill: #174EA6;\n",
              "    }\n",
              "\n",
              "    [theme=dark] .colab-df-convert {\n",
              "      background-color: #3B4455;\n",
              "      fill: #D2E3FC;\n",
              "    }\n",
              "\n",
              "    [theme=dark] .colab-df-convert:hover {\n",
              "      background-color: #434B5C;\n",
              "      box-shadow: 0px 1px 3px 1px rgba(0, 0, 0, 0.15);\n",
              "      filter: drop-shadow(0px 1px 2px rgba(0, 0, 0, 0.3));\n",
              "      fill: #FFFFFF;\n",
              "    }\n",
              "  </style>\n",
              "\n",
              "      <script>\n",
              "        const buttonEl =\n",
              "          document.querySelector('#df-e7bab0ab-93f4-4844-8e03-7c280494913d button.colab-df-convert');\n",
              "        buttonEl.style.display =\n",
              "          google.colab.kernel.accessAllowed ? 'block' : 'none';\n",
              "\n",
              "        async function convertToInteractive(key) {\n",
              "          const element = document.querySelector('#df-e7bab0ab-93f4-4844-8e03-7c280494913d');\n",
              "          const dataTable =\n",
              "            await google.colab.kernel.invokeFunction('convertToInteractive',\n",
              "                                                     [key], {});\n",
              "          if (!dataTable) return;\n",
              "\n",
              "          const docLinkHtml = 'Like what you see? Visit the ' +\n",
              "            '<a target=\"_blank\" href=https://colab.research.google.com/notebooks/data_table.ipynb>data table notebook</a>'\n",
              "            + ' to learn more about interactive tables.';\n",
              "          element.innerHTML = '';\n",
              "          dataTable['output_type'] = 'display_data';\n",
              "          await google.colab.output.renderOutput(dataTable, element);\n",
              "          const docLink = document.createElement('div');\n",
              "          docLink.innerHTML = docLinkHtml;\n",
              "          element.appendChild(docLink);\n",
              "        }\n",
              "      </script>\n",
              "    </div>\n",
              "  </div>\n",
              "  "
            ]
          },
          "metadata": {},
          "execution_count": 9
        }
      ]
    },
    {
      "cell_type": "code",
      "source": [
        "# Coleta de dados 3\n",
        "uf = pd.read_csv('/content/unidades_federativas_do_Brasil.csv', sep=';', encoding='latin-1')\n",
        "uf.head()"
      ],
      "metadata": {
        "colab": {
          "base_uri": "https://localhost:8080/",
          "height": 206
        },
        "id": "878JAygUoQ4Q",
        "outputId": "0966894e-5e5c-4616-d0d2-4106bdf26138"
      },
      "execution_count": 12,
      "outputs": [
        {
          "output_type": "execute_result",
          "data": {
            "text/plain": [
              "   codigo_uf  uf      nome  latitude  longitude regiao    pais\n",
              "0         11  RO  Rondônia    -10.83     -63.34  Norte  Brasil\n",
              "1         12  AC      Acre     -8.77     -70.55  Norte  Brasil\n",
              "2         13  AM  Amazonas     -3.47     -65.10  Norte  Brasil\n",
              "3         14  RR   Roraima      1.99     -61.33  Norte  Brasil\n",
              "4         15  PA      Pará     -3.79     -52.48  Norte  Brasil"
            ],
            "text/html": [
              "\n",
              "  <div id=\"df-24b69e99-bbd6-465a-9491-7f19011880ac\">\n",
              "    <div class=\"colab-df-container\">\n",
              "      <div>\n",
              "<style scoped>\n",
              "    .dataframe tbody tr th:only-of-type {\n",
              "        vertical-align: middle;\n",
              "    }\n",
              "\n",
              "    .dataframe tbody tr th {\n",
              "        vertical-align: top;\n",
              "    }\n",
              "\n",
              "    .dataframe thead th {\n",
              "        text-align: right;\n",
              "    }\n",
              "</style>\n",
              "<table border=\"1\" class=\"dataframe\">\n",
              "  <thead>\n",
              "    <tr style=\"text-align: right;\">\n",
              "      <th></th>\n",
              "      <th>codigo_uf</th>\n",
              "      <th>uf</th>\n",
              "      <th>nome</th>\n",
              "      <th>latitude</th>\n",
              "      <th>longitude</th>\n",
              "      <th>regiao</th>\n",
              "      <th>pais</th>\n",
              "    </tr>\n",
              "  </thead>\n",
              "  <tbody>\n",
              "    <tr>\n",
              "      <th>0</th>\n",
              "      <td>11</td>\n",
              "      <td>RO</td>\n",
              "      <td>Rondônia</td>\n",
              "      <td>-10.83</td>\n",
              "      <td>-63.34</td>\n",
              "      <td>Norte</td>\n",
              "      <td>Brasil</td>\n",
              "    </tr>\n",
              "    <tr>\n",
              "      <th>1</th>\n",
              "      <td>12</td>\n",
              "      <td>AC</td>\n",
              "      <td>Acre</td>\n",
              "      <td>-8.77</td>\n",
              "      <td>-70.55</td>\n",
              "      <td>Norte</td>\n",
              "      <td>Brasil</td>\n",
              "    </tr>\n",
              "    <tr>\n",
              "      <th>2</th>\n",
              "      <td>13</td>\n",
              "      <td>AM</td>\n",
              "      <td>Amazonas</td>\n",
              "      <td>-3.47</td>\n",
              "      <td>-65.10</td>\n",
              "      <td>Norte</td>\n",
              "      <td>Brasil</td>\n",
              "    </tr>\n",
              "    <tr>\n",
              "      <th>3</th>\n",
              "      <td>14</td>\n",
              "      <td>RR</td>\n",
              "      <td>Roraima</td>\n",
              "      <td>1.99</td>\n",
              "      <td>-61.33</td>\n",
              "      <td>Norte</td>\n",
              "      <td>Brasil</td>\n",
              "    </tr>\n",
              "    <tr>\n",
              "      <th>4</th>\n",
              "      <td>15</td>\n",
              "      <td>PA</td>\n",
              "      <td>Pará</td>\n",
              "      <td>-3.79</td>\n",
              "      <td>-52.48</td>\n",
              "      <td>Norte</td>\n",
              "      <td>Brasil</td>\n",
              "    </tr>\n",
              "  </tbody>\n",
              "</table>\n",
              "</div>\n",
              "      <button class=\"colab-df-convert\" onclick=\"convertToInteractive('df-24b69e99-bbd6-465a-9491-7f19011880ac')\"\n",
              "              title=\"Convert this dataframe to an interactive table.\"\n",
              "              style=\"display:none;\">\n",
              "        \n",
              "  <svg xmlns=\"http://www.w3.org/2000/svg\" height=\"24px\"viewBox=\"0 0 24 24\"\n",
              "       width=\"24px\">\n",
              "    <path d=\"M0 0h24v24H0V0z\" fill=\"none\"/>\n",
              "    <path d=\"M18.56 5.44l.94 2.06.94-2.06 2.06-.94-2.06-.94-.94-2.06-.94 2.06-2.06.94zm-11 1L8.5 8.5l.94-2.06 2.06-.94-2.06-.94L8.5 2.5l-.94 2.06-2.06.94zm10 10l.94 2.06.94-2.06 2.06-.94-2.06-.94-.94-2.06-.94 2.06-2.06.94z\"/><path d=\"M17.41 7.96l-1.37-1.37c-.4-.4-.92-.59-1.43-.59-.52 0-1.04.2-1.43.59L10.3 9.45l-7.72 7.72c-.78.78-.78 2.05 0 2.83L4 21.41c.39.39.9.59 1.41.59.51 0 1.02-.2 1.41-.59l7.78-7.78 2.81-2.81c.8-.78.8-2.07 0-2.86zM5.41 20L4 18.59l7.72-7.72 1.47 1.35L5.41 20z\"/>\n",
              "  </svg>\n",
              "      </button>\n",
              "      \n",
              "  <style>\n",
              "    .colab-df-container {\n",
              "      display:flex;\n",
              "      flex-wrap:wrap;\n",
              "      gap: 12px;\n",
              "    }\n",
              "\n",
              "    .colab-df-convert {\n",
              "      background-color: #E8F0FE;\n",
              "      border: none;\n",
              "      border-radius: 50%;\n",
              "      cursor: pointer;\n",
              "      display: none;\n",
              "      fill: #1967D2;\n",
              "      height: 32px;\n",
              "      padding: 0 0 0 0;\n",
              "      width: 32px;\n",
              "    }\n",
              "\n",
              "    .colab-df-convert:hover {\n",
              "      background-color: #E2EBFA;\n",
              "      box-shadow: 0px 1px 2px rgba(60, 64, 67, 0.3), 0px 1px 3px 1px rgba(60, 64, 67, 0.15);\n",
              "      fill: #174EA6;\n",
              "    }\n",
              "\n",
              "    [theme=dark] .colab-df-convert {\n",
              "      background-color: #3B4455;\n",
              "      fill: #D2E3FC;\n",
              "    }\n",
              "\n",
              "    [theme=dark] .colab-df-convert:hover {\n",
              "      background-color: #434B5C;\n",
              "      box-shadow: 0px 1px 3px 1px rgba(0, 0, 0, 0.15);\n",
              "      filter: drop-shadow(0px 1px 2px rgba(0, 0, 0, 0.3));\n",
              "      fill: #FFFFFF;\n",
              "    }\n",
              "  </style>\n",
              "\n",
              "      <script>\n",
              "        const buttonEl =\n",
              "          document.querySelector('#df-24b69e99-bbd6-465a-9491-7f19011880ac button.colab-df-convert');\n",
              "        buttonEl.style.display =\n",
              "          google.colab.kernel.accessAllowed ? 'block' : 'none';\n",
              "\n",
              "        async function convertToInteractive(key) {\n",
              "          const element = document.querySelector('#df-24b69e99-bbd6-465a-9491-7f19011880ac');\n",
              "          const dataTable =\n",
              "            await google.colab.kernel.invokeFunction('convertToInteractive',\n",
              "                                                     [key], {});\n",
              "          if (!dataTable) return;\n",
              "\n",
              "          const docLinkHtml = 'Like what you see? Visit the ' +\n",
              "            '<a target=\"_blank\" href=https://colab.research.google.com/notebooks/data_table.ipynb>data table notebook</a>'\n",
              "            + ' to learn more about interactive tables.';\n",
              "          element.innerHTML = '';\n",
              "          dataTable['output_type'] = 'display_data';\n",
              "          await google.colab.output.renderOutput(dataTable, element);\n",
              "          const docLink = document.createElement('div');\n",
              "          docLink.innerHTML = docLinkHtml;\n",
              "          element.appendChild(docLink);\n",
              "        }\n",
              "      </script>\n",
              "    </div>\n",
              "  </div>\n",
              "  "
            ]
          },
          "metadata": {},
          "execution_count": 12
        }
      ]
    },
    {
      "cell_type": "markdown",
      "source": [
        "# Analisando os dados"
      ],
      "metadata": {
        "id": "7dH9bFHHoloq"
      }
    },
    {
      "cell_type": "code",
      "source": [
        "# info da base de dados médicos\n",
        "dados_medicos.info()"
      ],
      "metadata": {
        "colab": {
          "base_uri": "https://localhost:8080/"
        },
        "id": "dfnsY4BkoTRz",
        "outputId": "63d9929a-cd9b-4e72-9fa6-cba71d07de78"
      },
      "execution_count": 13,
      "outputs": [
        {
          "output_type": "stream",
          "name": "stdout",
          "text": [
            "<class 'pandas.core.frame.DataFrame'>\n",
            "RangeIndex: 1000 entries, 0 to 999\n",
            "Data columns (total 9 columns):\n",
            " #   Column                         Non-Null Count  Dtype  \n",
            "---  ------                         --------------  -----  \n",
            " 0   ID                             1000 non-null   int64  \n",
            " 1   IMC                            1000 non-null   float64\n",
            " 2   Pressão Sistólica              1000 non-null   int64  \n",
            " 3   Pressão Diastólica             1000 non-null   int64  \n",
            " 4   Nível de Açúcar                1000 non-null   object \n",
            " 5   peso                           1000 non-null   float64\n",
            " 6   Colesterol Total               989 non-null    float64\n",
            " 7   Triglicerídeos                 1000 non-null   float64\n",
            " 8   Histórico Familiar - Cardiaco  1000 non-null   object \n",
            "dtypes: float64(4), int64(3), object(2)\n",
            "memory usage: 70.4+ KB\n"
          ]
        }
      ]
    },
    {
      "cell_type": "code",
      "source": [
        "# info da base de dados perfil\n",
        "dados_perfil.info()"
      ],
      "metadata": {
        "colab": {
          "base_uri": "https://localhost:8080/"
        },
        "id": "lP8uR1CiotOU",
        "outputId": "1627b9b6-0fd3-4e46-90be-c5d24c8f6251"
      },
      "execution_count": 14,
      "outputs": [
        {
          "output_type": "stream",
          "name": "stdout",
          "text": [
            "<class 'pandas.core.frame.DataFrame'>\n",
            "RangeIndex: 1000 entries, 0 to 999\n",
            "Data columns (total 6 columns):\n",
            " #   Column             Non-Null Count  Dtype  \n",
            "---  ------             --------------  -----  \n",
            " 0   ID                 1000 non-null   int64  \n",
            " 1   Gênero             1000 non-null   object \n",
            " 2   Idade              990 non-null    float64\n",
            " 3   Consumo de Álcool  1000 non-null   object \n",
            " 4   Atividade Física   1000 non-null   object \n",
            " 5   cod_uf             1000 non-null   int64  \n",
            "dtypes: float64(1), int64(2), object(3)\n",
            "memory usage: 47.0+ KB\n"
          ]
        }
      ]
    },
    {
      "cell_type": "code",
      "source": [
        "# info da base de dados Unidades Federativas do Brasil\n",
        "uf.info()"
      ],
      "metadata": {
        "colab": {
          "base_uri": "https://localhost:8080/"
        },
        "id": "WWkxqY69ownf",
        "outputId": "a8220afe-41fc-4a5a-91f9-fe768370c011"
      },
      "execution_count": 15,
      "outputs": [
        {
          "output_type": "stream",
          "name": "stdout",
          "text": [
            "<class 'pandas.core.frame.DataFrame'>\n",
            "RangeIndex: 27 entries, 0 to 26\n",
            "Data columns (total 7 columns):\n",
            " #   Column     Non-Null Count  Dtype  \n",
            "---  ------     --------------  -----  \n",
            " 0   codigo_uf  27 non-null     int64  \n",
            " 1   uf         27 non-null     object \n",
            " 2   nome       27 non-null     object \n",
            " 3   latitude   27 non-null     float64\n",
            " 4   longitude  27 non-null     float64\n",
            " 5   regiao     27 non-null     object \n",
            " 6   pais       27 non-null     object \n",
            "dtypes: float64(2), int64(1), object(4)\n",
            "memory usage: 1.6+ KB\n"
          ]
        }
      ]
    },
    {
      "cell_type": "markdown",
      "source": [
        "# Analisando dados ausentes"
      ],
      "metadata": {
        "id": "7LkeyK9to4hF"
      }
    },
    {
      "cell_type": "code",
      "source": [
        "# Analisando dados médicos\n",
        "dados_medicos.isna().sum()"
      ],
      "metadata": {
        "colab": {
          "base_uri": "https://localhost:8080/"
        },
        "id": "_LsZV8Fuo1yD",
        "outputId": "ee47e088-0f37-467a-982c-115cfc559548"
      },
      "execution_count": 16,
      "outputs": [
        {
          "output_type": "execute_result",
          "data": {
            "text/plain": [
              "ID                                0\n",
              "IMC                               0\n",
              "Pressão Sistólica                 0\n",
              "Pressão Diastólica                0\n",
              "Nível de Açúcar                   0\n",
              "peso                              0\n",
              "Colesterol Total                 11\n",
              "Triglicerídeos                    0\n",
              "Histórico Familiar - Cardiaco     0\n",
              "dtype: int64"
            ]
          },
          "metadata": {},
          "execution_count": 16
        }
      ]
    },
    {
      "cell_type": "markdown",
      "source": [
        "Há dados nulos na coluna \"Colesterol total\".\n",
        "\n",
        "\n",
        "\n"
      ],
      "metadata": {
        "id": "P5sQpEI6pFzh"
      }
    },
    {
      "cell_type": "code",
      "source": [
        "# Analisando dados perfil\n",
        "dados_perfil.isna().sum()"
      ],
      "metadata": {
        "colab": {
          "base_uri": "https://localhost:8080/"
        },
        "id": "tTcyOGoDpBCM",
        "outputId": "e45fa345-5ff2-44b2-ddf7-50caa81872ab"
      },
      "execution_count": 20,
      "outputs": [
        {
          "output_type": "execute_result",
          "data": {
            "text/plain": [
              "ID                    0\n",
              "Gênero                0\n",
              "Idade                10\n",
              "Consumo de Álcool     0\n",
              "Atividade Física      0\n",
              "cod_uf                0\n",
              "dtype: int64"
            ]
          },
          "metadata": {},
          "execution_count": 20
        }
      ]
    },
    {
      "cell_type": "markdown",
      "source": [
        "Há dados nulos na coluna \"Idade\".\n"
      ],
      "metadata": {
        "id": "VLdL707apFtX"
      }
    },
    {
      "cell_type": "code",
      "source": [
        "# Analisando dados Unidades Federativas do Brasil\n",
        "uf.isna().sum()"
      ],
      "metadata": {
        "colab": {
          "base_uri": "https://localhost:8080/"
        },
        "id": "4SozaQd3pVtR",
        "outputId": "051c9a03-ba22-44a5-e1ad-11e2ea6ddb19"
      },
      "execution_count": 21,
      "outputs": [
        {
          "output_type": "execute_result",
          "data": {
            "text/plain": [
              "codigo_uf    0\n",
              "uf           0\n",
              "nome         0\n",
              "latitude     0\n",
              "longitude    0\n",
              "regiao       0\n",
              "pais         0\n",
              "dtype: int64"
            ]
          },
          "metadata": {},
          "execution_count": 21
        }
      ]
    },
    {
      "cell_type": "markdown",
      "source": [
        "Não há dados nulos."
      ],
      "metadata": {
        "id": "51Om55orpddn"
      }
    },
    {
      "cell_type": "markdown",
      "source": [
        "# Visualizando dados ausentes"
      ],
      "metadata": {
        "id": "g0vZYfUfpkxF"
      }
    },
    {
      "cell_type": "code",
      "source": [
        "# Verificando os registros com valores nulos (dados médicos)\n",
        "dados_medicos.loc[dados_medicos['Colesterol Total'].isnull()]"
      ],
      "metadata": {
        "colab": {
          "base_uri": "https://localhost:8080/",
          "height": 455
        },
        "id": "UlnKPFbipcFg",
        "outputId": "2696bcc2-958d-418a-ea2e-579774045cdb"
      },
      "execution_count": 23,
      "outputs": [
        {
          "output_type": "execute_result",
          "data": {
            "text/plain": [
              "      ID   IMC  Pressão Sistólica  Pressão Diastólica Nível de Açúcar   peso  \\\n",
              "42    43  26.7                165                  66          Normal  177.2   \n",
              "48    49  24.4                141                  68          Normal  113.8   \n",
              "218  219  33.5                142                  69          Normal  150.9   \n",
              "401  402  31.0                142                  90            Alto  104.4   \n",
              "565  566  20.6                155                  87          Normal  129.9   \n",
              "629  630  28.7                 92                  86          Normal  143.6   \n",
              "710  711  33.6                 92                 100            Alto  171.9   \n",
              "720  721  27.4                112                  88          Normal  143.0   \n",
              "737  738  33.2                140                  61          Normal  133.8   \n",
              "839  840  36.1                116                  83          Normal  134.2   \n",
              "936  937  23.3                166                  76          Normal  138.0   \n",
              "\n",
              "     Colesterol Total  Triglicerídeos Histórico Familiar - Cardiaco  \n",
              "42                NaN           141.9                           Não  \n",
              "48                NaN           175.8                           Sim  \n",
              "218               NaN           168.3                           Não  \n",
              "401               NaN           120.0                           Não  \n",
              "565               NaN           155.6                           Sim  \n",
              "629               NaN           110.7                           Não  \n",
              "710               NaN           119.1                           Não  \n",
              "720               NaN           148.1                           Não  \n",
              "737               NaN            86.0                           Não  \n",
              "839               NaN           160.4                           Não  \n",
              "936               NaN           107.7                           Não  "
            ],
            "text/html": [
              "\n",
              "  <div id=\"df-873c3014-00a8-4b17-be90-7efd761506cb\">\n",
              "    <div class=\"colab-df-container\">\n",
              "      <div>\n",
              "<style scoped>\n",
              "    .dataframe tbody tr th:only-of-type {\n",
              "        vertical-align: middle;\n",
              "    }\n",
              "\n",
              "    .dataframe tbody tr th {\n",
              "        vertical-align: top;\n",
              "    }\n",
              "\n",
              "    .dataframe thead th {\n",
              "        text-align: right;\n",
              "    }\n",
              "</style>\n",
              "<table border=\"1\" class=\"dataframe\">\n",
              "  <thead>\n",
              "    <tr style=\"text-align: right;\">\n",
              "      <th></th>\n",
              "      <th>ID</th>\n",
              "      <th>IMC</th>\n",
              "      <th>Pressão Sistólica</th>\n",
              "      <th>Pressão Diastólica</th>\n",
              "      <th>Nível de Açúcar</th>\n",
              "      <th>peso</th>\n",
              "      <th>Colesterol Total</th>\n",
              "      <th>Triglicerídeos</th>\n",
              "      <th>Histórico Familiar - Cardiaco</th>\n",
              "    </tr>\n",
              "  </thead>\n",
              "  <tbody>\n",
              "    <tr>\n",
              "      <th>42</th>\n",
              "      <td>43</td>\n",
              "      <td>26.7</td>\n",
              "      <td>165</td>\n",
              "      <td>66</td>\n",
              "      <td>Normal</td>\n",
              "      <td>177.2</td>\n",
              "      <td>NaN</td>\n",
              "      <td>141.9</td>\n",
              "      <td>Não</td>\n",
              "    </tr>\n",
              "    <tr>\n",
              "      <th>48</th>\n",
              "      <td>49</td>\n",
              "      <td>24.4</td>\n",
              "      <td>141</td>\n",
              "      <td>68</td>\n",
              "      <td>Normal</td>\n",
              "      <td>113.8</td>\n",
              "      <td>NaN</td>\n",
              "      <td>175.8</td>\n",
              "      <td>Sim</td>\n",
              "    </tr>\n",
              "    <tr>\n",
              "      <th>218</th>\n",
              "      <td>219</td>\n",
              "      <td>33.5</td>\n",
              "      <td>142</td>\n",
              "      <td>69</td>\n",
              "      <td>Normal</td>\n",
              "      <td>150.9</td>\n",
              "      <td>NaN</td>\n",
              "      <td>168.3</td>\n",
              "      <td>Não</td>\n",
              "    </tr>\n",
              "    <tr>\n",
              "      <th>401</th>\n",
              "      <td>402</td>\n",
              "      <td>31.0</td>\n",
              "      <td>142</td>\n",
              "      <td>90</td>\n",
              "      <td>Alto</td>\n",
              "      <td>104.4</td>\n",
              "      <td>NaN</td>\n",
              "      <td>120.0</td>\n",
              "      <td>Não</td>\n",
              "    </tr>\n",
              "    <tr>\n",
              "      <th>565</th>\n",
              "      <td>566</td>\n",
              "      <td>20.6</td>\n",
              "      <td>155</td>\n",
              "      <td>87</td>\n",
              "      <td>Normal</td>\n",
              "      <td>129.9</td>\n",
              "      <td>NaN</td>\n",
              "      <td>155.6</td>\n",
              "      <td>Sim</td>\n",
              "    </tr>\n",
              "    <tr>\n",
              "      <th>629</th>\n",
              "      <td>630</td>\n",
              "      <td>28.7</td>\n",
              "      <td>92</td>\n",
              "      <td>86</td>\n",
              "      <td>Normal</td>\n",
              "      <td>143.6</td>\n",
              "      <td>NaN</td>\n",
              "      <td>110.7</td>\n",
              "      <td>Não</td>\n",
              "    </tr>\n",
              "    <tr>\n",
              "      <th>710</th>\n",
              "      <td>711</td>\n",
              "      <td>33.6</td>\n",
              "      <td>92</td>\n",
              "      <td>100</td>\n",
              "      <td>Alto</td>\n",
              "      <td>171.9</td>\n",
              "      <td>NaN</td>\n",
              "      <td>119.1</td>\n",
              "      <td>Não</td>\n",
              "    </tr>\n",
              "    <tr>\n",
              "      <th>720</th>\n",
              "      <td>721</td>\n",
              "      <td>27.4</td>\n",
              "      <td>112</td>\n",
              "      <td>88</td>\n",
              "      <td>Normal</td>\n",
              "      <td>143.0</td>\n",
              "      <td>NaN</td>\n",
              "      <td>148.1</td>\n",
              "      <td>Não</td>\n",
              "    </tr>\n",
              "    <tr>\n",
              "      <th>737</th>\n",
              "      <td>738</td>\n",
              "      <td>33.2</td>\n",
              "      <td>140</td>\n",
              "      <td>61</td>\n",
              "      <td>Normal</td>\n",
              "      <td>133.8</td>\n",
              "      <td>NaN</td>\n",
              "      <td>86.0</td>\n",
              "      <td>Não</td>\n",
              "    </tr>\n",
              "    <tr>\n",
              "      <th>839</th>\n",
              "      <td>840</td>\n",
              "      <td>36.1</td>\n",
              "      <td>116</td>\n",
              "      <td>83</td>\n",
              "      <td>Normal</td>\n",
              "      <td>134.2</td>\n",
              "      <td>NaN</td>\n",
              "      <td>160.4</td>\n",
              "      <td>Não</td>\n",
              "    </tr>\n",
              "    <tr>\n",
              "      <th>936</th>\n",
              "      <td>937</td>\n",
              "      <td>23.3</td>\n",
              "      <td>166</td>\n",
              "      <td>76</td>\n",
              "      <td>Normal</td>\n",
              "      <td>138.0</td>\n",
              "      <td>NaN</td>\n",
              "      <td>107.7</td>\n",
              "      <td>Não</td>\n",
              "    </tr>\n",
              "  </tbody>\n",
              "</table>\n",
              "</div>\n",
              "      <button class=\"colab-df-convert\" onclick=\"convertToInteractive('df-873c3014-00a8-4b17-be90-7efd761506cb')\"\n",
              "              title=\"Convert this dataframe to an interactive table.\"\n",
              "              style=\"display:none;\">\n",
              "        \n",
              "  <svg xmlns=\"http://www.w3.org/2000/svg\" height=\"24px\"viewBox=\"0 0 24 24\"\n",
              "       width=\"24px\">\n",
              "    <path d=\"M0 0h24v24H0V0z\" fill=\"none\"/>\n",
              "    <path d=\"M18.56 5.44l.94 2.06.94-2.06 2.06-.94-2.06-.94-.94-2.06-.94 2.06-2.06.94zm-11 1L8.5 8.5l.94-2.06 2.06-.94-2.06-.94L8.5 2.5l-.94 2.06-2.06.94zm10 10l.94 2.06.94-2.06 2.06-.94-2.06-.94-.94-2.06-.94 2.06-2.06.94z\"/><path d=\"M17.41 7.96l-1.37-1.37c-.4-.4-.92-.59-1.43-.59-.52 0-1.04.2-1.43.59L10.3 9.45l-7.72 7.72c-.78.78-.78 2.05 0 2.83L4 21.41c.39.39.9.59 1.41.59.51 0 1.02-.2 1.41-.59l7.78-7.78 2.81-2.81c.8-.78.8-2.07 0-2.86zM5.41 20L4 18.59l7.72-7.72 1.47 1.35L5.41 20z\"/>\n",
              "  </svg>\n",
              "      </button>\n",
              "      \n",
              "  <style>\n",
              "    .colab-df-container {\n",
              "      display:flex;\n",
              "      flex-wrap:wrap;\n",
              "      gap: 12px;\n",
              "    }\n",
              "\n",
              "    .colab-df-convert {\n",
              "      background-color: #E8F0FE;\n",
              "      border: none;\n",
              "      border-radius: 50%;\n",
              "      cursor: pointer;\n",
              "      display: none;\n",
              "      fill: #1967D2;\n",
              "      height: 32px;\n",
              "      padding: 0 0 0 0;\n",
              "      width: 32px;\n",
              "    }\n",
              "\n",
              "    .colab-df-convert:hover {\n",
              "      background-color: #E2EBFA;\n",
              "      box-shadow: 0px 1px 2px rgba(60, 64, 67, 0.3), 0px 1px 3px 1px rgba(60, 64, 67, 0.15);\n",
              "      fill: #174EA6;\n",
              "    }\n",
              "\n",
              "    [theme=dark] .colab-df-convert {\n",
              "      background-color: #3B4455;\n",
              "      fill: #D2E3FC;\n",
              "    }\n",
              "\n",
              "    [theme=dark] .colab-df-convert:hover {\n",
              "      background-color: #434B5C;\n",
              "      box-shadow: 0px 1px 3px 1px rgba(0, 0, 0, 0.15);\n",
              "      filter: drop-shadow(0px 1px 2px rgba(0, 0, 0, 0.3));\n",
              "      fill: #FFFFFF;\n",
              "    }\n",
              "  </style>\n",
              "\n",
              "      <script>\n",
              "        const buttonEl =\n",
              "          document.querySelector('#df-873c3014-00a8-4b17-be90-7efd761506cb button.colab-df-convert');\n",
              "        buttonEl.style.display =\n",
              "          google.colab.kernel.accessAllowed ? 'block' : 'none';\n",
              "\n",
              "        async function convertToInteractive(key) {\n",
              "          const element = document.querySelector('#df-873c3014-00a8-4b17-be90-7efd761506cb');\n",
              "          const dataTable =\n",
              "            await google.colab.kernel.invokeFunction('convertToInteractive',\n",
              "                                                     [key], {});\n",
              "          if (!dataTable) return;\n",
              "\n",
              "          const docLinkHtml = 'Like what you see? Visit the ' +\n",
              "            '<a target=\"_blank\" href=https://colab.research.google.com/notebooks/data_table.ipynb>data table notebook</a>'\n",
              "            + ' to learn more about interactive tables.';\n",
              "          element.innerHTML = '';\n",
              "          dataTable['output_type'] = 'display_data';\n",
              "          await google.colab.output.renderOutput(dataTable, element);\n",
              "          const docLink = document.createElement('div');\n",
              "          docLink.innerHTML = docLinkHtml;\n",
              "          element.appendChild(docLink);\n",
              "        }\n",
              "      </script>\n",
              "    </div>\n",
              "  </div>\n",
              "  "
            ]
          },
          "metadata": {},
          "execution_count": 23
        }
      ]
    },
    {
      "cell_type": "code",
      "source": [
        "# Verificando os registros com valores nulos (dados perfil)\n",
        "dados_perfil.loc[dados_perfil['Idade'].isnull()]"
      ],
      "metadata": {
        "colab": {
          "base_uri": "https://localhost:8080/",
          "height": 363
        },
        "id": "WM6AfAHWp4M1",
        "outputId": "e2375c67-8fd6-4c01-900e-cec4d98a841a"
      },
      "execution_count": 24,
      "outputs": [
        {
          "output_type": "execute_result",
          "data": {
            "text/plain": [
              "      ID Gênero  Idade Consumo de Álcool    Atividade Física  cod_uf\n",
              "92    93      F    NaN             Baixo  Atividade Moderada      33\n",
              "162  163      M    NaN             Baixo          Sedentário      41\n",
              "163  164      F    NaN             Baixo               Ativo      28\n",
              "164  165      F    NaN             Baixo  Atividade Moderada      41\n",
              "205  206      M    NaN             Baixo               Ativo      12\n",
              "833  834      M    NaN          Moderado               Ativo      53\n",
              "841  842      F    NaN              Alto  Atividade Moderada      43\n",
              "894  895      F    NaN          Moderado  Atividade Moderada      43\n",
              "971  972      M    NaN              Alto  Atividade Moderada      53\n",
              "995  996      F    NaN          Moderado          Sedentário      23"
            ],
            "text/html": [
              "\n",
              "  <div id=\"df-18f0bddc-9964-43d9-b28d-26a465a988a0\">\n",
              "    <div class=\"colab-df-container\">\n",
              "      <div>\n",
              "<style scoped>\n",
              "    .dataframe tbody tr th:only-of-type {\n",
              "        vertical-align: middle;\n",
              "    }\n",
              "\n",
              "    .dataframe tbody tr th {\n",
              "        vertical-align: top;\n",
              "    }\n",
              "\n",
              "    .dataframe thead th {\n",
              "        text-align: right;\n",
              "    }\n",
              "</style>\n",
              "<table border=\"1\" class=\"dataframe\">\n",
              "  <thead>\n",
              "    <tr style=\"text-align: right;\">\n",
              "      <th></th>\n",
              "      <th>ID</th>\n",
              "      <th>Gênero</th>\n",
              "      <th>Idade</th>\n",
              "      <th>Consumo de Álcool</th>\n",
              "      <th>Atividade Física</th>\n",
              "      <th>cod_uf</th>\n",
              "    </tr>\n",
              "  </thead>\n",
              "  <tbody>\n",
              "    <tr>\n",
              "      <th>92</th>\n",
              "      <td>93</td>\n",
              "      <td>F</td>\n",
              "      <td>NaN</td>\n",
              "      <td>Baixo</td>\n",
              "      <td>Atividade Moderada</td>\n",
              "      <td>33</td>\n",
              "    </tr>\n",
              "    <tr>\n",
              "      <th>162</th>\n",
              "      <td>163</td>\n",
              "      <td>M</td>\n",
              "      <td>NaN</td>\n",
              "      <td>Baixo</td>\n",
              "      <td>Sedentário</td>\n",
              "      <td>41</td>\n",
              "    </tr>\n",
              "    <tr>\n",
              "      <th>163</th>\n",
              "      <td>164</td>\n",
              "      <td>F</td>\n",
              "      <td>NaN</td>\n",
              "      <td>Baixo</td>\n",
              "      <td>Ativo</td>\n",
              "      <td>28</td>\n",
              "    </tr>\n",
              "    <tr>\n",
              "      <th>164</th>\n",
              "      <td>165</td>\n",
              "      <td>F</td>\n",
              "      <td>NaN</td>\n",
              "      <td>Baixo</td>\n",
              "      <td>Atividade Moderada</td>\n",
              "      <td>41</td>\n",
              "    </tr>\n",
              "    <tr>\n",
              "      <th>205</th>\n",
              "      <td>206</td>\n",
              "      <td>M</td>\n",
              "      <td>NaN</td>\n",
              "      <td>Baixo</td>\n",
              "      <td>Ativo</td>\n",
              "      <td>12</td>\n",
              "    </tr>\n",
              "    <tr>\n",
              "      <th>833</th>\n",
              "      <td>834</td>\n",
              "      <td>M</td>\n",
              "      <td>NaN</td>\n",
              "      <td>Moderado</td>\n",
              "      <td>Ativo</td>\n",
              "      <td>53</td>\n",
              "    </tr>\n",
              "    <tr>\n",
              "      <th>841</th>\n",
              "      <td>842</td>\n",
              "      <td>F</td>\n",
              "      <td>NaN</td>\n",
              "      <td>Alto</td>\n",
              "      <td>Atividade Moderada</td>\n",
              "      <td>43</td>\n",
              "    </tr>\n",
              "    <tr>\n",
              "      <th>894</th>\n",
              "      <td>895</td>\n",
              "      <td>F</td>\n",
              "      <td>NaN</td>\n",
              "      <td>Moderado</td>\n",
              "      <td>Atividade Moderada</td>\n",
              "      <td>43</td>\n",
              "    </tr>\n",
              "    <tr>\n",
              "      <th>971</th>\n",
              "      <td>972</td>\n",
              "      <td>M</td>\n",
              "      <td>NaN</td>\n",
              "      <td>Alto</td>\n",
              "      <td>Atividade Moderada</td>\n",
              "      <td>53</td>\n",
              "    </tr>\n",
              "    <tr>\n",
              "      <th>995</th>\n",
              "      <td>996</td>\n",
              "      <td>F</td>\n",
              "      <td>NaN</td>\n",
              "      <td>Moderado</td>\n",
              "      <td>Sedentário</td>\n",
              "      <td>23</td>\n",
              "    </tr>\n",
              "  </tbody>\n",
              "</table>\n",
              "</div>\n",
              "      <button class=\"colab-df-convert\" onclick=\"convertToInteractive('df-18f0bddc-9964-43d9-b28d-26a465a988a0')\"\n",
              "              title=\"Convert this dataframe to an interactive table.\"\n",
              "              style=\"display:none;\">\n",
              "        \n",
              "  <svg xmlns=\"http://www.w3.org/2000/svg\" height=\"24px\"viewBox=\"0 0 24 24\"\n",
              "       width=\"24px\">\n",
              "    <path d=\"M0 0h24v24H0V0z\" fill=\"none\"/>\n",
              "    <path d=\"M18.56 5.44l.94 2.06.94-2.06 2.06-.94-2.06-.94-.94-2.06-.94 2.06-2.06.94zm-11 1L8.5 8.5l.94-2.06 2.06-.94-2.06-.94L8.5 2.5l-.94 2.06-2.06.94zm10 10l.94 2.06.94-2.06 2.06-.94-2.06-.94-.94-2.06-.94 2.06-2.06.94z\"/><path d=\"M17.41 7.96l-1.37-1.37c-.4-.4-.92-.59-1.43-.59-.52 0-1.04.2-1.43.59L10.3 9.45l-7.72 7.72c-.78.78-.78 2.05 0 2.83L4 21.41c.39.39.9.59 1.41.59.51 0 1.02-.2 1.41-.59l7.78-7.78 2.81-2.81c.8-.78.8-2.07 0-2.86zM5.41 20L4 18.59l7.72-7.72 1.47 1.35L5.41 20z\"/>\n",
              "  </svg>\n",
              "      </button>\n",
              "      \n",
              "  <style>\n",
              "    .colab-df-container {\n",
              "      display:flex;\n",
              "      flex-wrap:wrap;\n",
              "      gap: 12px;\n",
              "    }\n",
              "\n",
              "    .colab-df-convert {\n",
              "      background-color: #E8F0FE;\n",
              "      border: none;\n",
              "      border-radius: 50%;\n",
              "      cursor: pointer;\n",
              "      display: none;\n",
              "      fill: #1967D2;\n",
              "      height: 32px;\n",
              "      padding: 0 0 0 0;\n",
              "      width: 32px;\n",
              "    }\n",
              "\n",
              "    .colab-df-convert:hover {\n",
              "      background-color: #E2EBFA;\n",
              "      box-shadow: 0px 1px 2px rgba(60, 64, 67, 0.3), 0px 1px 3px 1px rgba(60, 64, 67, 0.15);\n",
              "      fill: #174EA6;\n",
              "    }\n",
              "\n",
              "    [theme=dark] .colab-df-convert {\n",
              "      background-color: #3B4455;\n",
              "      fill: #D2E3FC;\n",
              "    }\n",
              "\n",
              "    [theme=dark] .colab-df-convert:hover {\n",
              "      background-color: #434B5C;\n",
              "      box-shadow: 0px 1px 3px 1px rgba(0, 0, 0, 0.15);\n",
              "      filter: drop-shadow(0px 1px 2px rgba(0, 0, 0, 0.3));\n",
              "      fill: #FFFFFF;\n",
              "    }\n",
              "  </style>\n",
              "\n",
              "      <script>\n",
              "        const buttonEl =\n",
              "          document.querySelector('#df-18f0bddc-9964-43d9-b28d-26a465a988a0 button.colab-df-convert');\n",
              "        buttonEl.style.display =\n",
              "          google.colab.kernel.accessAllowed ? 'block' : 'none';\n",
              "\n",
              "        async function convertToInteractive(key) {\n",
              "          const element = document.querySelector('#df-18f0bddc-9964-43d9-b28d-26a465a988a0');\n",
              "          const dataTable =\n",
              "            await google.colab.kernel.invokeFunction('convertToInteractive',\n",
              "                                                     [key], {});\n",
              "          if (!dataTable) return;\n",
              "\n",
              "          const docLinkHtml = 'Like what you see? Visit the ' +\n",
              "            '<a target=\"_blank\" href=https://colab.research.google.com/notebooks/data_table.ipynb>data table notebook</a>'\n",
              "            + ' to learn more about interactive tables.';\n",
              "          element.innerHTML = '';\n",
              "          dataTable['output_type'] = 'display_data';\n",
              "          await google.colab.output.renderOutput(dataTable, element);\n",
              "          const docLink = document.createElement('div');\n",
              "          docLink.innerHTML = docLinkHtml;\n",
              "          element.appendChild(docLink);\n",
              "        }\n",
              "      </script>\n",
              "    </div>\n",
              "  </div>\n",
              "  "
            ]
          },
          "metadata": {},
          "execution_count": 24
        }
      ]
    },
    {
      "cell_type": "markdown",
      "source": [
        "# Tratamento de dados **numéricos** coletados"
      ],
      "metadata": {
        "id": "WOWWt2SFqPGB"
      }
    },
    {
      "cell_type": "markdown",
      "source": [
        "## Eliminação de dados"
      ],
      "metadata": {
        "id": "sM1R08_cqnY2"
      }
    },
    {
      "cell_type": "code",
      "source": [
        "# Eliminando dados ausentes de dados perfil (Idade, não faz sentido algum fazer a média entre as idades, por isso, \n",
        "# iremos excluir os registros nulos)\n",
        "dados_perfil.dropna(subset=['Idade'], inplace=True)\n",
        "dados_perfil"
      ],
      "metadata": {
        "colab": {
          "base_uri": "https://localhost:8080/",
          "height": 423
        },
        "id": "IHTFGw1wqJtr",
        "outputId": "5ed63756-81ca-4881-9ad5-f03a468e8646"
      },
      "execution_count": 27,
      "outputs": [
        {
          "output_type": "execute_result",
          "data": {
            "text/plain": [
              "       ID Gênero  Idade Consumo de Álcool    Atividade Física  cod_uf\n",
              "0       1      M   74.0          Moderado  Atividade Moderada      31\n",
              "1       2      F   34.0             Baixo  Atividade Moderada      35\n",
              "2       3      M   18.0          Moderado  Atividade Moderada      29\n",
              "3       4      M   72.0             Baixo          Sedentário      15\n",
              "4       5      F   63.0             Baixo  Atividade Moderada      41\n",
              "..    ...    ...    ...               ...                 ...     ...\n",
              "994   995      F   18.0              Alto          Sedentário      31\n",
              "996   997      M   24.0             Baixo               Ativo      23\n",
              "997   998      M   78.0             Baixo  Atividade Moderada      41\n",
              "998   999      M   57.0             Baixo  Atividade Moderada      51\n",
              "999  1000      M   27.0             Baixo               Ativo      12\n",
              "\n",
              "[990 rows x 6 columns]"
            ],
            "text/html": [
              "\n",
              "  <div id=\"df-182f495d-2f13-45df-96e8-cd86fc5e430b\">\n",
              "    <div class=\"colab-df-container\">\n",
              "      <div>\n",
              "<style scoped>\n",
              "    .dataframe tbody tr th:only-of-type {\n",
              "        vertical-align: middle;\n",
              "    }\n",
              "\n",
              "    .dataframe tbody tr th {\n",
              "        vertical-align: top;\n",
              "    }\n",
              "\n",
              "    .dataframe thead th {\n",
              "        text-align: right;\n",
              "    }\n",
              "</style>\n",
              "<table border=\"1\" class=\"dataframe\">\n",
              "  <thead>\n",
              "    <tr style=\"text-align: right;\">\n",
              "      <th></th>\n",
              "      <th>ID</th>\n",
              "      <th>Gênero</th>\n",
              "      <th>Idade</th>\n",
              "      <th>Consumo de Álcool</th>\n",
              "      <th>Atividade Física</th>\n",
              "      <th>cod_uf</th>\n",
              "    </tr>\n",
              "  </thead>\n",
              "  <tbody>\n",
              "    <tr>\n",
              "      <th>0</th>\n",
              "      <td>1</td>\n",
              "      <td>M</td>\n",
              "      <td>74.0</td>\n",
              "      <td>Moderado</td>\n",
              "      <td>Atividade Moderada</td>\n",
              "      <td>31</td>\n",
              "    </tr>\n",
              "    <tr>\n",
              "      <th>1</th>\n",
              "      <td>2</td>\n",
              "      <td>F</td>\n",
              "      <td>34.0</td>\n",
              "      <td>Baixo</td>\n",
              "      <td>Atividade Moderada</td>\n",
              "      <td>35</td>\n",
              "    </tr>\n",
              "    <tr>\n",
              "      <th>2</th>\n",
              "      <td>3</td>\n",
              "      <td>M</td>\n",
              "      <td>18.0</td>\n",
              "      <td>Moderado</td>\n",
              "      <td>Atividade Moderada</td>\n",
              "      <td>29</td>\n",
              "    </tr>\n",
              "    <tr>\n",
              "      <th>3</th>\n",
              "      <td>4</td>\n",
              "      <td>M</td>\n",
              "      <td>72.0</td>\n",
              "      <td>Baixo</td>\n",
              "      <td>Sedentário</td>\n",
              "      <td>15</td>\n",
              "    </tr>\n",
              "    <tr>\n",
              "      <th>4</th>\n",
              "      <td>5</td>\n",
              "      <td>F</td>\n",
              "      <td>63.0</td>\n",
              "      <td>Baixo</td>\n",
              "      <td>Atividade Moderada</td>\n",
              "      <td>41</td>\n",
              "    </tr>\n",
              "    <tr>\n",
              "      <th>...</th>\n",
              "      <td>...</td>\n",
              "      <td>...</td>\n",
              "      <td>...</td>\n",
              "      <td>...</td>\n",
              "      <td>...</td>\n",
              "      <td>...</td>\n",
              "    </tr>\n",
              "    <tr>\n",
              "      <th>994</th>\n",
              "      <td>995</td>\n",
              "      <td>F</td>\n",
              "      <td>18.0</td>\n",
              "      <td>Alto</td>\n",
              "      <td>Sedentário</td>\n",
              "      <td>31</td>\n",
              "    </tr>\n",
              "    <tr>\n",
              "      <th>996</th>\n",
              "      <td>997</td>\n",
              "      <td>M</td>\n",
              "      <td>24.0</td>\n",
              "      <td>Baixo</td>\n",
              "      <td>Ativo</td>\n",
              "      <td>23</td>\n",
              "    </tr>\n",
              "    <tr>\n",
              "      <th>997</th>\n",
              "      <td>998</td>\n",
              "      <td>M</td>\n",
              "      <td>78.0</td>\n",
              "      <td>Baixo</td>\n",
              "      <td>Atividade Moderada</td>\n",
              "      <td>41</td>\n",
              "    </tr>\n",
              "    <tr>\n",
              "      <th>998</th>\n",
              "      <td>999</td>\n",
              "      <td>M</td>\n",
              "      <td>57.0</td>\n",
              "      <td>Baixo</td>\n",
              "      <td>Atividade Moderada</td>\n",
              "      <td>51</td>\n",
              "    </tr>\n",
              "    <tr>\n",
              "      <th>999</th>\n",
              "      <td>1000</td>\n",
              "      <td>M</td>\n",
              "      <td>27.0</td>\n",
              "      <td>Baixo</td>\n",
              "      <td>Ativo</td>\n",
              "      <td>12</td>\n",
              "    </tr>\n",
              "  </tbody>\n",
              "</table>\n",
              "<p>990 rows × 6 columns</p>\n",
              "</div>\n",
              "      <button class=\"colab-df-convert\" onclick=\"convertToInteractive('df-182f495d-2f13-45df-96e8-cd86fc5e430b')\"\n",
              "              title=\"Convert this dataframe to an interactive table.\"\n",
              "              style=\"display:none;\">\n",
              "        \n",
              "  <svg xmlns=\"http://www.w3.org/2000/svg\" height=\"24px\"viewBox=\"0 0 24 24\"\n",
              "       width=\"24px\">\n",
              "    <path d=\"M0 0h24v24H0V0z\" fill=\"none\"/>\n",
              "    <path d=\"M18.56 5.44l.94 2.06.94-2.06 2.06-.94-2.06-.94-.94-2.06-.94 2.06-2.06.94zm-11 1L8.5 8.5l.94-2.06 2.06-.94-2.06-.94L8.5 2.5l-.94 2.06-2.06.94zm10 10l.94 2.06.94-2.06 2.06-.94-2.06-.94-.94-2.06-.94 2.06-2.06.94z\"/><path d=\"M17.41 7.96l-1.37-1.37c-.4-.4-.92-.59-1.43-.59-.52 0-1.04.2-1.43.59L10.3 9.45l-7.72 7.72c-.78.78-.78 2.05 0 2.83L4 21.41c.39.39.9.59 1.41.59.51 0 1.02-.2 1.41-.59l7.78-7.78 2.81-2.81c.8-.78.8-2.07 0-2.86zM5.41 20L4 18.59l7.72-7.72 1.47 1.35L5.41 20z\"/>\n",
              "  </svg>\n",
              "      </button>\n",
              "      \n",
              "  <style>\n",
              "    .colab-df-container {\n",
              "      display:flex;\n",
              "      flex-wrap:wrap;\n",
              "      gap: 12px;\n",
              "    }\n",
              "\n",
              "    .colab-df-convert {\n",
              "      background-color: #E8F0FE;\n",
              "      border: none;\n",
              "      border-radius: 50%;\n",
              "      cursor: pointer;\n",
              "      display: none;\n",
              "      fill: #1967D2;\n",
              "      height: 32px;\n",
              "      padding: 0 0 0 0;\n",
              "      width: 32px;\n",
              "    }\n",
              "\n",
              "    .colab-df-convert:hover {\n",
              "      background-color: #E2EBFA;\n",
              "      box-shadow: 0px 1px 2px rgba(60, 64, 67, 0.3), 0px 1px 3px 1px rgba(60, 64, 67, 0.15);\n",
              "      fill: #174EA6;\n",
              "    }\n",
              "\n",
              "    [theme=dark] .colab-df-convert {\n",
              "      background-color: #3B4455;\n",
              "      fill: #D2E3FC;\n",
              "    }\n",
              "\n",
              "    [theme=dark] .colab-df-convert:hover {\n",
              "      background-color: #434B5C;\n",
              "      box-shadow: 0px 1px 3px 1px rgba(0, 0, 0, 0.15);\n",
              "      filter: drop-shadow(0px 1px 2px rgba(0, 0, 0, 0.3));\n",
              "      fill: #FFFFFF;\n",
              "    }\n",
              "  </style>\n",
              "\n",
              "      <script>\n",
              "        const buttonEl =\n",
              "          document.querySelector('#df-182f495d-2f13-45df-96e8-cd86fc5e430b button.colab-df-convert');\n",
              "        buttonEl.style.display =\n",
              "          google.colab.kernel.accessAllowed ? 'block' : 'none';\n",
              "\n",
              "        async function convertToInteractive(key) {\n",
              "          const element = document.querySelector('#df-182f495d-2f13-45df-96e8-cd86fc5e430b');\n",
              "          const dataTable =\n",
              "            await google.colab.kernel.invokeFunction('convertToInteractive',\n",
              "                                                     [key], {});\n",
              "          if (!dataTable) return;\n",
              "\n",
              "          const docLinkHtml = 'Like what you see? Visit the ' +\n",
              "            '<a target=\"_blank\" href=https://colab.research.google.com/notebooks/data_table.ipynb>data table notebook</a>'\n",
              "            + ' to learn more about interactive tables.';\n",
              "          element.innerHTML = '';\n",
              "          dataTable['output_type'] = 'display_data';\n",
              "          await google.colab.output.renderOutput(dataTable, element);\n",
              "          const docLink = document.createElement('div');\n",
              "          docLink.innerHTML = docLinkHtml;\n",
              "          element.appendChild(docLink);\n",
              "        }\n",
              "      </script>\n",
              "    </div>\n",
              "  </div>\n",
              "  "
            ]
          },
          "metadata": {},
          "execution_count": 27
        }
      ]
    },
    {
      "cell_type": "code",
      "source": [
        "dados_perfil.isna().sum()"
      ],
      "metadata": {
        "colab": {
          "base_uri": "https://localhost:8080/"
        },
        "id": "fitAsDvjq2fl",
        "outputId": "e09f650e-5b5d-4c7b-a421-c93ea8a1f91b"
      },
      "execution_count": 28,
      "outputs": [
        {
          "output_type": "execute_result",
          "data": {
            "text/plain": [
              "ID                   0\n",
              "Gênero               0\n",
              "Idade                0\n",
              "Consumo de Álcool    0\n",
              "Atividade Física     0\n",
              "cod_uf               0\n",
              "dtype: int64"
            ]
          },
          "metadata": {},
          "execution_count": 28
        }
      ]
    },
    {
      "cell_type": "markdown",
      "source": [
        "De fato, removemos os valores nulos do dataframe."
      ],
      "metadata": {
        "id": "VhlGybp0rKjT"
      }
    },
    {
      "cell_type": "code",
      "source": [
        "dados_perfil.count()"
      ],
      "metadata": {
        "colab": {
          "base_uri": "https://localhost:8080/"
        },
        "id": "Y2WrK7bbrJpj",
        "outputId": "65b80c95-bdad-47e3-8600-d278a4357249"
      },
      "execution_count": 29,
      "outputs": [
        {
          "output_type": "execute_result",
          "data": {
            "text/plain": [
              "ID                   990\n",
              "Gênero               990\n",
              "Idade                990\n",
              "Consumo de Álcool    990\n",
              "Atividade Física     990\n",
              "cod_uf               990\n",
              "dtype: int64"
            ]
          },
          "metadata": {},
          "execution_count": 29
        }
      ]
    },
    {
      "cell_type": "markdown",
      "source": [
        "## Corrigindo dados ausentes por outras medidas (média/mediana)"
      ],
      "metadata": {
        "id": "LM-rGumfrVnX"
      }
    },
    {
      "cell_type": "code",
      "source": [
        "# Visualizando estatísticas do dataset de dados médicos\n",
        "dados_medicos.describe()"
      ],
      "metadata": {
        "colab": {
          "base_uri": "https://localhost:8080/",
          "height": 300
        },
        "id": "yTdwnbsIrSjw",
        "outputId": "f39e40ce-2765-4ae8-a3b9-fadb28f8833e"
      },
      "execution_count": 31,
      "outputs": [
        {
          "output_type": "execute_result",
          "data": {
            "text/plain": [
              "                ID          IMC  Pressão Sistólica  Pressão Diastólica  \\\n",
              "count  1000.000000  1000.000000        1000.000000         1000.000000   \n",
              "mean    500.500000    28.909900         130.038000           80.299000   \n",
              "std     288.819436     6.431569          23.175151           11.966737   \n",
              "min       1.000000    18.000000          90.000000           60.000000   \n",
              "25%     250.750000    23.300000         111.000000           70.000000   \n",
              "50%     500.500000    28.500000         129.000000           81.000000   \n",
              "75%     750.250000    34.900000         150.000000           90.000000   \n",
              "max    1000.000000    40.000000         170.000000          100.000000   \n",
              "\n",
              "              peso  Colesterol Total  Triglicerídeos  \n",
              "count  1000.000000        989.000000     1000.000000  \n",
              "mean    150.796100        193.219717      147.386100  \n",
              "std      26.447694         32.007185       36.455399  \n",
              "min      67.500000         96.400000       49.200000  \n",
              "25%     133.975000        173.000000      122.675000  \n",
              "50%     150.750000        194.300000      147.500000  \n",
              "75%     169.425000        214.300000      170.350000  \n",
              "max     234.400000        293.200000      259.300000  "
            ],
            "text/html": [
              "\n",
              "  <div id=\"df-fe8ff618-2c32-4fa8-ad5f-a757b331fd36\">\n",
              "    <div class=\"colab-df-container\">\n",
              "      <div>\n",
              "<style scoped>\n",
              "    .dataframe tbody tr th:only-of-type {\n",
              "        vertical-align: middle;\n",
              "    }\n",
              "\n",
              "    .dataframe tbody tr th {\n",
              "        vertical-align: top;\n",
              "    }\n",
              "\n",
              "    .dataframe thead th {\n",
              "        text-align: right;\n",
              "    }\n",
              "</style>\n",
              "<table border=\"1\" class=\"dataframe\">\n",
              "  <thead>\n",
              "    <tr style=\"text-align: right;\">\n",
              "      <th></th>\n",
              "      <th>ID</th>\n",
              "      <th>IMC</th>\n",
              "      <th>Pressão Sistólica</th>\n",
              "      <th>Pressão Diastólica</th>\n",
              "      <th>peso</th>\n",
              "      <th>Colesterol Total</th>\n",
              "      <th>Triglicerídeos</th>\n",
              "    </tr>\n",
              "  </thead>\n",
              "  <tbody>\n",
              "    <tr>\n",
              "      <th>count</th>\n",
              "      <td>1000.000000</td>\n",
              "      <td>1000.000000</td>\n",
              "      <td>1000.000000</td>\n",
              "      <td>1000.000000</td>\n",
              "      <td>1000.000000</td>\n",
              "      <td>989.000000</td>\n",
              "      <td>1000.000000</td>\n",
              "    </tr>\n",
              "    <tr>\n",
              "      <th>mean</th>\n",
              "      <td>500.500000</td>\n",
              "      <td>28.909900</td>\n",
              "      <td>130.038000</td>\n",
              "      <td>80.299000</td>\n",
              "      <td>150.796100</td>\n",
              "      <td>193.219717</td>\n",
              "      <td>147.386100</td>\n",
              "    </tr>\n",
              "    <tr>\n",
              "      <th>std</th>\n",
              "      <td>288.819436</td>\n",
              "      <td>6.431569</td>\n",
              "      <td>23.175151</td>\n",
              "      <td>11.966737</td>\n",
              "      <td>26.447694</td>\n",
              "      <td>32.007185</td>\n",
              "      <td>36.455399</td>\n",
              "    </tr>\n",
              "    <tr>\n",
              "      <th>min</th>\n",
              "      <td>1.000000</td>\n",
              "      <td>18.000000</td>\n",
              "      <td>90.000000</td>\n",
              "      <td>60.000000</td>\n",
              "      <td>67.500000</td>\n",
              "      <td>96.400000</td>\n",
              "      <td>49.200000</td>\n",
              "    </tr>\n",
              "    <tr>\n",
              "      <th>25%</th>\n",
              "      <td>250.750000</td>\n",
              "      <td>23.300000</td>\n",
              "      <td>111.000000</td>\n",
              "      <td>70.000000</td>\n",
              "      <td>133.975000</td>\n",
              "      <td>173.000000</td>\n",
              "      <td>122.675000</td>\n",
              "    </tr>\n",
              "    <tr>\n",
              "      <th>50%</th>\n",
              "      <td>500.500000</td>\n",
              "      <td>28.500000</td>\n",
              "      <td>129.000000</td>\n",
              "      <td>81.000000</td>\n",
              "      <td>150.750000</td>\n",
              "      <td>194.300000</td>\n",
              "      <td>147.500000</td>\n",
              "    </tr>\n",
              "    <tr>\n",
              "      <th>75%</th>\n",
              "      <td>750.250000</td>\n",
              "      <td>34.900000</td>\n",
              "      <td>150.000000</td>\n",
              "      <td>90.000000</td>\n",
              "      <td>169.425000</td>\n",
              "      <td>214.300000</td>\n",
              "      <td>170.350000</td>\n",
              "    </tr>\n",
              "    <tr>\n",
              "      <th>max</th>\n",
              "      <td>1000.000000</td>\n",
              "      <td>40.000000</td>\n",
              "      <td>170.000000</td>\n",
              "      <td>100.000000</td>\n",
              "      <td>234.400000</td>\n",
              "      <td>293.200000</td>\n",
              "      <td>259.300000</td>\n",
              "    </tr>\n",
              "  </tbody>\n",
              "</table>\n",
              "</div>\n",
              "      <button class=\"colab-df-convert\" onclick=\"convertToInteractive('df-fe8ff618-2c32-4fa8-ad5f-a757b331fd36')\"\n",
              "              title=\"Convert this dataframe to an interactive table.\"\n",
              "              style=\"display:none;\">\n",
              "        \n",
              "  <svg xmlns=\"http://www.w3.org/2000/svg\" height=\"24px\"viewBox=\"0 0 24 24\"\n",
              "       width=\"24px\">\n",
              "    <path d=\"M0 0h24v24H0V0z\" fill=\"none\"/>\n",
              "    <path d=\"M18.56 5.44l.94 2.06.94-2.06 2.06-.94-2.06-.94-.94-2.06-.94 2.06-2.06.94zm-11 1L8.5 8.5l.94-2.06 2.06-.94-2.06-.94L8.5 2.5l-.94 2.06-2.06.94zm10 10l.94 2.06.94-2.06 2.06-.94-2.06-.94-.94-2.06-.94 2.06-2.06.94z\"/><path d=\"M17.41 7.96l-1.37-1.37c-.4-.4-.92-.59-1.43-.59-.52 0-1.04.2-1.43.59L10.3 9.45l-7.72 7.72c-.78.78-.78 2.05 0 2.83L4 21.41c.39.39.9.59 1.41.59.51 0 1.02-.2 1.41-.59l7.78-7.78 2.81-2.81c.8-.78.8-2.07 0-2.86zM5.41 20L4 18.59l7.72-7.72 1.47 1.35L5.41 20z\"/>\n",
              "  </svg>\n",
              "      </button>\n",
              "      \n",
              "  <style>\n",
              "    .colab-df-container {\n",
              "      display:flex;\n",
              "      flex-wrap:wrap;\n",
              "      gap: 12px;\n",
              "    }\n",
              "\n",
              "    .colab-df-convert {\n",
              "      background-color: #E8F0FE;\n",
              "      border: none;\n",
              "      border-radius: 50%;\n",
              "      cursor: pointer;\n",
              "      display: none;\n",
              "      fill: #1967D2;\n",
              "      height: 32px;\n",
              "      padding: 0 0 0 0;\n",
              "      width: 32px;\n",
              "    }\n",
              "\n",
              "    .colab-df-convert:hover {\n",
              "      background-color: #E2EBFA;\n",
              "      box-shadow: 0px 1px 2px rgba(60, 64, 67, 0.3), 0px 1px 3px 1px rgba(60, 64, 67, 0.15);\n",
              "      fill: #174EA6;\n",
              "    }\n",
              "\n",
              "    [theme=dark] .colab-df-convert {\n",
              "      background-color: #3B4455;\n",
              "      fill: #D2E3FC;\n",
              "    }\n",
              "\n",
              "    [theme=dark] .colab-df-convert:hover {\n",
              "      background-color: #434B5C;\n",
              "      box-shadow: 0px 1px 3px 1px rgba(0, 0, 0, 0.15);\n",
              "      filter: drop-shadow(0px 1px 2px rgba(0, 0, 0, 0.3));\n",
              "      fill: #FFFFFF;\n",
              "    }\n",
              "  </style>\n",
              "\n",
              "      <script>\n",
              "        const buttonEl =\n",
              "          document.querySelector('#df-fe8ff618-2c32-4fa8-ad5f-a757b331fd36 button.colab-df-convert');\n",
              "        buttonEl.style.display =\n",
              "          google.colab.kernel.accessAllowed ? 'block' : 'none';\n",
              "\n",
              "        async function convertToInteractive(key) {\n",
              "          const element = document.querySelector('#df-fe8ff618-2c32-4fa8-ad5f-a757b331fd36');\n",
              "          const dataTable =\n",
              "            await google.colab.kernel.invokeFunction('convertToInteractive',\n",
              "                                                     [key], {});\n",
              "          if (!dataTable) return;\n",
              "\n",
              "          const docLinkHtml = 'Like what you see? Visit the ' +\n",
              "            '<a target=\"_blank\" href=https://colab.research.google.com/notebooks/data_table.ipynb>data table notebook</a>'\n",
              "            + ' to learn more about interactive tables.';\n",
              "          element.innerHTML = '';\n",
              "          dataTable['output_type'] = 'display_data';\n",
              "          await google.colab.output.renderOutput(dataTable, element);\n",
              "          const docLink = document.createElement('div');\n",
              "          docLink.innerHTML = docLinkHtml;\n",
              "          element.appendChild(docLink);\n",
              "        }\n",
              "      </script>\n",
              "    </div>\n",
              "  </div>\n",
              "  "
            ]
          },
          "metadata": {},
          "execution_count": 31
        }
      ]
    },
    {
      "cell_type": "code",
      "source": [
        "# Realizando a média e a mediana da variável 'Colesterol Total'\n",
        "media = dados_medicos['Colesterol Total'].mean()\n",
        "mediana = dados_medicos['Colesterol Total'].median()"
      ],
      "metadata": {
        "id": "HCANPsRqri0B"
      },
      "execution_count": 36,
      "outputs": []
    },
    {
      "cell_type": "code",
      "source": [
        "# Verificando os valores\n",
        "print(f'O valor da média é: {media}, e o valor da mediana é: {mediana}')"
      ],
      "metadata": {
        "colab": {
          "base_uri": "https://localhost:8080/"
        },
        "id": "OTe4Hll5r_dg",
        "outputId": "ace29810-4242-4245-9d7a-de667534df2f"
      },
      "execution_count": 37,
      "outputs": [
        {
          "output_type": "stream",
          "name": "stdout",
          "text": [
            "O valor da média é: 193.21971688574317, e o valor da mediana é: 194.3\n"
          ]
        }
      ]
    },
    {
      "cell_type": "code",
      "source": [
        "# Fazendo o arredondamento da variável média\n",
        "round(media,2)"
      ],
      "metadata": {
        "colab": {
          "base_uri": "https://localhost:8080/"
        },
        "id": "aYRFqaPysIiU",
        "outputId": "9d944990-422e-4379-fb6a-3f21b19191fa"
      },
      "execution_count": 38,
      "outputs": [
        {
          "output_type": "execute_result",
          "data": {
            "text/plain": [
              "193.22"
            ]
          },
          "metadata": {},
          "execution_count": 38
        }
      ]
    },
    {
      "cell_type": "code",
      "source": [
        "# Preenchendo os valores ausentes pela média\n",
        "dados_medicos['Colesterol Total'].fillna(round(media,2), inplace=True)"
      ],
      "metadata": {
        "id": "oksfnvGUsnr_"
      },
      "execution_count": 39,
      "outputs": []
    },
    {
      "cell_type": "code",
      "source": [
        "# Verificando se existe algum valor ausente\n",
        "dados_medicos.isna().sum()"
      ],
      "metadata": {
        "colab": {
          "base_uri": "https://localhost:8080/"
        },
        "id": "hGXQAnfqs-kI",
        "outputId": "e19b801b-71f7-4eb9-8fab-6596ea3816a7"
      },
      "execution_count": 40,
      "outputs": [
        {
          "output_type": "execute_result",
          "data": {
            "text/plain": [
              "ID                               0\n",
              "IMC                              0\n",
              "Pressão Sistólica                0\n",
              "Pressão Diastólica               0\n",
              "Nível de Açúcar                  0\n",
              "peso                             0\n",
              "Colesterol Total                 0\n",
              "Triglicerídeos                   0\n",
              "Histórico Familiar - Cardiaco    0\n",
              "dtype: int64"
            ]
          },
          "metadata": {},
          "execution_count": 40
        }
      ]
    },
    {
      "cell_type": "markdown",
      "source": [
        "Não há registros nulos."
      ],
      "metadata": {
        "id": "eDdPjRsxtGil"
      }
    },
    {
      "cell_type": "markdown",
      "source": [
        "# Analisando dados atualizados"
      ],
      "metadata": {
        "id": "zV1QMCzrthKg"
      }
    },
    {
      "cell_type": "code",
      "source": [
        "# Info da base de dados médicos\n",
        "dados_medicos.info()"
      ],
      "metadata": {
        "colab": {
          "base_uri": "https://localhost:8080/"
        },
        "id": "SAV1AcpAtFWo",
        "outputId": "60b6a849-6508-487c-f437-3769779c07f5"
      },
      "execution_count": 47,
      "outputs": [
        {
          "output_type": "stream",
          "name": "stdout",
          "text": [
            "<class 'pandas.core.frame.DataFrame'>\n",
            "RangeIndex: 1000 entries, 0 to 999\n",
            "Data columns (total 9 columns):\n",
            " #   Column                         Non-Null Count  Dtype  \n",
            "---  ------                         --------------  -----  \n",
            " 0   ID                             1000 non-null   int64  \n",
            " 1   IMC                            1000 non-null   float64\n",
            " 2   Pressão Sistólica              1000 non-null   int64  \n",
            " 3   Pressão Diastólica             1000 non-null   int64  \n",
            " 4   Nível de Açúcar                1000 non-null   object \n",
            " 5   peso                           1000 non-null   float64\n",
            " 6   Colesterol Total               1000 non-null   float64\n",
            " 7   Triglicerídeos                 1000 non-null   float64\n",
            " 8   Histórico Familiar - Cardiaco  1000 non-null   object \n",
            "dtypes: float64(4), int64(3), object(2)\n",
            "memory usage: 70.4+ KB\n"
          ]
        }
      ]
    },
    {
      "cell_type": "code",
      "source": [
        "# Describe da base de dados médicos\n",
        "dados_medicos.describe()"
      ],
      "metadata": {
        "colab": {
          "base_uri": "https://localhost:8080/",
          "height": 300
        },
        "id": "O1JqQcPptngu",
        "outputId": "45011cde-ce12-46d0-a034-f0811c7bb10b"
      },
      "execution_count": 48,
      "outputs": [
        {
          "output_type": "execute_result",
          "data": {
            "text/plain": [
              "                ID          IMC  Pressão Sistólica  Pressão Diastólica  \\\n",
              "count  1000.000000  1000.000000        1000.000000         1000.000000   \n",
              "mean    500.500000    28.909900         130.038000           80.299000   \n",
              "std     288.819436     6.431569          23.175151           11.966737   \n",
              "min       1.000000    18.000000          90.000000           60.000000   \n",
              "25%     250.750000    23.300000         111.000000           70.000000   \n",
              "50%     500.500000    28.500000         129.000000           81.000000   \n",
              "75%     750.250000    34.900000         150.000000           90.000000   \n",
              "max    1000.000000    40.000000         170.000000          100.000000   \n",
              "\n",
              "              peso  Colesterol Total  Triglicerídeos  \n",
              "count  1000.000000       1000.000000     1000.000000  \n",
              "mean    150.796100        193.219720      147.386100  \n",
              "std      26.447694         31.830481       36.455399  \n",
              "min      67.500000         96.400000       49.200000  \n",
              "25%     133.975000        173.300000      122.675000  \n",
              "50%     150.750000        193.550000      147.500000  \n",
              "75%     169.425000        214.200000      170.350000  \n",
              "max     234.400000        293.200000      259.300000  "
            ],
            "text/html": [
              "\n",
              "  <div id=\"df-56989e03-f832-44a9-98cd-8e5b559b2d9c\">\n",
              "    <div class=\"colab-df-container\">\n",
              "      <div>\n",
              "<style scoped>\n",
              "    .dataframe tbody tr th:only-of-type {\n",
              "        vertical-align: middle;\n",
              "    }\n",
              "\n",
              "    .dataframe tbody tr th {\n",
              "        vertical-align: top;\n",
              "    }\n",
              "\n",
              "    .dataframe thead th {\n",
              "        text-align: right;\n",
              "    }\n",
              "</style>\n",
              "<table border=\"1\" class=\"dataframe\">\n",
              "  <thead>\n",
              "    <tr style=\"text-align: right;\">\n",
              "      <th></th>\n",
              "      <th>ID</th>\n",
              "      <th>IMC</th>\n",
              "      <th>Pressão Sistólica</th>\n",
              "      <th>Pressão Diastólica</th>\n",
              "      <th>peso</th>\n",
              "      <th>Colesterol Total</th>\n",
              "      <th>Triglicerídeos</th>\n",
              "    </tr>\n",
              "  </thead>\n",
              "  <tbody>\n",
              "    <tr>\n",
              "      <th>count</th>\n",
              "      <td>1000.000000</td>\n",
              "      <td>1000.000000</td>\n",
              "      <td>1000.000000</td>\n",
              "      <td>1000.000000</td>\n",
              "      <td>1000.000000</td>\n",
              "      <td>1000.000000</td>\n",
              "      <td>1000.000000</td>\n",
              "    </tr>\n",
              "    <tr>\n",
              "      <th>mean</th>\n",
              "      <td>500.500000</td>\n",
              "      <td>28.909900</td>\n",
              "      <td>130.038000</td>\n",
              "      <td>80.299000</td>\n",
              "      <td>150.796100</td>\n",
              "      <td>193.219720</td>\n",
              "      <td>147.386100</td>\n",
              "    </tr>\n",
              "    <tr>\n",
              "      <th>std</th>\n",
              "      <td>288.819436</td>\n",
              "      <td>6.431569</td>\n",
              "      <td>23.175151</td>\n",
              "      <td>11.966737</td>\n",
              "      <td>26.447694</td>\n",
              "      <td>31.830481</td>\n",
              "      <td>36.455399</td>\n",
              "    </tr>\n",
              "    <tr>\n",
              "      <th>min</th>\n",
              "      <td>1.000000</td>\n",
              "      <td>18.000000</td>\n",
              "      <td>90.000000</td>\n",
              "      <td>60.000000</td>\n",
              "      <td>67.500000</td>\n",
              "      <td>96.400000</td>\n",
              "      <td>49.200000</td>\n",
              "    </tr>\n",
              "    <tr>\n",
              "      <th>25%</th>\n",
              "      <td>250.750000</td>\n",
              "      <td>23.300000</td>\n",
              "      <td>111.000000</td>\n",
              "      <td>70.000000</td>\n",
              "      <td>133.975000</td>\n",
              "      <td>173.300000</td>\n",
              "      <td>122.675000</td>\n",
              "    </tr>\n",
              "    <tr>\n",
              "      <th>50%</th>\n",
              "      <td>500.500000</td>\n",
              "      <td>28.500000</td>\n",
              "      <td>129.000000</td>\n",
              "      <td>81.000000</td>\n",
              "      <td>150.750000</td>\n",
              "      <td>193.550000</td>\n",
              "      <td>147.500000</td>\n",
              "    </tr>\n",
              "    <tr>\n",
              "      <th>75%</th>\n",
              "      <td>750.250000</td>\n",
              "      <td>34.900000</td>\n",
              "      <td>150.000000</td>\n",
              "      <td>90.000000</td>\n",
              "      <td>169.425000</td>\n",
              "      <td>214.200000</td>\n",
              "      <td>170.350000</td>\n",
              "    </tr>\n",
              "    <tr>\n",
              "      <th>max</th>\n",
              "      <td>1000.000000</td>\n",
              "      <td>40.000000</td>\n",
              "      <td>170.000000</td>\n",
              "      <td>100.000000</td>\n",
              "      <td>234.400000</td>\n",
              "      <td>293.200000</td>\n",
              "      <td>259.300000</td>\n",
              "    </tr>\n",
              "  </tbody>\n",
              "</table>\n",
              "</div>\n",
              "      <button class=\"colab-df-convert\" onclick=\"convertToInteractive('df-56989e03-f832-44a9-98cd-8e5b559b2d9c')\"\n",
              "              title=\"Convert this dataframe to an interactive table.\"\n",
              "              style=\"display:none;\">\n",
              "        \n",
              "  <svg xmlns=\"http://www.w3.org/2000/svg\" height=\"24px\"viewBox=\"0 0 24 24\"\n",
              "       width=\"24px\">\n",
              "    <path d=\"M0 0h24v24H0V0z\" fill=\"none\"/>\n",
              "    <path d=\"M18.56 5.44l.94 2.06.94-2.06 2.06-.94-2.06-.94-.94-2.06-.94 2.06-2.06.94zm-11 1L8.5 8.5l.94-2.06 2.06-.94-2.06-.94L8.5 2.5l-.94 2.06-2.06.94zm10 10l.94 2.06.94-2.06 2.06-.94-2.06-.94-.94-2.06-.94 2.06-2.06.94z\"/><path d=\"M17.41 7.96l-1.37-1.37c-.4-.4-.92-.59-1.43-.59-.52 0-1.04.2-1.43.59L10.3 9.45l-7.72 7.72c-.78.78-.78 2.05 0 2.83L4 21.41c.39.39.9.59 1.41.59.51 0 1.02-.2 1.41-.59l7.78-7.78 2.81-2.81c.8-.78.8-2.07 0-2.86zM5.41 20L4 18.59l7.72-7.72 1.47 1.35L5.41 20z\"/>\n",
              "  </svg>\n",
              "      </button>\n",
              "      \n",
              "  <style>\n",
              "    .colab-df-container {\n",
              "      display:flex;\n",
              "      flex-wrap:wrap;\n",
              "      gap: 12px;\n",
              "    }\n",
              "\n",
              "    .colab-df-convert {\n",
              "      background-color: #E8F0FE;\n",
              "      border: none;\n",
              "      border-radius: 50%;\n",
              "      cursor: pointer;\n",
              "      display: none;\n",
              "      fill: #1967D2;\n",
              "      height: 32px;\n",
              "      padding: 0 0 0 0;\n",
              "      width: 32px;\n",
              "    }\n",
              "\n",
              "    .colab-df-convert:hover {\n",
              "      background-color: #E2EBFA;\n",
              "      box-shadow: 0px 1px 2px rgba(60, 64, 67, 0.3), 0px 1px 3px 1px rgba(60, 64, 67, 0.15);\n",
              "      fill: #174EA6;\n",
              "    }\n",
              "\n",
              "    [theme=dark] .colab-df-convert {\n",
              "      background-color: #3B4455;\n",
              "      fill: #D2E3FC;\n",
              "    }\n",
              "\n",
              "    [theme=dark] .colab-df-convert:hover {\n",
              "      background-color: #434B5C;\n",
              "      box-shadow: 0px 1px 3px 1px rgba(0, 0, 0, 0.15);\n",
              "      filter: drop-shadow(0px 1px 2px rgba(0, 0, 0, 0.3));\n",
              "      fill: #FFFFFF;\n",
              "    }\n",
              "  </style>\n",
              "\n",
              "      <script>\n",
              "        const buttonEl =\n",
              "          document.querySelector('#df-56989e03-f832-44a9-98cd-8e5b559b2d9c button.colab-df-convert');\n",
              "        buttonEl.style.display =\n",
              "          google.colab.kernel.accessAllowed ? 'block' : 'none';\n",
              "\n",
              "        async function convertToInteractive(key) {\n",
              "          const element = document.querySelector('#df-56989e03-f832-44a9-98cd-8e5b559b2d9c');\n",
              "          const dataTable =\n",
              "            await google.colab.kernel.invokeFunction('convertToInteractive',\n",
              "                                                     [key], {});\n",
              "          if (!dataTable) return;\n",
              "\n",
              "          const docLinkHtml = 'Like what you see? Visit the ' +\n",
              "            '<a target=\"_blank\" href=https://colab.research.google.com/notebooks/data_table.ipynb>data table notebook</a>'\n",
              "            + ' to learn more about interactive tables.';\n",
              "          element.innerHTML = '';\n",
              "          dataTable['output_type'] = 'display_data';\n",
              "          await google.colab.output.renderOutput(dataTable, element);\n",
              "          const docLink = document.createElement('div');\n",
              "          docLink.innerHTML = docLinkHtml;\n",
              "          element.appendChild(docLink);\n",
              "        }\n",
              "      </script>\n",
              "    </div>\n",
              "  </div>\n",
              "  "
            ]
          },
          "metadata": {},
          "execution_count": 48
        }
      ]
    },
    {
      "cell_type": "code",
      "source": [
        "# Info da base de dados de perfil\n",
        "dados_perfil.info()"
      ],
      "metadata": {
        "colab": {
          "base_uri": "https://localhost:8080/"
        },
        "id": "SBvl9e4otuzC",
        "outputId": "8002934e-2781-4bb2-ce7d-780373973381"
      },
      "execution_count": 49,
      "outputs": [
        {
          "output_type": "stream",
          "name": "stdout",
          "text": [
            "<class 'pandas.core.frame.DataFrame'>\n",
            "Int64Index: 990 entries, 0 to 999\n",
            "Data columns (total 6 columns):\n",
            " #   Column             Non-Null Count  Dtype  \n",
            "---  ------             --------------  -----  \n",
            " 0   ID                 990 non-null    int64  \n",
            " 1   Gênero             990 non-null    object \n",
            " 2   Idade              990 non-null    float64\n",
            " 3   Consumo de Álcool  990 non-null    object \n",
            " 4   Atividade Física   990 non-null    object \n",
            " 5   cod_uf             990 non-null    int64  \n",
            "dtypes: float64(1), int64(2), object(3)\n",
            "memory usage: 54.1+ KB\n"
          ]
        }
      ]
    },
    {
      "cell_type": "code",
      "source": [
        "# Describe da base de dados de perfil\n",
        "dados_perfil.describe()"
      ],
      "metadata": {
        "colab": {
          "base_uri": "https://localhost:8080/",
          "height": 300
        },
        "id": "fnmUpwzCt0v-",
        "outputId": "3792049c-648e-4f69-e744-a8e05f6f6122"
      },
      "execution_count": 50,
      "outputs": [
        {
          "output_type": "execute_result",
          "data": {
            "text/plain": [
              "                ID       Idade      cod_uf\n",
              "count   990.000000  990.000000  990.000000\n",
              "mean    500.171717   48.887879   29.211111\n",
              "std     287.750156   17.940937   13.025171\n",
              "min       1.000000   18.000000   11.000000\n",
              "25%     253.250000   33.000000   17.000000\n",
              "50%     500.500000   49.000000   27.000000\n",
              "75%     747.750000   64.000000   41.000000\n",
              "max    1000.000000   80.000000   53.000000"
            ],
            "text/html": [
              "\n",
              "  <div id=\"df-49fd6e5a-d4d7-4163-92e8-df88133e9c1e\">\n",
              "    <div class=\"colab-df-container\">\n",
              "      <div>\n",
              "<style scoped>\n",
              "    .dataframe tbody tr th:only-of-type {\n",
              "        vertical-align: middle;\n",
              "    }\n",
              "\n",
              "    .dataframe tbody tr th {\n",
              "        vertical-align: top;\n",
              "    }\n",
              "\n",
              "    .dataframe thead th {\n",
              "        text-align: right;\n",
              "    }\n",
              "</style>\n",
              "<table border=\"1\" class=\"dataframe\">\n",
              "  <thead>\n",
              "    <tr style=\"text-align: right;\">\n",
              "      <th></th>\n",
              "      <th>ID</th>\n",
              "      <th>Idade</th>\n",
              "      <th>cod_uf</th>\n",
              "    </tr>\n",
              "  </thead>\n",
              "  <tbody>\n",
              "    <tr>\n",
              "      <th>count</th>\n",
              "      <td>990.000000</td>\n",
              "      <td>990.000000</td>\n",
              "      <td>990.000000</td>\n",
              "    </tr>\n",
              "    <tr>\n",
              "      <th>mean</th>\n",
              "      <td>500.171717</td>\n",
              "      <td>48.887879</td>\n",
              "      <td>29.211111</td>\n",
              "    </tr>\n",
              "    <tr>\n",
              "      <th>std</th>\n",
              "      <td>287.750156</td>\n",
              "      <td>17.940937</td>\n",
              "      <td>13.025171</td>\n",
              "    </tr>\n",
              "    <tr>\n",
              "      <th>min</th>\n",
              "      <td>1.000000</td>\n",
              "      <td>18.000000</td>\n",
              "      <td>11.000000</td>\n",
              "    </tr>\n",
              "    <tr>\n",
              "      <th>25%</th>\n",
              "      <td>253.250000</td>\n",
              "      <td>33.000000</td>\n",
              "      <td>17.000000</td>\n",
              "    </tr>\n",
              "    <tr>\n",
              "      <th>50%</th>\n",
              "      <td>500.500000</td>\n",
              "      <td>49.000000</td>\n",
              "      <td>27.000000</td>\n",
              "    </tr>\n",
              "    <tr>\n",
              "      <th>75%</th>\n",
              "      <td>747.750000</td>\n",
              "      <td>64.000000</td>\n",
              "      <td>41.000000</td>\n",
              "    </tr>\n",
              "    <tr>\n",
              "      <th>max</th>\n",
              "      <td>1000.000000</td>\n",
              "      <td>80.000000</td>\n",
              "      <td>53.000000</td>\n",
              "    </tr>\n",
              "  </tbody>\n",
              "</table>\n",
              "</div>\n",
              "      <button class=\"colab-df-convert\" onclick=\"convertToInteractive('df-49fd6e5a-d4d7-4163-92e8-df88133e9c1e')\"\n",
              "              title=\"Convert this dataframe to an interactive table.\"\n",
              "              style=\"display:none;\">\n",
              "        \n",
              "  <svg xmlns=\"http://www.w3.org/2000/svg\" height=\"24px\"viewBox=\"0 0 24 24\"\n",
              "       width=\"24px\">\n",
              "    <path d=\"M0 0h24v24H0V0z\" fill=\"none\"/>\n",
              "    <path d=\"M18.56 5.44l.94 2.06.94-2.06 2.06-.94-2.06-.94-.94-2.06-.94 2.06-2.06.94zm-11 1L8.5 8.5l.94-2.06 2.06-.94-2.06-.94L8.5 2.5l-.94 2.06-2.06.94zm10 10l.94 2.06.94-2.06 2.06-.94-2.06-.94-.94-2.06-.94 2.06-2.06.94z\"/><path d=\"M17.41 7.96l-1.37-1.37c-.4-.4-.92-.59-1.43-.59-.52 0-1.04.2-1.43.59L10.3 9.45l-7.72 7.72c-.78.78-.78 2.05 0 2.83L4 21.41c.39.39.9.59 1.41.59.51 0 1.02-.2 1.41-.59l7.78-7.78 2.81-2.81c.8-.78.8-2.07 0-2.86zM5.41 20L4 18.59l7.72-7.72 1.47 1.35L5.41 20z\"/>\n",
              "  </svg>\n",
              "      </button>\n",
              "      \n",
              "  <style>\n",
              "    .colab-df-container {\n",
              "      display:flex;\n",
              "      flex-wrap:wrap;\n",
              "      gap: 12px;\n",
              "    }\n",
              "\n",
              "    .colab-df-convert {\n",
              "      background-color: #E8F0FE;\n",
              "      border: none;\n",
              "      border-radius: 50%;\n",
              "      cursor: pointer;\n",
              "      display: none;\n",
              "      fill: #1967D2;\n",
              "      height: 32px;\n",
              "      padding: 0 0 0 0;\n",
              "      width: 32px;\n",
              "    }\n",
              "\n",
              "    .colab-df-convert:hover {\n",
              "      background-color: #E2EBFA;\n",
              "      box-shadow: 0px 1px 2px rgba(60, 64, 67, 0.3), 0px 1px 3px 1px rgba(60, 64, 67, 0.15);\n",
              "      fill: #174EA6;\n",
              "    }\n",
              "\n",
              "    [theme=dark] .colab-df-convert {\n",
              "      background-color: #3B4455;\n",
              "      fill: #D2E3FC;\n",
              "    }\n",
              "\n",
              "    [theme=dark] .colab-df-convert:hover {\n",
              "      background-color: #434B5C;\n",
              "      box-shadow: 0px 1px 3px 1px rgba(0, 0, 0, 0.15);\n",
              "      filter: drop-shadow(0px 1px 2px rgba(0, 0, 0, 0.3));\n",
              "      fill: #FFFFFF;\n",
              "    }\n",
              "  </style>\n",
              "\n",
              "      <script>\n",
              "        const buttonEl =\n",
              "          document.querySelector('#df-49fd6e5a-d4d7-4163-92e8-df88133e9c1e button.colab-df-convert');\n",
              "        buttonEl.style.display =\n",
              "          google.colab.kernel.accessAllowed ? 'block' : 'none';\n",
              "\n",
              "        async function convertToInteractive(key) {\n",
              "          const element = document.querySelector('#df-49fd6e5a-d4d7-4163-92e8-df88133e9c1e');\n",
              "          const dataTable =\n",
              "            await google.colab.kernel.invokeFunction('convertToInteractive',\n",
              "                                                     [key], {});\n",
              "          if (!dataTable) return;\n",
              "\n",
              "          const docLinkHtml = 'Like what you see? Visit the ' +\n",
              "            '<a target=\"_blank\" href=https://colab.research.google.com/notebooks/data_table.ipynb>data table notebook</a>'\n",
              "            + ' to learn more about interactive tables.';\n",
              "          element.innerHTML = '';\n",
              "          dataTable['output_type'] = 'display_data';\n",
              "          await google.colab.output.renderOutput(dataTable, element);\n",
              "          const docLink = document.createElement('div');\n",
              "          docLink.innerHTML = docLinkHtml;\n",
              "          element.appendChild(docLink);\n",
              "        }\n",
              "      </script>\n",
              "    </div>\n",
              "  </div>\n",
              "  "
            ]
          },
          "metadata": {},
          "execution_count": 50
        }
      ]
    },
    {
      "cell_type": "code",
      "source": [
        "# Info da uf\n",
        "uf.info()"
      ],
      "metadata": {
        "colab": {
          "base_uri": "https://localhost:8080/"
        },
        "id": "01kzn0ust66-",
        "outputId": "b581e48a-1c62-40d7-f72a-3a333af49612"
      },
      "execution_count": 51,
      "outputs": [
        {
          "output_type": "stream",
          "name": "stdout",
          "text": [
            "<class 'pandas.core.frame.DataFrame'>\n",
            "RangeIndex: 27 entries, 0 to 26\n",
            "Data columns (total 7 columns):\n",
            " #   Column     Non-Null Count  Dtype  \n",
            "---  ------     --------------  -----  \n",
            " 0   codigo_uf  27 non-null     int64  \n",
            " 1   uf         27 non-null     object \n",
            " 2   nome       27 non-null     object \n",
            " 3   latitude   27 non-null     float64\n",
            " 4   longitude  27 non-null     float64\n",
            " 5   regiao     27 non-null     object \n",
            " 6   pais       27 non-null     object \n",
            "dtypes: float64(2), int64(1), object(4)\n",
            "memory usage: 1.6+ KB\n"
          ]
        }
      ]
    },
    {
      "cell_type": "code",
      "source": [
        "# Descibre da uf\n",
        "uf.describe()"
      ],
      "metadata": {
        "colab": {
          "base_uri": "https://localhost:8080/",
          "height": 300
        },
        "id": "FcwpNrZrt_kn",
        "outputId": "56266148-e58c-4b07-c839-fe0f9e77dd5e"
      },
      "execution_count": 52,
      "outputs": [
        {
          "output_type": "execute_result",
          "data": {
            "text/plain": [
              "       codigo_uf   latitude  longitude\n",
              "count  27.000000  27.000000  27.000000\n",
              "mean   29.111111 -12.381111 -48.410370\n",
              "std    13.024631   8.476122   9.291479\n",
              "min    11.000000 -30.170000 -70.550000\n",
              "25%    19.000000 -18.645000 -52.990000\n",
              "50%    27.000000 -10.570000 -48.260000\n",
              "75%    38.000000  -6.205000 -41.025000\n",
              "max    53.000000   1.990000 -36.590000"
            ],
            "text/html": [
              "\n",
              "  <div id=\"df-5200ade9-2ad3-4bc8-996f-97d0047b7d9b\">\n",
              "    <div class=\"colab-df-container\">\n",
              "      <div>\n",
              "<style scoped>\n",
              "    .dataframe tbody tr th:only-of-type {\n",
              "        vertical-align: middle;\n",
              "    }\n",
              "\n",
              "    .dataframe tbody tr th {\n",
              "        vertical-align: top;\n",
              "    }\n",
              "\n",
              "    .dataframe thead th {\n",
              "        text-align: right;\n",
              "    }\n",
              "</style>\n",
              "<table border=\"1\" class=\"dataframe\">\n",
              "  <thead>\n",
              "    <tr style=\"text-align: right;\">\n",
              "      <th></th>\n",
              "      <th>codigo_uf</th>\n",
              "      <th>latitude</th>\n",
              "      <th>longitude</th>\n",
              "    </tr>\n",
              "  </thead>\n",
              "  <tbody>\n",
              "    <tr>\n",
              "      <th>count</th>\n",
              "      <td>27.000000</td>\n",
              "      <td>27.000000</td>\n",
              "      <td>27.000000</td>\n",
              "    </tr>\n",
              "    <tr>\n",
              "      <th>mean</th>\n",
              "      <td>29.111111</td>\n",
              "      <td>-12.381111</td>\n",
              "      <td>-48.410370</td>\n",
              "    </tr>\n",
              "    <tr>\n",
              "      <th>std</th>\n",
              "      <td>13.024631</td>\n",
              "      <td>8.476122</td>\n",
              "      <td>9.291479</td>\n",
              "    </tr>\n",
              "    <tr>\n",
              "      <th>min</th>\n",
              "      <td>11.000000</td>\n",
              "      <td>-30.170000</td>\n",
              "      <td>-70.550000</td>\n",
              "    </tr>\n",
              "    <tr>\n",
              "      <th>25%</th>\n",
              "      <td>19.000000</td>\n",
              "      <td>-18.645000</td>\n",
              "      <td>-52.990000</td>\n",
              "    </tr>\n",
              "    <tr>\n",
              "      <th>50%</th>\n",
              "      <td>27.000000</td>\n",
              "      <td>-10.570000</td>\n",
              "      <td>-48.260000</td>\n",
              "    </tr>\n",
              "    <tr>\n",
              "      <th>75%</th>\n",
              "      <td>38.000000</td>\n",
              "      <td>-6.205000</td>\n",
              "      <td>-41.025000</td>\n",
              "    </tr>\n",
              "    <tr>\n",
              "      <th>max</th>\n",
              "      <td>53.000000</td>\n",
              "      <td>1.990000</td>\n",
              "      <td>-36.590000</td>\n",
              "    </tr>\n",
              "  </tbody>\n",
              "</table>\n",
              "</div>\n",
              "      <button class=\"colab-df-convert\" onclick=\"convertToInteractive('df-5200ade9-2ad3-4bc8-996f-97d0047b7d9b')\"\n",
              "              title=\"Convert this dataframe to an interactive table.\"\n",
              "              style=\"display:none;\">\n",
              "        \n",
              "  <svg xmlns=\"http://www.w3.org/2000/svg\" height=\"24px\"viewBox=\"0 0 24 24\"\n",
              "       width=\"24px\">\n",
              "    <path d=\"M0 0h24v24H0V0z\" fill=\"none\"/>\n",
              "    <path d=\"M18.56 5.44l.94 2.06.94-2.06 2.06-.94-2.06-.94-.94-2.06-.94 2.06-2.06.94zm-11 1L8.5 8.5l.94-2.06 2.06-.94-2.06-.94L8.5 2.5l-.94 2.06-2.06.94zm10 10l.94 2.06.94-2.06 2.06-.94-2.06-.94-.94-2.06-.94 2.06-2.06.94z\"/><path d=\"M17.41 7.96l-1.37-1.37c-.4-.4-.92-.59-1.43-.59-.52 0-1.04.2-1.43.59L10.3 9.45l-7.72 7.72c-.78.78-.78 2.05 0 2.83L4 21.41c.39.39.9.59 1.41.59.51 0 1.02-.2 1.41-.59l7.78-7.78 2.81-2.81c.8-.78.8-2.07 0-2.86zM5.41 20L4 18.59l7.72-7.72 1.47 1.35L5.41 20z\"/>\n",
              "  </svg>\n",
              "      </button>\n",
              "      \n",
              "  <style>\n",
              "    .colab-df-container {\n",
              "      display:flex;\n",
              "      flex-wrap:wrap;\n",
              "      gap: 12px;\n",
              "    }\n",
              "\n",
              "    .colab-df-convert {\n",
              "      background-color: #E8F0FE;\n",
              "      border: none;\n",
              "      border-radius: 50%;\n",
              "      cursor: pointer;\n",
              "      display: none;\n",
              "      fill: #1967D2;\n",
              "      height: 32px;\n",
              "      padding: 0 0 0 0;\n",
              "      width: 32px;\n",
              "    }\n",
              "\n",
              "    .colab-df-convert:hover {\n",
              "      background-color: #E2EBFA;\n",
              "      box-shadow: 0px 1px 2px rgba(60, 64, 67, 0.3), 0px 1px 3px 1px rgba(60, 64, 67, 0.15);\n",
              "      fill: #174EA6;\n",
              "    }\n",
              "\n",
              "    [theme=dark] .colab-df-convert {\n",
              "      background-color: #3B4455;\n",
              "      fill: #D2E3FC;\n",
              "    }\n",
              "\n",
              "    [theme=dark] .colab-df-convert:hover {\n",
              "      background-color: #434B5C;\n",
              "      box-shadow: 0px 1px 3px 1px rgba(0, 0, 0, 0.15);\n",
              "      filter: drop-shadow(0px 1px 2px rgba(0, 0, 0, 0.3));\n",
              "      fill: #FFFFFF;\n",
              "    }\n",
              "  </style>\n",
              "\n",
              "      <script>\n",
              "        const buttonEl =\n",
              "          document.querySelector('#df-5200ade9-2ad3-4bc8-996f-97d0047b7d9b button.colab-df-convert');\n",
              "        buttonEl.style.display =\n",
              "          google.colab.kernel.accessAllowed ? 'block' : 'none';\n",
              "\n",
              "        async function convertToInteractive(key) {\n",
              "          const element = document.querySelector('#df-5200ade9-2ad3-4bc8-996f-97d0047b7d9b');\n",
              "          const dataTable =\n",
              "            await google.colab.kernel.invokeFunction('convertToInteractive',\n",
              "                                                     [key], {});\n",
              "          if (!dataTable) return;\n",
              "\n",
              "          const docLinkHtml = 'Like what you see? Visit the ' +\n",
              "            '<a target=\"_blank\" href=https://colab.research.google.com/notebooks/data_table.ipynb>data table notebook</a>'\n",
              "            + ' to learn more about interactive tables.';\n",
              "          element.innerHTML = '';\n",
              "          dataTable['output_type'] = 'display_data';\n",
              "          await google.colab.output.renderOutput(dataTable, element);\n",
              "          const docLink = document.createElement('div');\n",
              "          docLink.innerHTML = docLinkHtml;\n",
              "          element.appendChild(docLink);\n",
              "        }\n",
              "      </script>\n",
              "    </div>\n",
              "  </div>\n",
              "  "
            ]
          },
          "metadata": {},
          "execution_count": 52
        }
      ]
    },
    {
      "cell_type": "markdown",
      "source": [
        "# Manipulação e visualização de dados"
      ],
      "metadata": {
        "id": "K3Bzo1J-uP48"
      }
    },
    {
      "cell_type": "code",
      "source": [
        "# Criando histograma baseado no colesterol dos dados médicos\n",
        "plt.figure(figsize=(10,5))\n",
        "plt.title('Colesterol')\n",
        "sns.histplot(dados_medicos['Colesterol Total'], bins=25)"
      ],
      "metadata": {
        "colab": {
          "base_uri": "https://localhost:8080/",
          "height": 504
        },
        "id": "ydcrN_x1uEKM",
        "outputId": "6a48e503-348a-4660-8da9-342c62865120"
      },
      "execution_count": 53,
      "outputs": [
        {
          "output_type": "execute_result",
          "data": {
            "text/plain": [
              "<Axes: title={'center': 'Colesterol'}, xlabel='Colesterol Total', ylabel='Count'>"
            ]
          },
          "metadata": {},
          "execution_count": 53
        },
        {
          "output_type": "display_data",
          "data": {
            "text/plain": [
              "<Figure size 1000x500 with 1 Axes>"
            ],
            "image/png": "[encoded data removed]"
          },
          "metadata": {}
        }
      ]
    },
    {
      "cell_type": "code",
      "source": [
        "# Criando histograma baseado na Idade dos dados de perfil\n",
        "plt.figure(figsize=(10,5))\n",
        "plt.title('Idade')\n",
        "sns.histplot(dados_perfil['Idade'], bins=25)"
      ],
      "metadata": {
        "colab": {
          "base_uri": "https://localhost:8080/",
          "height": 504
        },
        "id": "p67BqzPSu401",
        "outputId": "76750bfe-d7c3-4d8b-93dd-0a23e377f454"
      },
      "execution_count": 54,
      "outputs": [
        {
          "output_type": "execute_result",
          "data": {
            "text/plain": [
              "<Axes: title={'center': 'Idade'}, xlabel='Idade', ylabel='Count'>"
            ]
          },
          "metadata": {},
          "execution_count": 54
        },
        {
          "output_type": "display_data",
          "data": {
            "text/plain": [
              "<Figure size 1000x500 with 1 Axes>"
            ],
            "image/png": "[encoded data removed]"
          },
          "metadata": {}
        }
      ]
    },
    {
      "cell_type": "markdown",
      "source": [
        "# Criando gráfico boxplot"
      ],
      "metadata": {
        "id": "WzKlip6_vPeN"
      }
    },
    {
      "cell_type": "code",
      "source": [
        "# Criando boxplot para o Colesterol \n",
        "plt.figure(figsize=(7,3))\n",
        "plt.title('Colesterol dos pacientes', size=18)\n",
        "sns.boxplot(x='Colesterol Total', data=dados_medicos , orient='h')"
      ],
      "metadata": {
        "colab": {
          "base_uri": "https://localhost:8080/",
          "height": 355
        },
        "id": "MjLe9vDivNJ2",
        "outputId": "48675066-f7fa-46a1-beeb-34badceb2313"
      },
      "execution_count": 57,
      "outputs": [
        {
          "output_type": "execute_result",
          "data": {
            "text/plain": [
              "<Axes: title={'center': 'Colesterol dos pacientes'}, xlabel='Colesterol Total'>"
            ]
          },
          "metadata": {},
          "execution_count": 57
        },
        {
          "output_type": "display_data",
          "data": {
            "text/plain": [
              "<Figure size 700x300 with 1 Axes>"
            ],
            "image/png": "[encoded data removed]"
          },
          "metadata": {}
        }
      ]
    },
    {
      "cell_type": "code",
      "source": [
        "# Criando boxplot para a Idade \n",
        "plt.figure(figsize=(7,3))\n",
        "plt.title('Idade dos pacientes', size=18)\n",
        "sns.boxplot(x='Idade', data=dados_perfil , orient='h')"
      ],
      "metadata": {
        "colab": {
          "base_uri": "https://localhost:8080/",
          "height": 355
        },
        "id": "rtfnxO18vwpM",
        "outputId": "04b53afe-d4f9-4132-e59b-9789ec225db6"
      },
      "execution_count": 62,
      "outputs": [
        {
          "output_type": "execute_result",
          "data": {
            "text/plain": [
              "<Axes: title={'center': 'Idade dos pacientes'}, xlabel='Idade'>"
            ]
          },
          "metadata": {},
          "execution_count": 62
        },
        {
          "output_type": "display_data",
          "data": {
            "text/plain": [
              "<Figure size 700x300 with 1 Axes>"
            ],
            "image/png": "[encoded data removed]"
          },
          "metadata": {}
        }
      ]
    },
    {
      "cell_type": "code",
      "source": [
        "'''# Gerando correlação entre idade e colesterol\n",
        "plt.figure(figsize=(5,3))\n",
        "plt.title('Correlação entre idade e colesterol')\n",
        "dados_correlacao = dados_perfil'''"
      ],
      "metadata": {
        "id": "cgK4sEi3v-yZ"
      },
      "execution_count": null,
      "outputs": []
    }
  ]
}