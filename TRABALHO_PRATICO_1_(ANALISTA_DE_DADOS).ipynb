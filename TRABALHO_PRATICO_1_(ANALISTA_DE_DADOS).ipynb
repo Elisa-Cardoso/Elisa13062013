{
  "nbformat": 4,
  "nbformat_minor": 0,
  "metadata": {
    "colab": {
      "provenance": [],
      "authorship_tag": "ABX9TyM/P95Kr/SC+Qu9CzNmSggV",
      "include_colab_link": true
    },
    "kernelspec": {
      "name": "python3",
      "display_name": "Python 3"
    },
    "language_info": {
      "name": "python"
    }
  },
  "cells": [
    {
      "cell_type": "markdown",
      "metadata": {
        "id": "view-in-github",
        "colab_type": "text"
      },
      "source": [
        "<a href=\"https://colab.research.google.com/github/Elisa-Cardoso/Elisa13062013/blob/main/TRABALHO_PRATICO_1_(ANALISTA_DE_DADOS).ipynb\" target=\"_parent\"><img src=\"https://colab.research.google.com/assets/colab-badge.svg\" alt=\"Open In Colab\"/></a>"
      ]
    },
    {
      "cell_type": "markdown",
      "source": [
        "# Enunciado da Questão:\n",
        "\n",
        "\"Uma empresa de comércio eletrônico está enfrentando problemas com a\n",
        "entrega de seus produtos para diferentes regiões do Brasil. A empresa deseja\n",
        "desenvolver um modelo de regressão linear que possa prever a quantidade de\n",
        "dias para entrega de acordo com o valor do frete, levando em consideração as\n",
        "particularidades de cada região.\n",
        "Com base nos dados disponíveis, a equipe de ciência de dados da empresa\n",
        "precisa desenvolver um modelo que possa ser utilizado para estimar a\n",
        "quantidade de dias de entrega de um produto, com base no valor do frete e\n",
        "na região de destino. O objetivo é reduzir o tempo de entrega e melhorar a\n",
        "satisfação dos clientes.\n",
        "\n",
        "O modelo de regressão linear deve levar em consideração as diferenças de\n",
        "influência de cada região no valor do frete e na quantidade de dias de entrega.\n",
        "Além disso, o modelo deve ser capaz de prever com precisão a quantidade de\n",
        "dias de entrega para diferentes valores de frete em cada região, permitindo\n",
        "que a empresa tome decisões mais precisas e assertivas sobre o\n",
        "gerenciamento da logística de seus produtos\"\n",
        "\n",
        "# Atividades\n",
        "Para esta atividade, os alunos deverão criar um algoritmo de regressão linear\n",
        "para prever a quantidade de dias para entrega de itens baseado no valor do\n",
        "frete cobrado.\n",
        "1. Criar um projeto no Google Drive.\n",
        "2. Coletar e inserir o arquivo frete_dias_entrega.csv na plataforma.\n",
        "3. Filtrar o dataset para a região sudeste.\n",
        "4. Analisar os dados coletados.\n",
        "5. Avaliar a relação entre as variáveis.\n",
        "6. Criar algoritmo de regressão linear.\n",
        "7. Responder às questões teóricas e práticas do trabalho."
      ],
      "metadata": {
        "id": "NG6DF8IycGeA"
      }
    },
    {
      "cell_type": "markdown",
      "source": [
        "# Analisando o comando da questão\n",
        "\n",
        "\"A empresa deseja desenvolver um modelo de regressão linear que possa **prever a quantidade de dias para entrega de acordo com o valor do frete**, levando em consideração as particularidades de cada região.\"\n",
        "\n",
        "-- > Isto é: A quantidade de dias, em função do valor do frete.\n",
        "\n",
        "X (Variável independente) = Valor do frete ;\n",
        "\n",
        "y (Variável dependente) = Dias de entrega"
      ],
      "metadata": {
        "id": "6SWmDhQGcKpg"
      }
    },
    {
      "cell_type": "markdown",
      "source": [
        "# Importando as bibliotecas"
      ],
      "metadata": {
        "id": "WPxggzF-shTJ"
      }
    },
    {
      "cell_type": "code",
      "execution_count": 2,
      "metadata": {
        "id": "Hvi83ZgcsCdu"
      },
      "outputs": [],
      "source": [
        "import pandas as pd\n",
        "import plotly.express as px\n",
        "import seaborn as sns\n",
        "import numpy as np\n",
        "from sklearn.metrics import mean_absolute_error , mean_squared_error"
      ]
    },
    {
      "cell_type": "markdown",
      "source": [
        "# Coletando Dados"
      ],
      "metadata": {
        "id": "u91CEdqFsnAR"
      }
    },
    {
      "cell_type": "code",
      "source": [
        "dados = pd.read_csv('frete_dias_entrega.csv', sep=';')"
      ],
      "metadata": {
        "id": "ynDsqAxUsYFu"
      },
      "execution_count": 3,
      "outputs": []
    },
    {
      "cell_type": "markdown",
      "source": [
        "# Analisando os dados coletados\n"
      ],
      "metadata": {
        "id": "4Yic9jUO_KrS"
      }
    },
    {
      "cell_type": "code",
      "source": [
        "# Visualizando arquivos da base de dados\n",
        "dados.head()"
      ],
      "metadata": {
        "colab": {
          "base_uri": "https://localhost:8080/",
          "height": 206
        },
        "id": "LJUrUqB4_N3w",
        "outputId": "ab2a1a94-b02d-4c34-9f10-9fe04dc5606b"
      },
      "execution_count": 4,
      "outputs": [
        {
          "output_type": "execute_result",
          "data": {
            "text/plain": [
              "  Região  Valor do Frete  Dias para Entrega\n",
              "0  Norte           49.59               20.0\n",
              "1  Norte          117.57                3.0\n",
              "2  Norte           98.15                7.0\n",
              "3  Norte           96.98                6.0\n",
              "4  Norte          123.00                6.0"
            ],
            "text/html": [
              "\n",
              "  <div id=\"df-e9388f9b-18d5-4e79-a5fd-b16dfe159fd3\">\n",
              "    <div class=\"colab-df-container\">\n",
              "      <div>\n",
              "<style scoped>\n",
              "    .dataframe tbody tr th:only-of-type {\n",
              "        vertical-align: middle;\n",
              "    }\n",
              "\n",
              "    .dataframe tbody tr th {\n",
              "        vertical-align: top;\n",
              "    }\n",
              "\n",
              "    .dataframe thead th {\n",
              "        text-align: right;\n",
              "    }\n",
              "</style>\n",
              "<table border=\"1\" class=\"dataframe\">\n",
              "  <thead>\n",
              "    <tr style=\"text-align: right;\">\n",
              "      <th></th>\n",
              "      <th>Região</th>\n",
              "      <th>Valor do Frete</th>\n",
              "      <th>Dias para Entrega</th>\n",
              "    </tr>\n",
              "  </thead>\n",
              "  <tbody>\n",
              "    <tr>\n",
              "      <th>0</th>\n",
              "      <td>Norte</td>\n",
              "      <td>49.59</td>\n",
              "      <td>20.0</td>\n",
              "    </tr>\n",
              "    <tr>\n",
              "      <th>1</th>\n",
              "      <td>Norte</td>\n",
              "      <td>117.57</td>\n",
              "      <td>3.0</td>\n",
              "    </tr>\n",
              "    <tr>\n",
              "      <th>2</th>\n",
              "      <td>Norte</td>\n",
              "      <td>98.15</td>\n",
              "      <td>7.0</td>\n",
              "    </tr>\n",
              "    <tr>\n",
              "      <th>3</th>\n",
              "      <td>Norte</td>\n",
              "      <td>96.98</td>\n",
              "      <td>6.0</td>\n",
              "    </tr>\n",
              "    <tr>\n",
              "      <th>4</th>\n",
              "      <td>Norte</td>\n",
              "      <td>123.00</td>\n",
              "      <td>6.0</td>\n",
              "    </tr>\n",
              "  </tbody>\n",
              "</table>\n",
              "</div>\n",
              "      <button class=\"colab-df-convert\" onclick=\"convertToInteractive('df-e9388f9b-18d5-4e79-a5fd-b16dfe159fd3')\"\n",
              "              title=\"Convert this dataframe to an interactive table.\"\n",
              "              style=\"display:none;\">\n",
              "        \n",
              "  <svg xmlns=\"http://www.w3.org/2000/svg\" height=\"24px\"viewBox=\"0 0 24 24\"\n",
              "       width=\"24px\">\n",
              "    <path d=\"M0 0h24v24H0V0z\" fill=\"none\"/>\n",
              "    <path d=\"M18.56 5.44l.94 2.06.94-2.06 2.06-.94-2.06-.94-.94-2.06-.94 2.06-2.06.94zm-11 1L8.5 8.5l.94-2.06 2.06-.94-2.06-.94L8.5 2.5l-.94 2.06-2.06.94zm10 10l.94 2.06.94-2.06 2.06-.94-2.06-.94-.94-2.06-.94 2.06-2.06.94z\"/><path d=\"M17.41 7.96l-1.37-1.37c-.4-.4-.92-.59-1.43-.59-.52 0-1.04.2-1.43.59L10.3 9.45l-7.72 7.72c-.78.78-.78 2.05 0 2.83L4 21.41c.39.39.9.59 1.41.59.51 0 1.02-.2 1.41-.59l7.78-7.78 2.81-2.81c.8-.78.8-2.07 0-2.86zM5.41 20L4 18.59l7.72-7.72 1.47 1.35L5.41 20z\"/>\n",
              "  </svg>\n",
              "      </button>\n",
              "      \n",
              "  <style>\n",
              "    .colab-df-container {\n",
              "      display:flex;\n",
              "      flex-wrap:wrap;\n",
              "      gap: 12px;\n",
              "    }\n",
              "\n",
              "    .colab-df-convert {\n",
              "      background-color: #E8F0FE;\n",
              "      border: none;\n",
              "      border-radius: 50%;\n",
              "      cursor: pointer;\n",
              "      display: none;\n",
              "      fill: #1967D2;\n",
              "      height: 32px;\n",
              "      padding: 0 0 0 0;\n",
              "      width: 32px;\n",
              "    }\n",
              "\n",
              "    .colab-df-convert:hover {\n",
              "      background-color: #E2EBFA;\n",
              "      box-shadow: 0px 1px 2px rgba(60, 64, 67, 0.3), 0px 1px 3px 1px rgba(60, 64, 67, 0.15);\n",
              "      fill: #174EA6;\n",
              "    }\n",
              "\n",
              "    [theme=dark] .colab-df-convert {\n",
              "      background-color: #3B4455;\n",
              "      fill: #D2E3FC;\n",
              "    }\n",
              "\n",
              "    [theme=dark] .colab-df-convert:hover {\n",
              "      background-color: #434B5C;\n",
              "      box-shadow: 0px 1px 3px 1px rgba(0, 0, 0, 0.15);\n",
              "      filter: drop-shadow(0px 1px 2px rgba(0, 0, 0, 0.3));\n",
              "      fill: #FFFFFF;\n",
              "    }\n",
              "  </style>\n",
              "\n",
              "      <script>\n",
              "        const buttonEl =\n",
              "          document.querySelector('#df-e9388f9b-18d5-4e79-a5fd-b16dfe159fd3 button.colab-df-convert');\n",
              "        buttonEl.style.display =\n",
              "          google.colab.kernel.accessAllowed ? 'block' : 'none';\n",
              "\n",
              "        async function convertToInteractive(key) {\n",
              "          const element = document.querySelector('#df-e9388f9b-18d5-4e79-a5fd-b16dfe159fd3');\n",
              "          const dataTable =\n",
              "            await google.colab.kernel.invokeFunction('convertToInteractive',\n",
              "                                                     [key], {});\n",
              "          if (!dataTable) return;\n",
              "\n",
              "          const docLinkHtml = 'Like what you see? Visit the ' +\n",
              "            '<a target=\"_blank\" href=https://colab.research.google.com/notebooks/data_table.ipynb>data table notebook</a>'\n",
              "            + ' to learn more about interactive tables.';\n",
              "          element.innerHTML = '';\n",
              "          dataTable['output_type'] = 'display_data';\n",
              "          await google.colab.output.renderOutput(dataTable, element);\n",
              "          const docLink = document.createElement('div');\n",
              "          docLink.innerHTML = docLinkHtml;\n",
              "          element.appendChild(docLink);\n",
              "        }\n",
              "      </script>\n",
              "    </div>\n",
              "  </div>\n",
              "  "
            ]
          },
          "metadata": {},
          "execution_count": 4
        }
      ]
    },
    {
      "cell_type": "code",
      "source": [
        "# Gerando algumas estatísticas da base de dados\n",
        "dados.describe()"
      ],
      "metadata": {
        "colab": {
          "base_uri": "https://localhost:8080/",
          "height": 300
        },
        "id": "HRKmWz8y_TNV",
        "outputId": "851a61cd-0262-406c-e6a9-fa79eaf9c015"
      },
      "execution_count": 5,
      "outputs": [
        {
          "output_type": "execute_result",
          "data": {
            "text/plain": [
              "       Valor do Frete  Dias para Entrega\n",
              "count      500.000000         500.000000\n",
              "mean        90.735140           7.512000\n",
              "std         22.870106           5.733725\n",
              "min         -5.370000           1.000000\n",
              "25%         77.107500           3.000000\n",
              "50%         94.765000           7.000000\n",
              "75%        107.187500          11.000000\n",
              "max        128.950000          33.000000"
            ],
            "text/html": [
              "\n",
              "  <div id=\"df-abda1900-0929-4f91-9ad3-5929e42d0365\">\n",
              "    <div class=\"colab-df-container\">\n",
              "      <div>\n",
              "<style scoped>\n",
              "    .dataframe tbody tr th:only-of-type {\n",
              "        vertical-align: middle;\n",
              "    }\n",
              "\n",
              "    .dataframe tbody tr th {\n",
              "        vertical-align: top;\n",
              "    }\n",
              "\n",
              "    .dataframe thead th {\n",
              "        text-align: right;\n",
              "    }\n",
              "</style>\n",
              "<table border=\"1\" class=\"dataframe\">\n",
              "  <thead>\n",
              "    <tr style=\"text-align: right;\">\n",
              "      <th></th>\n",
              "      <th>Valor do Frete</th>\n",
              "      <th>Dias para Entrega</th>\n",
              "    </tr>\n",
              "  </thead>\n",
              "  <tbody>\n",
              "    <tr>\n",
              "      <th>count</th>\n",
              "      <td>500.000000</td>\n",
              "      <td>500.000000</td>\n",
              "    </tr>\n",
              "    <tr>\n",
              "      <th>mean</th>\n",
              "      <td>90.735140</td>\n",
              "      <td>7.512000</td>\n",
              "    </tr>\n",
              "    <tr>\n",
              "      <th>std</th>\n",
              "      <td>22.870106</td>\n",
              "      <td>5.733725</td>\n",
              "    </tr>\n",
              "    <tr>\n",
              "      <th>min</th>\n",
              "      <td>-5.370000</td>\n",
              "      <td>1.000000</td>\n",
              "    </tr>\n",
              "    <tr>\n",
              "      <th>25%</th>\n",
              "      <td>77.107500</td>\n",
              "      <td>3.000000</td>\n",
              "    </tr>\n",
              "    <tr>\n",
              "      <th>50%</th>\n",
              "      <td>94.765000</td>\n",
              "      <td>7.000000</td>\n",
              "    </tr>\n",
              "    <tr>\n",
              "      <th>75%</th>\n",
              "      <td>107.187500</td>\n",
              "      <td>11.000000</td>\n",
              "    </tr>\n",
              "    <tr>\n",
              "      <th>max</th>\n",
              "      <td>128.950000</td>\n",
              "      <td>33.000000</td>\n",
              "    </tr>\n",
              "  </tbody>\n",
              "</table>\n",
              "</div>\n",
              "      <button class=\"colab-df-convert\" onclick=\"convertToInteractive('df-abda1900-0929-4f91-9ad3-5929e42d0365')\"\n",
              "              title=\"Convert this dataframe to an interactive table.\"\n",
              "              style=\"display:none;\">\n",
              "        \n",
              "  <svg xmlns=\"http://www.w3.org/2000/svg\" height=\"24px\"viewBox=\"0 0 24 24\"\n",
              "       width=\"24px\">\n",
              "    <path d=\"M0 0h24v24H0V0z\" fill=\"none\"/>\n",
              "    <path d=\"M18.56 5.44l.94 2.06.94-2.06 2.06-.94-2.06-.94-.94-2.06-.94 2.06-2.06.94zm-11 1L8.5 8.5l.94-2.06 2.06-.94-2.06-.94L8.5 2.5l-.94 2.06-2.06.94zm10 10l.94 2.06.94-2.06 2.06-.94-2.06-.94-.94-2.06-.94 2.06-2.06.94z\"/><path d=\"M17.41 7.96l-1.37-1.37c-.4-.4-.92-.59-1.43-.59-.52 0-1.04.2-1.43.59L10.3 9.45l-7.72 7.72c-.78.78-.78 2.05 0 2.83L4 21.41c.39.39.9.59 1.41.59.51 0 1.02-.2 1.41-.59l7.78-7.78 2.81-2.81c.8-.78.8-2.07 0-2.86zM5.41 20L4 18.59l7.72-7.72 1.47 1.35L5.41 20z\"/>\n",
              "  </svg>\n",
              "      </button>\n",
              "      \n",
              "  <style>\n",
              "    .colab-df-container {\n",
              "      display:flex;\n",
              "      flex-wrap:wrap;\n",
              "      gap: 12px;\n",
              "    }\n",
              "\n",
              "    .colab-df-convert {\n",
              "      background-color: #E8F0FE;\n",
              "      border: none;\n",
              "      border-radius: 50%;\n",
              "      cursor: pointer;\n",
              "      display: none;\n",
              "      fill: #1967D2;\n",
              "      height: 32px;\n",
              "      padding: 0 0 0 0;\n",
              "      width: 32px;\n",
              "    }\n",
              "\n",
              "    .colab-df-convert:hover {\n",
              "      background-color: #E2EBFA;\n",
              "      box-shadow: 0px 1px 2px rgba(60, 64, 67, 0.3), 0px 1px 3px 1px rgba(60, 64, 67, 0.15);\n",
              "      fill: #174EA6;\n",
              "    }\n",
              "\n",
              "    [theme=dark] .colab-df-convert {\n",
              "      background-color: #3B4455;\n",
              "      fill: #D2E3FC;\n",
              "    }\n",
              "\n",
              "    [theme=dark] .colab-df-convert:hover {\n",
              "      background-color: #434B5C;\n",
              "      box-shadow: 0px 1px 3px 1px rgba(0, 0, 0, 0.15);\n",
              "      filter: drop-shadow(0px 1px 2px rgba(0, 0, 0, 0.3));\n",
              "      fill: #FFFFFF;\n",
              "    }\n",
              "  </style>\n",
              "\n",
              "      <script>\n",
              "        const buttonEl =\n",
              "          document.querySelector('#df-abda1900-0929-4f91-9ad3-5929e42d0365 button.colab-df-convert');\n",
              "        buttonEl.style.display =\n",
              "          google.colab.kernel.accessAllowed ? 'block' : 'none';\n",
              "\n",
              "        async function convertToInteractive(key) {\n",
              "          const element = document.querySelector('#df-abda1900-0929-4f91-9ad3-5929e42d0365');\n",
              "          const dataTable =\n",
              "            await google.colab.kernel.invokeFunction('convertToInteractive',\n",
              "                                                     [key], {});\n",
              "          if (!dataTable) return;\n",
              "\n",
              "          const docLinkHtml = 'Like what you see? Visit the ' +\n",
              "            '<a target=\"_blank\" href=https://colab.research.google.com/notebooks/data_table.ipynb>data table notebook</a>'\n",
              "            + ' to learn more about interactive tables.';\n",
              "          element.innerHTML = '';\n",
              "          dataTable['output_type'] = 'display_data';\n",
              "          await google.colab.output.renderOutput(dataTable, element);\n",
              "          const docLink = document.createElement('div');\n",
              "          docLink.innerHTML = docLinkHtml;\n",
              "          element.appendChild(docLink);\n",
              "        }\n",
              "      </script>\n",
              "    </div>\n",
              "  </div>\n",
              "  "
            ]
          },
          "metadata": {},
          "execution_count": 5
        }
      ]
    },
    {
      "cell_type": "code",
      "source": [
        "# Verificando se existe algum valor nulo ou ausente\n",
        "dados.isna().sum()\n",
        "\n",
        "# O Dataset possui algum valor nulo? R: Não."
      ],
      "metadata": {
        "colab": {
          "base_uri": "https://localhost:8080/"
        },
        "id": "L2LILFNp_Zug",
        "outputId": "d6ed1f25-69d9-4fdb-a685-effb860b7f36"
      },
      "execution_count": 6,
      "outputs": [
        {
          "output_type": "execute_result",
          "data": {
            "text/plain": [
              "Região               0\n",
              "Valor do Frete       0\n",
              "Dias para Entrega    0\n",
              "dtype: int64"
            ]
          },
          "metadata": {},
          "execution_count": 6
        }
      ]
    },
    {
      "cell_type": "code",
      "source": [
        "# Verificando informações da base de dados\n",
        "dados.info"
      ],
      "metadata": {
        "colab": {
          "base_uri": "https://localhost:8080/"
        },
        "id": "0JAUJY4o_jad",
        "outputId": "60145d36-8786-40d0-e516-21ea4b266059"
      },
      "execution_count": 7,
      "outputs": [
        {
          "output_type": "execute_result",
          "data": {
            "text/plain": [
              "<bound method DataFrame.info of            Região  Valor do Frete  Dias para Entrega\n",
              "0           Norte           49.59               20.0\n",
              "1           Norte          117.57                3.0\n",
              "2           Norte           98.15                7.0\n",
              "3           Norte           96.98                6.0\n",
              "4           Norte          123.00                6.0\n",
              "..            ...             ...                ...\n",
              "495  Centro-Oeste           88.72                7.0\n",
              "496  Centro-Oeste           66.35               11.0\n",
              "497  Centro-Oeste           41.56               22.0\n",
              "498  Centro-Oeste           73.28                9.0\n",
              "499  Centro-Oeste           60.75               14.0\n",
              "\n",
              "[500 rows x 3 columns]>"
            ]
          },
          "metadata": {},
          "execution_count": 7
        }
      ]
    },
    {
      "cell_type": "markdown",
      "source": [
        "# Análise de correlação entre as variáveis"
      ],
      "metadata": {
        "id": "v8MKmDAX_rSQ"
      }
    },
    {
      "cell_type": "markdown",
      "source": [
        "\n",
        "\n",
        "*   Correlação positiva: Quando duas variáveis que possuem correlação crescem ou descrescem juntas, ou seja, possuem relação direta.\n",
        "\n",
        "*  Correlação negativa: Quando duas variáveis que possuem correlação, mas quando uma variável cresce, a outra descresce, ou vice-versa.\n",
        "\n"
      ],
      "metadata": {
        "id": "lMq-uNDN_yd7"
      }
    },
    {
      "cell_type": "code",
      "source": [
        "dados.corr()"
      ],
      "metadata": {
        "colab": {
          "base_uri": "https://localhost:8080/",
          "height": 167
        },
        "id": "9Y6WBjDr_pNp",
        "outputId": "9a66d433-6f73-41c6-8dc9-8242c2a9a183"
      },
      "execution_count": 8,
      "outputs": [
        {
          "output_type": "stream",
          "name": "stderr",
          "text": [
            "<ipython-input-8-27ee38a39a92>:1: FutureWarning: The default value of numeric_only in DataFrame.corr is deprecated. In a future version, it will default to False. Select only valid columns or specify the value of numeric_only to silence this warning.\n",
            "  dados.corr()\n"
          ]
        },
        {
          "output_type": "execute_result",
          "data": {
            "text/plain": [
              "                   Valor do Frete  Dias para Entrega\n",
              "Valor do Frete           1.000000          -0.861617\n",
              "Dias para Entrega       -0.861617           1.000000"
            ],
            "text/html": [
              "\n",
              "  <div id=\"df-fa3a32a0-f617-47f2-84c2-29a6d55b63b4\">\n",
              "    <div class=\"colab-df-container\">\n",
              "      <div>\n",
              "<style scoped>\n",
              "    .dataframe tbody tr th:only-of-type {\n",
              "        vertical-align: middle;\n",
              "    }\n",
              "\n",
              "    .dataframe tbody tr th {\n",
              "        vertical-align: top;\n",
              "    }\n",
              "\n",
              "    .dataframe thead th {\n",
              "        text-align: right;\n",
              "    }\n",
              "</style>\n",
              "<table border=\"1\" class=\"dataframe\">\n",
              "  <thead>\n",
              "    <tr style=\"text-align: right;\">\n",
              "      <th></th>\n",
              "      <th>Valor do Frete</th>\n",
              "      <th>Dias para Entrega</th>\n",
              "    </tr>\n",
              "  </thead>\n",
              "  <tbody>\n",
              "    <tr>\n",
              "      <th>Valor do Frete</th>\n",
              "      <td>1.000000</td>\n",
              "      <td>-0.861617</td>\n",
              "    </tr>\n",
              "    <tr>\n",
              "      <th>Dias para Entrega</th>\n",
              "      <td>-0.861617</td>\n",
              "      <td>1.000000</td>\n",
              "    </tr>\n",
              "  </tbody>\n",
              "</table>\n",
              "</div>\n",
              "      <button class=\"colab-df-convert\" onclick=\"convertToInteractive('df-fa3a32a0-f617-47f2-84c2-29a6d55b63b4')\"\n",
              "              title=\"Convert this dataframe to an interactive table.\"\n",
              "              style=\"display:none;\">\n",
              "        \n",
              "  <svg xmlns=\"http://www.w3.org/2000/svg\" height=\"24px\"viewBox=\"0 0 24 24\"\n",
              "       width=\"24px\">\n",
              "    <path d=\"M0 0h24v24H0V0z\" fill=\"none\"/>\n",
              "    <path d=\"M18.56 5.44l.94 2.06.94-2.06 2.06-.94-2.06-.94-.94-2.06-.94 2.06-2.06.94zm-11 1L8.5 8.5l.94-2.06 2.06-.94-2.06-.94L8.5 2.5l-.94 2.06-2.06.94zm10 10l.94 2.06.94-2.06 2.06-.94-2.06-.94-.94-2.06-.94 2.06-2.06.94z\"/><path d=\"M17.41 7.96l-1.37-1.37c-.4-.4-.92-.59-1.43-.59-.52 0-1.04.2-1.43.59L10.3 9.45l-7.72 7.72c-.78.78-.78 2.05 0 2.83L4 21.41c.39.39.9.59 1.41.59.51 0 1.02-.2 1.41-.59l7.78-7.78 2.81-2.81c.8-.78.8-2.07 0-2.86zM5.41 20L4 18.59l7.72-7.72 1.47 1.35L5.41 20z\"/>\n",
              "  </svg>\n",
              "      </button>\n",
              "      \n",
              "  <style>\n",
              "    .colab-df-container {\n",
              "      display:flex;\n",
              "      flex-wrap:wrap;\n",
              "      gap: 12px;\n",
              "    }\n",
              "\n",
              "    .colab-df-convert {\n",
              "      background-color: #E8F0FE;\n",
              "      border: none;\n",
              "      border-radius: 50%;\n",
              "      cursor: pointer;\n",
              "      display: none;\n",
              "      fill: #1967D2;\n",
              "      height: 32px;\n",
              "      padding: 0 0 0 0;\n",
              "      width: 32px;\n",
              "    }\n",
              "\n",
              "    .colab-df-convert:hover {\n",
              "      background-color: #E2EBFA;\n",
              "      box-shadow: 0px 1px 2px rgba(60, 64, 67, 0.3), 0px 1px 3px 1px rgba(60, 64, 67, 0.15);\n",
              "      fill: #174EA6;\n",
              "    }\n",
              "\n",
              "    [theme=dark] .colab-df-convert {\n",
              "      background-color: #3B4455;\n",
              "      fill: #D2E3FC;\n",
              "    }\n",
              "\n",
              "    [theme=dark] .colab-df-convert:hover {\n",
              "      background-color: #434B5C;\n",
              "      box-shadow: 0px 1px 3px 1px rgba(0, 0, 0, 0.15);\n",
              "      filter: drop-shadow(0px 1px 2px rgba(0, 0, 0, 0.3));\n",
              "      fill: #FFFFFF;\n",
              "    }\n",
              "  </style>\n",
              "\n",
              "      <script>\n",
              "        const buttonEl =\n",
              "          document.querySelector('#df-fa3a32a0-f617-47f2-84c2-29a6d55b63b4 button.colab-df-convert');\n",
              "        buttonEl.style.display =\n",
              "          google.colab.kernel.accessAllowed ? 'block' : 'none';\n",
              "\n",
              "        async function convertToInteractive(key) {\n",
              "          const element = document.querySelector('#df-fa3a32a0-f617-47f2-84c2-29a6d55b63b4');\n",
              "          const dataTable =\n",
              "            await google.colab.kernel.invokeFunction('convertToInteractive',\n",
              "                                                     [key], {});\n",
              "          if (!dataTable) return;\n",
              "\n",
              "          const docLinkHtml = 'Like what you see? Visit the ' +\n",
              "            '<a target=\"_blank\" href=https://colab.research.google.com/notebooks/data_table.ipynb>data table notebook</a>'\n",
              "            + ' to learn more about interactive tables.';\n",
              "          element.innerHTML = '';\n",
              "          dataTable['output_type'] = 'display_data';\n",
              "          await google.colab.output.renderOutput(dataTable, element);\n",
              "          const docLink = document.createElement('div');\n",
              "          docLink.innerHTML = docLinkHtml;\n",
              "          element.appendChild(docLink);\n",
              "        }\n",
              "      </script>\n",
              "    </div>\n",
              "  </div>\n",
              "  "
            ]
          },
          "metadata": {},
          "execution_count": 8
        }
      ]
    },
    {
      "cell_type": "markdown",
      "source": [
        "# Tratamento de dados\n",
        "\n",
        "Nessa etapa, vamos preparar os dados para serem utilizados no modelo de Regressão linear. Essa transformação deve ser realizada para que os dados possam ter o formato que o algoritmo solicita como entrada."
      ],
      "metadata": {
        "id": "RbtAjRZqAipE"
      }
    },
    {
      "cell_type": "markdown",
      "source": [
        "## Selecionando a região sudeste"
      ],
      "metadata": {
        "id": "uA6Orc2zCAXi"
      }
    },
    {
      "cell_type": "code",
      "source": [
        "# Filtrando a região sudeste\n",
        "dados_filtrados = dados.query('Região == \"Sudeste\"')\n",
        "dados_filtrados"
      ],
      "metadata": {
        "colab": {
          "base_uri": "https://localhost:8080/",
          "height": 423
        },
        "id": "fNNlaZsbCFdY",
        "outputId": "c85d0bf2-912e-45f7-a506-cf712548fe5b"
      },
      "execution_count": 9,
      "outputs": [
        {
          "output_type": "execute_result",
          "data": {
            "text/plain": [
              "      Região  Valor do Frete  Dias para Entrega\n",
              "200  Sudeste          106.04                8.0\n",
              "201  Sudeste          103.51                1.0\n",
              "202  Sudeste           82.69               13.0\n",
              "203  Sudeste          108.23                4.0\n",
              "204  Sudeste          116.11                1.0\n",
              "..       ...             ...                ...\n",
              "295  Sudeste           84.04                5.0\n",
              "296  Sudeste          108.20                4.0\n",
              "297  Sudeste           96.42                4.0\n",
              "298  Sudeste          115.34                5.0\n",
              "299  Sudeste           70.30               13.0\n",
              "\n",
              "[100 rows x 3 columns]"
            ],
            "text/html": [
              "\n",
              "  <div id=\"df-37314e1d-02e8-4d4e-af35-feed1e1580a0\">\n",
              "    <div class=\"colab-df-container\">\n",
              "      <div>\n",
              "<style scoped>\n",
              "    .dataframe tbody tr th:only-of-type {\n",
              "        vertical-align: middle;\n",
              "    }\n",
              "\n",
              "    .dataframe tbody tr th {\n",
              "        vertical-align: top;\n",
              "    }\n",
              "\n",
              "    .dataframe thead th {\n",
              "        text-align: right;\n",
              "    }\n",
              "</style>\n",
              "<table border=\"1\" class=\"dataframe\">\n",
              "  <thead>\n",
              "    <tr style=\"text-align: right;\">\n",
              "      <th></th>\n",
              "      <th>Região</th>\n",
              "      <th>Valor do Frete</th>\n",
              "      <th>Dias para Entrega</th>\n",
              "    </tr>\n",
              "  </thead>\n",
              "  <tbody>\n",
              "    <tr>\n",
              "      <th>200</th>\n",
              "      <td>Sudeste</td>\n",
              "      <td>106.04</td>\n",
              "      <td>8.0</td>\n",
              "    </tr>\n",
              "    <tr>\n",
              "      <th>201</th>\n",
              "      <td>Sudeste</td>\n",
              "      <td>103.51</td>\n",
              "      <td>1.0</td>\n",
              "    </tr>\n",
              "    <tr>\n",
              "      <th>202</th>\n",
              "      <td>Sudeste</td>\n",
              "      <td>82.69</td>\n",
              "      <td>13.0</td>\n",
              "    </tr>\n",
              "    <tr>\n",
              "      <th>203</th>\n",
              "      <td>Sudeste</td>\n",
              "      <td>108.23</td>\n",
              "      <td>4.0</td>\n",
              "    </tr>\n",
              "    <tr>\n",
              "      <th>204</th>\n",
              "      <td>Sudeste</td>\n",
              "      <td>116.11</td>\n",
              "      <td>1.0</td>\n",
              "    </tr>\n",
              "    <tr>\n",
              "      <th>...</th>\n",
              "      <td>...</td>\n",
              "      <td>...</td>\n",
              "      <td>...</td>\n",
              "    </tr>\n",
              "    <tr>\n",
              "      <th>295</th>\n",
              "      <td>Sudeste</td>\n",
              "      <td>84.04</td>\n",
              "      <td>5.0</td>\n",
              "    </tr>\n",
              "    <tr>\n",
              "      <th>296</th>\n",
              "      <td>Sudeste</td>\n",
              "      <td>108.20</td>\n",
              "      <td>4.0</td>\n",
              "    </tr>\n",
              "    <tr>\n",
              "      <th>297</th>\n",
              "      <td>Sudeste</td>\n",
              "      <td>96.42</td>\n",
              "      <td>4.0</td>\n",
              "    </tr>\n",
              "    <tr>\n",
              "      <th>298</th>\n",
              "      <td>Sudeste</td>\n",
              "      <td>115.34</td>\n",
              "      <td>5.0</td>\n",
              "    </tr>\n",
              "    <tr>\n",
              "      <th>299</th>\n",
              "      <td>Sudeste</td>\n",
              "      <td>70.30</td>\n",
              "      <td>13.0</td>\n",
              "    </tr>\n",
              "  </tbody>\n",
              "</table>\n",
              "<p>100 rows × 3 columns</p>\n",
              "</div>\n",
              "      <button class=\"colab-df-convert\" onclick=\"convertToInteractive('df-37314e1d-02e8-4d4e-af35-feed1e1580a0')\"\n",
              "              title=\"Convert this dataframe to an interactive table.\"\n",
              "              style=\"display:none;\">\n",
              "        \n",
              "  <svg xmlns=\"http://www.w3.org/2000/svg\" height=\"24px\"viewBox=\"0 0 24 24\"\n",
              "       width=\"24px\">\n",
              "    <path d=\"M0 0h24v24H0V0z\" fill=\"none\"/>\n",
              "    <path d=\"M18.56 5.44l.94 2.06.94-2.06 2.06-.94-2.06-.94-.94-2.06-.94 2.06-2.06.94zm-11 1L8.5 8.5l.94-2.06 2.06-.94-2.06-.94L8.5 2.5l-.94 2.06-2.06.94zm10 10l.94 2.06.94-2.06 2.06-.94-2.06-.94-.94-2.06-.94 2.06-2.06.94z\"/><path d=\"M17.41 7.96l-1.37-1.37c-.4-.4-.92-.59-1.43-.59-.52 0-1.04.2-1.43.59L10.3 9.45l-7.72 7.72c-.78.78-.78 2.05 0 2.83L4 21.41c.39.39.9.59 1.41.59.51 0 1.02-.2 1.41-.59l7.78-7.78 2.81-2.81c.8-.78.8-2.07 0-2.86zM5.41 20L4 18.59l7.72-7.72 1.47 1.35L5.41 20z\"/>\n",
              "  </svg>\n",
              "      </button>\n",
              "      \n",
              "  <style>\n",
              "    .colab-df-container {\n",
              "      display:flex;\n",
              "      flex-wrap:wrap;\n",
              "      gap: 12px;\n",
              "    }\n",
              "\n",
              "    .colab-df-convert {\n",
              "      background-color: #E8F0FE;\n",
              "      border: none;\n",
              "      border-radius: 50%;\n",
              "      cursor: pointer;\n",
              "      display: none;\n",
              "      fill: #1967D2;\n",
              "      height: 32px;\n",
              "      padding: 0 0 0 0;\n",
              "      width: 32px;\n",
              "    }\n",
              "\n",
              "    .colab-df-convert:hover {\n",
              "      background-color: #E2EBFA;\n",
              "      box-shadow: 0px 1px 2px rgba(60, 64, 67, 0.3), 0px 1px 3px 1px rgba(60, 64, 67, 0.15);\n",
              "      fill: #174EA6;\n",
              "    }\n",
              "\n",
              "    [theme=dark] .colab-df-convert {\n",
              "      background-color: #3B4455;\n",
              "      fill: #D2E3FC;\n",
              "    }\n",
              "\n",
              "    [theme=dark] .colab-df-convert:hover {\n",
              "      background-color: #434B5C;\n",
              "      box-shadow: 0px 1px 3px 1px rgba(0, 0, 0, 0.15);\n",
              "      filter: drop-shadow(0px 1px 2px rgba(0, 0, 0, 0.3));\n",
              "      fill: #FFFFFF;\n",
              "    }\n",
              "  </style>\n",
              "\n",
              "      <script>\n",
              "        const buttonEl =\n",
              "          document.querySelector('#df-37314e1d-02e8-4d4e-af35-feed1e1580a0 button.colab-df-convert');\n",
              "        buttonEl.style.display =\n",
              "          google.colab.kernel.accessAllowed ? 'block' : 'none';\n",
              "\n",
              "        async function convertToInteractive(key) {\n",
              "          const element = document.querySelector('#df-37314e1d-02e8-4d4e-af35-feed1e1580a0');\n",
              "          const dataTable =\n",
              "            await google.colab.kernel.invokeFunction('convertToInteractive',\n",
              "                                                     [key], {});\n",
              "          if (!dataTable) return;\n",
              "\n",
              "          const docLinkHtml = 'Like what you see? Visit the ' +\n",
              "            '<a target=\"_blank\" href=https://colab.research.google.com/notebooks/data_table.ipynb>data table notebook</a>'\n",
              "            + ' to learn more about interactive tables.';\n",
              "          element.innerHTML = '';\n",
              "          dataTable['output_type'] = 'display_data';\n",
              "          await google.colab.output.renderOutput(dataTable, element);\n",
              "          const docLink = document.createElement('div');\n",
              "          docLink.innerHTML = docLinkHtml;\n",
              "          element.appendChild(docLink);\n",
              "        }\n",
              "      </script>\n",
              "    </div>\n",
              "  </div>\n",
              "  "
            ]
          },
          "metadata": {},
          "execution_count": 9
        }
      ]
    },
    {
      "cell_type": "code",
      "source": [
        "# Qual A média do valor do frete para a região sudeste ? R: R$87.18 \n",
        "dados_filtrados.describe()"
      ],
      "metadata": {
        "colab": {
          "base_uri": "https://localhost:8080/",
          "height": 300
        },
        "id": "GytPju7-dedZ",
        "outputId": "3fbccd20-5cb7-404e-ebf0-472cba1a9279"
      },
      "execution_count": 10,
      "outputs": [
        {
          "output_type": "execute_result",
          "data": {
            "text/plain": [
              "       Valor do Frete  Dias para Entrega\n",
              "count      100.000000         100.000000\n",
              "mean        87.186500           8.120000\n",
              "std         22.707019           5.733615\n",
              "min         19.170000           1.000000\n",
              "25%         73.017500           3.750000\n",
              "50%         89.240000           7.000000\n",
              "75%        106.190000          12.000000\n",
              "max        119.570000          26.000000"
            ],
            "text/html": [
              "\n",
              "  <div id=\"df-77453764-e1e1-49ee-aa4f-b5d59771a69f\">\n",
              "    <div class=\"colab-df-container\">\n",
              "      <div>\n",
              "<style scoped>\n",
              "    .dataframe tbody tr th:only-of-type {\n",
              "        vertical-align: middle;\n",
              "    }\n",
              "\n",
              "    .dataframe tbody tr th {\n",
              "        vertical-align: top;\n",
              "    }\n",
              "\n",
              "    .dataframe thead th {\n",
              "        text-align: right;\n",
              "    }\n",
              "</style>\n",
              "<table border=\"1\" class=\"dataframe\">\n",
              "  <thead>\n",
              "    <tr style=\"text-align: right;\">\n",
              "      <th></th>\n",
              "      <th>Valor do Frete</th>\n",
              "      <th>Dias para Entrega</th>\n",
              "    </tr>\n",
              "  </thead>\n",
              "  <tbody>\n",
              "    <tr>\n",
              "      <th>count</th>\n",
              "      <td>100.000000</td>\n",
              "      <td>100.000000</td>\n",
              "    </tr>\n",
              "    <tr>\n",
              "      <th>mean</th>\n",
              "      <td>87.186500</td>\n",
              "      <td>8.120000</td>\n",
              "    </tr>\n",
              "    <tr>\n",
              "      <th>std</th>\n",
              "      <td>22.707019</td>\n",
              "      <td>5.733615</td>\n",
              "    </tr>\n",
              "    <tr>\n",
              "      <th>min</th>\n",
              "      <td>19.170000</td>\n",
              "      <td>1.000000</td>\n",
              "    </tr>\n",
              "    <tr>\n",
              "      <th>25%</th>\n",
              "      <td>73.017500</td>\n",
              "      <td>3.750000</td>\n",
              "    </tr>\n",
              "    <tr>\n",
              "      <th>50%</th>\n",
              "      <td>89.240000</td>\n",
              "      <td>7.000000</td>\n",
              "    </tr>\n",
              "    <tr>\n",
              "      <th>75%</th>\n",
              "      <td>106.190000</td>\n",
              "      <td>12.000000</td>\n",
              "    </tr>\n",
              "    <tr>\n",
              "      <th>max</th>\n",
              "      <td>119.570000</td>\n",
              "      <td>26.000000</td>\n",
              "    </tr>\n",
              "  </tbody>\n",
              "</table>\n",
              "</div>\n",
              "      <button class=\"colab-df-convert\" onclick=\"convertToInteractive('df-77453764-e1e1-49ee-aa4f-b5d59771a69f')\"\n",
              "              title=\"Convert this dataframe to an interactive table.\"\n",
              "              style=\"display:none;\">\n",
              "        \n",
              "  <svg xmlns=\"http://www.w3.org/2000/svg\" height=\"24px\"viewBox=\"0 0 24 24\"\n",
              "       width=\"24px\">\n",
              "    <path d=\"M0 0h24v24H0V0z\" fill=\"none\"/>\n",
              "    <path d=\"M18.56 5.44l.94 2.06.94-2.06 2.06-.94-2.06-.94-.94-2.06-.94 2.06-2.06.94zm-11 1L8.5 8.5l.94-2.06 2.06-.94-2.06-.94L8.5 2.5l-.94 2.06-2.06.94zm10 10l.94 2.06.94-2.06 2.06-.94-2.06-.94-.94-2.06-.94 2.06-2.06.94z\"/><path d=\"M17.41 7.96l-1.37-1.37c-.4-.4-.92-.59-1.43-.59-.52 0-1.04.2-1.43.59L10.3 9.45l-7.72 7.72c-.78.78-.78 2.05 0 2.83L4 21.41c.39.39.9.59 1.41.59.51 0 1.02-.2 1.41-.59l7.78-7.78 2.81-2.81c.8-.78.8-2.07 0-2.86zM5.41 20L4 18.59l7.72-7.72 1.47 1.35L5.41 20z\"/>\n",
              "  </svg>\n",
              "      </button>\n",
              "      \n",
              "  <style>\n",
              "    .colab-df-container {\n",
              "      display:flex;\n",
              "      flex-wrap:wrap;\n",
              "      gap: 12px;\n",
              "    }\n",
              "\n",
              "    .colab-df-convert {\n",
              "      background-color: #E8F0FE;\n",
              "      border: none;\n",
              "      border-radius: 50%;\n",
              "      cursor: pointer;\n",
              "      display: none;\n",
              "      fill: #1967D2;\n",
              "      height: 32px;\n",
              "      padding: 0 0 0 0;\n",
              "      width: 32px;\n",
              "    }\n",
              "\n",
              "    .colab-df-convert:hover {\n",
              "      background-color: #E2EBFA;\n",
              "      box-shadow: 0px 1px 2px rgba(60, 64, 67, 0.3), 0px 1px 3px 1px rgba(60, 64, 67, 0.15);\n",
              "      fill: #174EA6;\n",
              "    }\n",
              "\n",
              "    [theme=dark] .colab-df-convert {\n",
              "      background-color: #3B4455;\n",
              "      fill: #D2E3FC;\n",
              "    }\n",
              "\n",
              "    [theme=dark] .colab-df-convert:hover {\n",
              "      background-color: #434B5C;\n",
              "      box-shadow: 0px 1px 3px 1px rgba(0, 0, 0, 0.15);\n",
              "      filter: drop-shadow(0px 1px 2px rgba(0, 0, 0, 0.3));\n",
              "      fill: #FFFFFF;\n",
              "    }\n",
              "  </style>\n",
              "\n",
              "      <script>\n",
              "        const buttonEl =\n",
              "          document.querySelector('#df-77453764-e1e1-49ee-aa4f-b5d59771a69f button.colab-df-convert');\n",
              "        buttonEl.style.display =\n",
              "          google.colab.kernel.accessAllowed ? 'block' : 'none';\n",
              "\n",
              "        async function convertToInteractive(key) {\n",
              "          const element = document.querySelector('#df-77453764-e1e1-49ee-aa4f-b5d59771a69f');\n",
              "          const dataTable =\n",
              "            await google.colab.kernel.invokeFunction('convertToInteractive',\n",
              "                                                     [key], {});\n",
              "          if (!dataTable) return;\n",
              "\n",
              "          const docLinkHtml = 'Like what you see? Visit the ' +\n",
              "            '<a target=\"_blank\" href=https://colab.research.google.com/notebooks/data_table.ipynb>data table notebook</a>'\n",
              "            + ' to learn more about interactive tables.';\n",
              "          element.innerHTML = '';\n",
              "          dataTable['output_type'] = 'display_data';\n",
              "          await google.colab.output.renderOutput(dataTable, element);\n",
              "          const docLink = document.createElement('div');\n",
              "          docLink.innerHTML = docLinkHtml;\n",
              "          element.appendChild(docLink);\n",
              "        }\n",
              "      </script>\n",
              "    </div>\n",
              "  </div>\n",
              "  "
            ]
          },
          "metadata": {},
          "execution_count": 10
        }
      ]
    },
    {
      "cell_type": "markdown",
      "source": [
        "# Análise gráfica entre as variáveis"
      ],
      "metadata": {
        "id": "aIys3XgJAUDJ"
      }
    },
    {
      "cell_type": "code",
      "source": [
        "correlacao = dados_filtrados.corr()\n",
        "sns.heatmap(correlacao , annot=True)\n",
        "\n",
        "# Existe correlação entre as variáveis do dataset? R: Sim, existe uma correlação forte negativa de 0.9.\n"
      ],
      "metadata": {
        "colab": {
          "base_uri": "https://localhost:8080/",
          "height": 507
        },
        "id": "cDz3BoowAPQP",
        "outputId": "c2c8a81d-698c-411d-e0db-31647997dbe0"
      },
      "execution_count": 11,
      "outputs": [
        {
          "output_type": "stream",
          "name": "stderr",
          "text": [
            "<ipython-input-11-7515f09d284a>:1: FutureWarning: The default value of numeric_only in DataFrame.corr is deprecated. In a future version, it will default to False. Select only valid columns or specify the value of numeric_only to silence this warning.\n",
            "  correlacao = dados_filtrados.corr()\n"
          ]
        },
        {
          "output_type": "execute_result",
          "data": {
            "text/plain": [
              "<Axes: >"
            ]
          },
          "metadata": {},
          "execution_count": 11
        },
        {
          "output_type": "display_data",
          "data": {
            "text/plain": [
              "<Figure size 640x480 with 2 Axes>"
            ],
            "image/png": "[encoded data removed]"
          },
          "metadata": {}
        }
      ]
    },
    {
      "cell_type": "markdown",
      "source": [
        "# Criando a variável independente - X\n",
        "\n",
        "Coletamos todos os registros da primeira coluna (coluna um) e convertemos no formato array.\n",
        "\n"
      ],
      "metadata": {
        "id": "ysiBLieIA0Ho"
      }
    },
    {
      "cell_type": "code",
      "source": [
        "X = dados_filtrados.iloc[:,1].values\n",
        "print(X)"
      ],
      "metadata": {
        "colab": {
          "base_uri": "https://localhost:8080/"
        },
        "id": "mrYtGSbSAgW3",
        "outputId": "b1e37dd9-7096-4bea-d8e1-111c5a9e7d69"
      },
      "execution_count": 12,
      "outputs": [
        {
          "output_type": "stream",
          "name": "stdout",
          "text": [
            "[106.04 103.51  82.69 108.23 116.11 116.26  92.89 116.46 111.23  48.95\n",
            "  41.5   78.98 102.68  63.54  92.67  49.36  59.45  89.51  91.84  70.88\n",
            " 115.21  60.42 119.57  66.   118.7   37.7   88.29  56.9   87.75 101.31\n",
            "  82.85  65.84  96.94  68.87  33.47  60.72 100.98 106.64 109.98  84.89\n",
            "  76.32 100.53 117.47  86.73 115.8   69.96  98.35  84.64 118.49  94.12\n",
            "  89.33  82.59 100.33 117.05  85.69  59.6  108.99  95.84 118.57  50.12\n",
            "  80.26  74.58  57.69  60.26 115.93  88.84  92.82  89.15  96.69 114.66\n",
            " 114.56  60.02  91.63 119.06  98.77  88.12  59.78  95.71  74.45  95.53\n",
            "  87.85 109.58  19.17 107.31 107.27  93.99  83.67  73.73  84.72  75.63\n",
            "  78.52  77.17  51.31  46.94 102.65  84.04 108.2   96.42 115.34  70.3 ]\n"
          ]
        }
      ]
    },
    {
      "cell_type": "markdown",
      "source": [
        "# Criando a variável dependente - y  \n",
        "\n",
        "y = O que queremos prever, no caso, a quantidade de dias para entrega."
      ],
      "metadata": {
        "id": "fN_DuSV1Bd7v"
      }
    },
    {
      "cell_type": "code",
      "source": [
        "y = dados_filtrados.iloc[:,2].values\n",
        "print(y)"
      ],
      "metadata": {
        "colab": {
          "base_uri": "https://localhost:8080/"
        },
        "id": "kYPw0pbqBYKU",
        "outputId": "54595ca7-4adb-451b-dc8c-e16139d9ec53"
      },
      "execution_count": 13,
      "outputs": [
        {
          "output_type": "stream",
          "name": "stdout",
          "text": [
            "[ 8.  1. 13.  4.  1.  2. 11.  1.  4. 15. 18.  7.  6. 17.  9. 20. 16.  3.\n",
            "  5. 11.  2. 18.  3. 13.  1. 17.  5. 16.  7.  4. 10. 15.  5.  9. 23. 12.\n",
            "  9.  7.  1.  7.  6.  4.  1.  8.  1. 13.  9.  6.  2. 11. 11. 10.  8.  1.\n",
            " 13. 16.  1.  5.  4. 19. 12. 10. 13. 12.  2.  3.  4.  7.  8.  3.  1. 16.\n",
            "  2.  1.  2.  5. 15.  2.  8. 11.  5.  1. 26.  4.  1. 10.  7. 10.  7. 13.\n",
            " 11. 12. 16. 14.  2.  5.  4.  4.  5. 13.]\n"
          ]
        }
      ]
    },
    {
      "cell_type": "markdown",
      "source": [
        "# Verificando tipo de variáveis\n"
      ],
      "metadata": {
        "id": "8IfygwEjBz_L"
      }
    },
    {
      "cell_type": "code",
      "source": [
        "type(X)"
      ],
      "metadata": {
        "colab": {
          "base_uri": "https://localhost:8080/"
        },
        "id": "fS0y_CRVBx7q",
        "outputId": "fda15daf-5fba-474a-97b4-ccbd6c561c81"
      },
      "execution_count": 14,
      "outputs": [
        {
          "output_type": "execute_result",
          "data": {
            "text/plain": [
              "numpy.ndarray"
            ]
          },
          "metadata": {},
          "execution_count": 14
        }
      ]
    },
    {
      "cell_type": "code",
      "source": [
        "type(y)"
      ],
      "metadata": {
        "colab": {
          "base_uri": "https://localhost:8080/"
        },
        "id": "n9N7Z0dyB472",
        "outputId": "27c36f9f-0a74-445a-c0a6-17171411be71"
      },
      "execution_count": 15,
      "outputs": [
        {
          "output_type": "execute_result",
          "data": {
            "text/plain": [
              "numpy.ndarray"
            ]
          },
          "metadata": {},
          "execution_count": 15
        }
      ]
    },
    {
      "cell_type": "code",
      "source": [
        "X.shape"
      ],
      "metadata": {
        "colab": {
          "base_uri": "https://localhost:8080/"
        },
        "id": "48j8YZE2B6Y8",
        "outputId": "b4e37846-668d-40de-850c-13c71c1e3433"
      },
      "execution_count": 16,
      "outputs": [
        {
          "output_type": "execute_result",
          "data": {
            "text/plain": [
              "(100,)"
            ]
          },
          "metadata": {},
          "execution_count": 16
        }
      ]
    },
    {
      "cell_type": "markdown",
      "source": [
        "# Transformando Array em Matriz"
      ],
      "metadata": {
        "id": "2Ia6ckU8CpyP"
      }
    },
    {
      "cell_type": "code",
      "source": [
        "# Qual o comando que transforma um array em matriz? R: .reshape(-1,1)\n",
        "\n",
        "X = X.reshape(-1,1)\n",
        "X.shape"
      ],
      "metadata": {
        "colab": {
          "base_uri": "https://localhost:8080/"
        },
        "id": "Je3-FvidB8-Y",
        "outputId": "ba55c530-f003-4e09-d702-a389fb0bd42a"
      },
      "execution_count": 17,
      "outputs": [
        {
          "output_type": "execute_result",
          "data": {
            "text/plain": [
              "(100, 1)"
            ]
          },
          "metadata": {},
          "execution_count": 17
        }
      ]
    },
    {
      "cell_type": "markdown",
      "source": [
        "# Criando modelo de machine learning - Regressão Linear\n"
      ],
      "metadata": {
        "id": "skUzbC3DCygc"
      }
    },
    {
      "cell_type": "code",
      "source": [
        "from sklearn.linear_model import LinearRegression\n",
        "predicao_dados = LinearRegression()"
      ],
      "metadata": {
        "id": "bsQRCO7rCwWk"
      },
      "execution_count": 18,
      "outputs": []
    },
    {
      "cell_type": "markdown",
      "source": [
        "# Realizando o treinamento do modelo"
      ],
      "metadata": {
        "id": "iWvS8DDMDFeT"
      }
    },
    {
      "cell_type": "code",
      "source": [
        "predicao_dados.fit(X,y)"
      ],
      "metadata": {
        "colab": {
          "base_uri": "https://localhost:8080/",
          "height": 74
        },
        "id": "a8DBOuQNDC1P",
        "outputId": "0f84d2fa-5a12-40a1-faf6-31ec611ff6ad"
      },
      "execution_count": 19,
      "outputs": [
        {
          "output_type": "execute_result",
          "data": {
            "text/plain": [
              "LinearRegression()"
            ],
            "text/html": [
              "<style>#sk-container-id-1 {color: black;background-color: white;}#sk-container-id-1 pre{padding: 0;}#sk-container-id-1 div.sk-toggleable {background-color: white;}#sk-container-id-1 label.sk-toggleable__label {cursor: pointer;display: block;width: 100%;margin-bottom: 0;padding: 0.3em;box-sizing: border-box;text-align: center;}#sk-container-id-1 label.sk-toggleable__label-arrow:before {content: \"▸\";float: left;margin-right: 0.25em;color: #696969;}#sk-container-id-1 label.sk-toggleable__label-arrow:hover:before {color: black;}#sk-container-id-1 div.sk-estimator:hover label.sk-toggleable__label-arrow:before {color: black;}#sk-container-id-1 div.sk-toggleable__content {max-height: 0;max-width: 0;overflow: hidden;text-align: left;background-color: #f0f8ff;}#sk-container-id-1 div.sk-toggleable__content pre {margin: 0.2em;color: black;border-radius: 0.25em;background-color: #f0f8ff;}#sk-container-id-1 input.sk-toggleable__control:checked~div.sk-toggleable__content {max-height: 200px;max-width: 100%;overflow: auto;}#sk-container-id-1 input.sk-toggleable__control:checked~label.sk-toggleable__label-arrow:before {content: \"▾\";}#sk-container-id-1 div.sk-estimator input.sk-toggleable__control:checked~label.sk-toggleable__label {background-color: #d4ebff;}#sk-container-id-1 div.sk-label input.sk-toggleable__control:checked~label.sk-toggleable__label {background-color: #d4ebff;}#sk-container-id-1 input.sk-hidden--visually {border: 0;clip: rect(1px 1px 1px 1px);clip: rect(1px, 1px, 1px, 1px);height: 1px;margin: -1px;overflow: hidden;padding: 0;position: absolute;width: 1px;}#sk-container-id-1 div.sk-estimator {font-family: monospace;background-color: #f0f8ff;border: 1px dotted black;border-radius: 0.25em;box-sizing: border-box;margin-bottom: 0.5em;}#sk-container-id-1 div.sk-estimator:hover {background-color: #d4ebff;}#sk-container-id-1 div.sk-parallel-item::after {content: \"\";width: 100%;border-bottom: 1px solid gray;flex-grow: 1;}#sk-container-id-1 div.sk-label:hover label.sk-toggleable__label {background-color: #d4ebff;}#sk-container-id-1 div.sk-serial::before {content: \"\";position: absolute;border-left: 1px solid gray;box-sizing: border-box;top: 0;bottom: 0;left: 50%;z-index: 0;}#sk-container-id-1 div.sk-serial {display: flex;flex-direction: column;align-items: center;background-color: white;padding-right: 0.2em;padding-left: 0.2em;position: relative;}#sk-container-id-1 div.sk-item {position: relative;z-index: 1;}#sk-container-id-1 div.sk-parallel {display: flex;align-items: stretch;justify-content: center;background-color: white;position: relative;}#sk-container-id-1 div.sk-item::before, #sk-container-id-1 div.sk-parallel-item::before {content: \"\";position: absolute;border-left: 1px solid gray;box-sizing: border-box;top: 0;bottom: 0;left: 50%;z-index: -1;}#sk-container-id-1 div.sk-parallel-item {display: flex;flex-direction: column;z-index: 1;position: relative;background-color: white;}#sk-container-id-1 div.sk-parallel-item:first-child::after {align-self: flex-end;width: 50%;}#sk-container-id-1 div.sk-parallel-item:last-child::after {align-self: flex-start;width: 50%;}#sk-container-id-1 div.sk-parallel-item:only-child::after {width: 0;}#sk-container-id-1 div.sk-dashed-wrapped {border: 1px dashed gray;margin: 0 0.4em 0.5em 0.4em;box-sizing: border-box;padding-bottom: 0.4em;background-color: white;}#sk-container-id-1 div.sk-label label {font-family: monospace;font-weight: bold;display: inline-block;line-height: 1.2em;}#sk-container-id-1 div.sk-label-container {text-align: center;}#sk-container-id-1 div.sk-container {/* jupyter's `normalize.less` sets `[hidden] { display: none; }` but bootstrap.min.css set `[hidden] { display: none !important; }` so we also need the `!important` here to be able to override the default hidden behavior on the sphinx rendered scikit-learn.org. See: https://github.com/scikit-learn/scikit-learn/issues/21755 */display: inline-block !important;position: relative;}#sk-container-id-1 div.sk-text-repr-fallback {display: none;}</style><div id=\"sk-container-id-1\" class=\"sk-top-container\"><div class=\"sk-text-repr-fallback\"><pre>LinearRegression()</pre><b>In a Jupyter environment, please rerun this cell to show the HTML representation or trust the notebook. <br />On GitHub, the HTML representation is unable to render, please try loading this page with nbviewer.org.</b></div><div class=\"sk-container\" hidden><div class=\"sk-item\"><div class=\"sk-estimator sk-toggleable\"><input class=\"sk-toggleable__control sk-hidden--visually\" id=\"sk-estimator-id-1\" type=\"checkbox\" checked><label for=\"sk-estimator-id-1\" class=\"sk-toggleable__label sk-toggleable__label-arrow\">LinearRegression</label><div class=\"sk-toggleable__content\"><pre>LinearRegression()</pre></div></div></div></div></div>"
            ]
          },
          "metadata": {},
          "execution_count": 19
        }
      ]
    },
    {
      "cell_type": "markdown",
      "source": [
        "![LR.png](data:image/png;base64,iVBORw0KGgoAAAANSUhEUgAAAckAAABuCAMAAAB7jxihAAACBFBMVEX///8AAADv7++goKDe3t6np6f4+Ph6enpgYGAYGBj///1paWnGxsbt7e0sLCzV1dVRUVH///lViK+geDuDtNjRrXEPAAC+vr5eKAD3////6sf/+uRaAAAAABDm/f9cjr7z3bQALGb///P25bsAADgWAAC24/8AAAmNVABAAAAhAAAxAAD//+4AAC2bzu6SvuAAACE3NzcoAACRtt8AI2MAAD8AACgAAEQAADTWoWvElGqLSA/rz62YbCXixIgAABiEhIRERETtvo21p5JvMAA1AADZ+//U8P8AJGxAfaxqIgBnntAoZJ3/+dxJAACZazMAPXDYvaaChZiemq7KvLW2vswzDyTk1cnK2OcAIFGdkHrPxr3+8uS6i1NCaZfxxp2YcEswMQAAPX9FEgCuiWQfTYCQn4jVv6JkhKF8XD3u3sRoSC07HgBWMg0WQ2m/oYC20eo4a4xdeZEyVnhxNxqLpaxcMwDB5N88cKUALFRyQQCis7mBX1VfeLCunoYTUYxxSRuPTSlQFAB7mK1qWmQAC2adXyv92re5h0FEHAB0YUjb2bxIQi6VuMU1KxbIklQAM1KgloiGemQbGEO8iGguSV4zADhXOydhRE0+IBmht9EZJkAiEwHSqIOjakUzGCkwHVxILC+ksZ4zMkpNW3MdNEOcfGt3alxiUzybi5KdpbpacnlaG6cUAAAP7klEQVR4nO1d+0MTRx7fL4EAITzWloQkghjkHSSgCImpEAQj1YBYewoEoQoHpBVQimfhTjk5wdKWWlvOq4r3spV6/+R9Z3Y32SS7ISFkA9v9/JBsdndmJ/OZ72Me+x2GiYY+S8OBRwxrMSyac72g4eCjpSCnMA6P2bn0ni6dhgOOAi8yVWKU4TELecwzx2Naw8GB3oh0ebOlLhnzIU/ygoYDiqwuAF3s6RwAs+Jl0ZAasr1QEH1OB15Nrx5C5EZTaQavPjNF0ZAaciFX/DMbijQiDykKImylFzRf59CiBcJ2MUfKBdJwSFAMecKhPr8okyXRkCJyoZg/MkNORkuiITUUhpyeEtDcnUONPJ5AfWzvUpUYvOpzfGLJdCnSgRzgRmCNSg3usNc+5SrSfu1G1CXrH2rCx63NsWnHrlRE/L6eYzZHZxIfVQBDw22RubAjNI+q6g8TySFAH2ltkLnZ8fGlpAq0f8iGLvqtCxnMNKMSgKuEUTgeWaOM1SRi0nQqNm336YgUbB2Z2rmZjISNXbaPQ1Rd2x4fI19VpkSYnKoG8gescrQ7jh5Lojj7inzOe+2C3ect9wWVps9ukbr3386nEmbQ8/ZZb7FW13AHjMBk6CI95pk0COfYukcWdgJOhRLRBLy1oB96IWXoFGMwCCeFbGxlx4TrhnDu+qhv7rytbLJCPzgfykwfypf/wTMplEJJ38PbQr9y8xV6XmXtH+Ekfm+3DROZnPoaYBq/AzPQoWtAJoOfQ/m0hWNy6gs85sUweAdmSQp2rhqezdNTbN1loueOhBIxU40oMacrXHcn4IElMA5w10dPXvGRWzqbGcdwNZwh4uS5A3CPy5pnkrQj9805AMyPcUwALGDaQbztZgVj/3LxPi11oJ5j3Wo6yXhOn2+EvsIJ6EBDcG7y/G2SgjIZnKF/yjBnopkoBN7lUY5J+FPPA2JPjrmQlzG4a36ItW6vG1p+COU1jLVxwXy+4RJl8hxeHIYHNJm1fsE8DijFo7BqHu+g9UOZHEOZFBKtw7R55sx3jAu+Wv7UsTS0fK3sssXaMG3+8zxbN2t++Bdm/dkyZlODpVgwP6x+RLPmmaxCqtzw4/IENDPsQNOieeV4heGv9zDjY4y9B+7lkGeyA7CaRW9uZjzQufgQ4Ip5pf0CltW5iBlaCJO2x7PL53v78CGr1/42r1C9ZoJJn+uEjxmrrUEm2brjKEmjJ3ykGpGUGsbV5tMbRp9YkEnD2VvcRZKs9MQFPD5eYTvaZ9AH+qmpY+te5b6rRjv5fTtJdNGy3XEB88dMmjCNB04amLEOXyUVJnvPA74AemvvKWaN6OltoNpczGSbD+88wgQbPjRguyAsGNi1yxZ7z2U+tW0czqxaeCZPYhGwca3jwTlshYzbWUOYLK2tMTDb7RXd5crRyGSCyRoris/apMVFecFT3VDT3e7j9NsaXaDSVoFM+uuJnhuj9ck8vcVQj6fKRG+gdc/WOUt+PoE1yCVqr1hHybnfXsG4LmITKKUna+dRjBYwiyl49d7CsOdRm8MpRxl5rgeofyxmchITnu1DCaNoZoIb1KeyizzS6zOoJiiTTRcYw0dEwRMm2y6Qsp4kTD6liTt8thW4l5xrnRIywKRh4Pg3pmaGMNlPJCWCyaFPzcTPJ0z2SjI5bcQbQtrVVoaCuzZkpok8zm8pa66LFYTJ7/AkdnkMIzPEXb4+bJq0dMO0car1lO3xbkyu0rS2/tll40okkwzzQYdPgsmKMJMdy6Q4FsY+8jlVCMogA0ziP97EukYm7WeJlht4UkFVINF233PKlDDJ9iBJhgGu51GK1cYOCNxzoHayG1N+38YlQu2bRf4NZdLDVyL6o0wdaQfMmNM3egWdqdZTzFlyxyjmyUgyGazm+kBVRP8S7RrB5KgUk+Rpo20+ql0h1Jtiex4wSiETTDo+Jn0612ni8czqiMTY6zoWN6AWPZ76IZ1u5QHWzikkaQEvcnVo7Z3VrZAeqBvu6YYbaFXZ6x4RHtCp4RONEa22cINj0rFUvqrbmK3ofqb7oeGSv39Vhy7MNtz7oRGz9sAz3XNOR2MOCzqd7oaYSdTI93TPf7zg7yfFE8mkpxzPQx+nXc9EMAmrw3iBejxlTYu6mUfMT1u6YUhouGFfoDST1r+j/Gz/iB/dk+ioT72AV98xtBeyUPwPPBvcMJW/vcH4f25mDIMv4NlLPl3wRfn0FEkxtwmvVmnvkR0gDd590Sck6j6xbLx2G3XoZXI9MGGq3Zpn/Bsm56qFnWsgPQJ24rVzcQaV6uDn8IrP2jGTT2wnGWHaJsMMb5Bg+9xr2HpJngp3h/sY+wpPSGD4Z2pvrf+cZ4L/InKNatr/7xrmXMd/vnZiR8j+JXIe2DDB23lSKr6kikBpJtMIzj8dOF2x6537j3NtmXhqBFTEJPtR7VXdhoL6TIRzJ5QbApCBiphE3fc6f+tlRmY6Kq9oMqlhn6AxqRZoTKoFGpNqgcakWqAxqRZoTKoFGpNqgcakWqAxqRZoTKoFGpNqgcakWqAxqRZoTKoFGpNqgcakWqAxqRZoTKoFGpNqgcakWqAxqRZoTKoFGpNqgcakWqAxqRZoTKoFGpNqwe+VSTbbaDSqKla4QkwahH1nCsnj2ELuR8aCHgaeb5L3n8u3xNE59OIiMqxQ4sMSmVEhJoMvuHAa5d5V/DXXQn84j6T3oXIITADcu5GVRQKBhAMIsONcETu99A1Mz7fcT2dG3sfcAxTTrkESP2VBeMvQ2gtD8xmK6Ri8D19xslhZDZ3hWHkMiaoFQ6FXWknYgrs3DotIKmgnu4U4OgSVpoy9BGwrC7HFnhUVCeHvBwi/0loKnS+ZwwPlmCTV1McfswO1ygWqicIAgBBxNJpJZpREROKPra1nFI1xlSqUY9KAVSgEAt2GjAXPXAeYFNQ6aVwRMUI9IAQtZWw9h4tIJXshqF5rOatk7Z3MVNxj0p5CPgxawvIa8VX/bQAuRJ1txXm4iFSSSX8vr8vsS23pNJLB3DjmzdoKHRf4Y/uAwFsIawDt5LJtKYHwgYNXFQxLtysUZNJwlvcn3CARGjthsNd3iZldCnF6Ny4ReSiS0X4XXiZxy2wrCRTR8FFmIsbIQMkxnlKAphpijFIwkoFfW0kvjwvWO9HSIpFVPCbtK2F/B53Yzmi/y9pA9IZtqTaBtmb4IB6T9vGWFuGy9YX3v2nX1UoyiZoN/7v/cQqxa6ZaYfalnh2sJsEnUaY6JSooHpPWRtoFIbGz0WJ2xKR2LKHMOpbKE1Ea8Zlcbwi3mW2AtNoTCiWZJALxiFlr2vOfso8LEezH0Od09ICkdMdjspQq1+AdgK0dGls7GtgPcX6WiETuxmRpeJCBhN6/mUiOKUHREXS0Qk3DchYoUByL7AgXl3go/FYE9qUrFjeJeS6RURwmialupuNNnXlfhEecRCADO87EzHhcJklXVYgIyumidENRJitJxOQ+mYtuid3BayP6CCgvpwUxGn3yTStIDy/EYbLKBEQt030EusXjOSGQLmaC8hOXyapqCEXp3eYd4vRCUSYjR8OiMOUticFbsf7rBlHTdnVuyjWKOEy6RWn89VLK2fYYYjYykUFcJkUKg6gSBeYKlJVJEkh1r4nR1YSLIW1Lugvt0gZXnkl7j+j5xHrFNCvbEg2enliJ4jBprwu3mWCvjPLYXyjKJKrHM3t2d1xikaS/Is3ZXAGPF/CLcBgVKBdbUltIzRnqRMqah23J+UMrRO/yEwn7r0Lum7DFH+VFW1aiXIVzpQlLeUpQkknHfeK77hG2j8WuPHGDI0OMG3ok7OytSCZHxWM6bCyTZGSH7dmlkLZ6iQdFDRWRhtbOs0e8LDnfYD+hdH9yzxuIEacyzF23aNKCx3Ujjwm4KxxGjgXZ7ovlmBjtyOFf21Jnc+R8iBQMwoNGVmBaeFBUAoeooVlFvk86ofAYj1RPnoehMBaizb7cYnVKvBXZNiFrJz0m0TwyNdoReSCR8/z5xLoh8nbSI8rDrYxyzci4qzSkeiHhmQr7mki5sugNXpGdTZFl8mmEFoyWPWHQPNCfoKsZx3fFvId4g0zGL5RQrkrPhcTZPmM7vygGz8KGEZ3KRwJ5pD9yN2kmHUejlau4E4LODr/x2kCMfZWGPJPEpgv/tBKUUa4Kz0+K/lPwz9PJzFESJoWmbSVb2tEt6SS3d5Vjch3gSVgIRyOVnm0p1PfYjh6RCJZIMibP5JjIzf4J+04VDIu17ClJZQpoVyi7ZkCkzsZiugBxQSSFZxI7lmeW+wlbbslJFTkmR8VqDm2meFA7cD8srpUQNWRQKq3K5ZkcDbXZwAZ11Ng3H5Kz0R7uvkI5JonnKhonNWQnt27YLWhX2wp0NlsbJy2GOelVXTJMkmGB0HaQwdsREyHBr0VpbP1R3RO2WHKbVVkmHahcgexSc33YudhL2s82aQpscVoXSijGZAAd81TmdoRh6OAdGJon4ya/bMpUpAyTRNSg6SX5u/Y5EO/xSTb4EeXlITOgN3d3N2WZrOQWyno3YdZHhpo7v41cY5IeKMNk4N07fkg8j9uJFTtlvyW5dMKD1vFt1w63TSwdVZPxMEulfUU0WEem7kBTbte7arrVEo/gDrcTIrce3TC3w/vNb3l1y14f+U2yAcquGXjTucnlSPZzqucnV9iRkU/S2hlRhkk2uzibQ3E2/T3xGsqTlc/A+Z2WorfvOaUc3NmS65pKK0PbfcBeBjvyvKVoa/GGRXw7XzJujXK4pNyDHBuvoUl6JiMrW3JZs7X+sv1hi3eVe8jUTss0/lPbzmvpObh9Q6be8FmvfqTs8jpP3M5sPIwl6am4pActXGleGZopJkeVXs20Jr3AIAF8kNwCMv9jyf6jfSXNxjJDTNp7nMq+TeBHN2ZvNWk7OpRUUd3SdiPYmOattzLEZCXcUvaB7ujh8oRxLt7AVCysjeEFtWKUpnvZfYaYdCusXMn42R5HWN4klZCMfzyRED7D2T2qhIQhMAmKvl3mWIo7cbT/cCU4lhoLf1l7MlqRvI8gJcPW6uNp9vBKiuhXF2Sn9zmRqDTdtL1X0He11u9ZJD3Q50/i5TvsP0qa1W24FEzrsCtTVEK/zGBO62Oi4IItRd+pCPym22vDeQpvryajPwbfS93N1sH/kpoxSBpZ0EW/C/lvhRDMU3Ar6tTgyduXXWan8tL8Vq0RcriDot9b8A+1IRf4GQkdGDNbEg0pQQ9e/qgQSjJaEg2pQRd2dHI1oTzEyMovCh0XQtGhCViiIRoF4r5HDuRmriQaUkIOFIh/FijbE9GwbyiO1qdejcpDCTNEj9DpS6BAcu2RhoMMXQyRDHFglR2105Ayir3glVqlaM6HFrOqwp6qGnpjHoBO5hrKKuTpjNkaDjqMOQVFALnyk1h6c16+xMs2Gg4gvLpd/Bp9tjlHw0GHWXppvAZV4P9FA7PeDEYSCwAAAABJRU5ErkJggg==)"
      ],
      "metadata": {
        "id": "bCmA1UDHbiEr"
      }
    },
    {
      "cell_type": "markdown",
      "source": [
        "# Calculando a constante alfa - intercept"
      ],
      "metadata": {
        "id": "Zsl25TC8EKal"
      }
    },
    {
      "cell_type": "code",
      "source": [
        "# Qual comando retorna o valor da constante alfa de uma função linear? R: .intercept_\n",
        "predicao_dados.intercept_"
      ],
      "metadata": {
        "colab": {
          "base_uri": "https://localhost:8080/"
        },
        "id": "Lhr8DUwVDN5c",
        "outputId": "10c0222d-ac95-4720-dd5b-16516a97dad5"
      },
      "execution_count": 20,
      "outputs": [
        {
          "output_type": "execute_result",
          "data": {
            "text/plain": [
              "27.94772254633564"
            ]
          },
          "metadata": {},
          "execution_count": 20
        }
      ]
    },
    {
      "cell_type": "markdown",
      "source": [
        "# Calculando o coeficiente angular da reta - coef"
      ],
      "metadata": {
        "id": "-eKehElPEVvL"
      }
    },
    {
      "cell_type": "code",
      "source": [
        "# Qual é o valor do coeficiente angular? R: -0.227\n",
        "predicao_dados.coef_"
      ],
      "metadata": {
        "colab": {
          "base_uri": "https://localhost:8080/"
        },
        "id": "336pYknwDfTm",
        "outputId": "39202f15-df1f-4cd3-dcc3-6bac50d60a71"
      },
      "execution_count": 21,
      "outputs": [
        {
          "output_type": "execute_result",
          "data": {
            "text/plain": [
              "array([-0.22741735])"
            ]
          },
          "metadata": {},
          "execution_count": 21
        }
      ]
    },
    {
      "cell_type": "markdown",
      "source": [
        "# Realizando a previsão dos valores"
      ],
      "metadata": {
        "id": "WqLAUQWrEff5"
      }
    },
    {
      "cell_type": "code",
      "source": [
        "previsao_valores = predicao_dados.predict(X)"
      ],
      "metadata": {
        "id": "JpnmnUX5Ed8N"
      },
      "execution_count": 22,
      "outputs": []
    },
    {
      "cell_type": "code",
      "source": [
        "# Visualizando as previsões para a Data de entrega\n",
        "previsao_valores"
      ],
      "metadata": {
        "colab": {
          "base_uri": "https://localhost:8080/"
        },
        "id": "4-FxTDlrEpWN",
        "outputId": "8cc345a9-89ab-415f-c45a-fd2bff9d00a7"
      },
      "execution_count": 23,
      "outputs": [
        {
          "output_type": "execute_result",
          "data": {
            "text/plain": [
              "array([ 3.83238704,  4.40775293,  9.1425821 ,  3.33434305,  1.54229436,\n",
              "        1.50818175,  6.82292516,  1.46269829,  2.65209101, 16.8156434 ,\n",
              "       18.50990264,  9.98630046,  4.59650933, 13.4976243 ,  6.87295698,\n",
              "       16.72240229, 14.42776125,  7.59159579,  7.06171337, 11.82838097,\n",
              "        1.74696997, 14.20716643,  0.75543034, 12.93817763,  0.95328343,\n",
              "       19.37408855,  7.86904496, 15.00767549,  7.99185032,  4.9080711 ,\n",
              "        9.10619533, 12.9745644 ,  5.9018849 , 12.28548984, 20.33606393,\n",
              "       14.13894122,  4.98311882,  3.69593664,  2.9363627 ,  8.64226394,\n",
              "       10.5912306 ,  5.08545663,  1.23300676,  8.22381602,  1.61279373,\n",
              "       12.03760493,  5.58122644,  8.69911827,  1.00104107,  6.54320182,\n",
              "        7.63253092,  9.16532384,  5.1309401 ,  1.32852205,  8.46033006,\n",
              "       14.39364865,  3.16150587,  6.15204399,  0.98284768, 16.5495651 ,\n",
              "        9.69520626, 10.98693679, 14.82801578, 14.2435532 ,  1.58322948,\n",
              "        7.74396542,  6.83884437,  7.67346604,  5.95873924,  1.87204951,\n",
              "        1.89479124, 14.29813336,  7.10947102,  0.87141318,  5.48571116,\n",
              "        7.90770591, 14.35271353,  6.18160824, 11.01650104,  6.22254336,\n",
              "        7.96910859,  3.02732963, 23.588132  ,  3.54356701,  3.55266371,\n",
              "        6.57276608,  8.9197131 , 11.18024153,  8.68092489, 10.74814857,\n",
              "       10.09091244, 10.39792586, 16.27893846, 17.27275227,  4.60333185,\n",
              "        8.83556868,  3.34116557,  6.02014192,  1.71740571, 11.96028303])"
            ]
          },
          "metadata": {},
          "execution_count": 23
        }
      ]
    },
    {
      "cell_type": "markdown",
      "source": [
        "# Visualizando no gráfico as disposições dos dados\n",
        "\n",
        "Para visualizar os dados no gráfico, temos que transformar os valores das variáveis para o formato de vetor.\n",
        "\n",
        "Para isso, utilizaremos o comando: ravel()"
      ],
      "metadata": {
        "id": "BTW1XmykE4ur"
      }
    },
    {
      "cell_type": "markdown",
      "source": [
        "# Gerando visualização gráfica dos dados\n"
      ],
      "metadata": {
        "id": "pQoCTJ-UFL9f"
      }
    },
    {
      "cell_type": "code",
      "source": [
        "# Gráfico 1 (Mais simples)\n",
        "grafico = px.scatter(x = X.ravel(), y=y)\n",
        "grafico.show()"
      ],
      "metadata": {
        "colab": {
          "base_uri": "https://localhost:8080/",
          "height": 542
        },
        "id": "uoBdKFQHE1TM",
        "outputId": "c14b4550-54b3-4ebc-b4a3-d0dba6ae086c"
      },
      "execution_count": 24,
      "outputs": [
        {
          "output_type": "display_data",
          "data": {
            "text/html": [
              "<html>\n",
              "<head><meta charset=\"utf-8\" /></head>\n",
              "<body>\n",
              "    <div>            <script src=\"https://cdnjs.cloudflare.com/ajax/libs/mathjax/2.7.5/MathJax.js?config=TeX-AMS-MML_SVG\"></script><script type=\"text/javascript\">if (window.MathJax && window.MathJax.Hub && window.MathJax.Hub.Config) {window.MathJax.Hub.Config({SVG: {font: \"STIX-Web\"}});}</script>                <script type=\"text/javascript\">window.PlotlyConfig = {MathJaxConfig: 'local'};</script>\n",
              "        <script src=\"https://cdn.plot.ly/plotly-2.18.2.min.js\"></script>                <div id=\"7c72ac60-97fc-4845-b532-d8336c4de8c0\" class=\"plotly-graph-div\" style=\"height:525px; width:100%;\"></div>            <script type=\"text/javascript\">                                    window.PLOTLYENV=window.PLOTLYENV || {};                                    if (document.getElementById(\"7c72ac60-97fc-4845-b532-d8336c4de8c0\")) {                    Plotly.newPlot(                        \"7c72ac60-97fc-4845-b532-d8336c4de8c0\",                        [{\"hovertemplate\":\"x=%{x}<br>y=%{y}<extra></extra>\",\"legendgroup\":\"\",\"marker\":{\"color\":\"#636efa\",\"symbol\":\"circle\"},\"mode\":\"markers\",\"name\":\"\",\"orientation\":\"v\",\"showlegend\":false,\"x\":[106.04,103.51,82.69,108.23,116.11,116.26,92.89,116.46,111.23,48.95,41.5,78.98,102.68,63.54,92.67,49.36,59.45,89.51,91.84,70.88,115.21,60.42,119.57,66.0,118.7,37.7,88.29,56.9,87.75,101.31,82.85,65.84,96.94,68.87,33.47,60.72,100.98,106.64,109.98,84.89,76.32,100.53,117.47,86.73,115.8,69.96,98.35,84.64,118.49,94.12,89.33,82.59,100.33,117.05,85.69,59.6,108.99,95.84,118.57,50.12,80.26,74.58,57.69,60.26,115.93,88.84,92.82,89.15,96.69,114.66,114.56,60.02,91.63,119.06,98.77,88.12,59.78,95.71,74.45,95.53,87.85,109.58,19.17,107.31,107.27,93.99,83.67,73.73,84.72,75.63,78.52,77.17,51.31,46.94,102.65,84.04,108.2,96.42,115.34,70.3],\"xaxis\":\"x\",\"y\":[8.0,1.0,13.0,4.0,1.0,2.0,11.0,1.0,4.0,15.0,18.0,7.0,6.0,17.0,9.0,20.0,16.0,3.0,5.0,11.0,2.0,18.0,3.0,13.0,1.0,17.0,5.0,16.0,7.0,4.0,10.0,15.0,5.0,9.0,23.0,12.0,9.0,7.0,1.0,7.0,6.0,4.0,1.0,8.0,1.0,13.0,9.0,6.0,2.0,11.0,11.0,10.0,8.0,1.0,13.0,16.0,1.0,5.0,4.0,19.0,12.0,10.0,13.0,12.0,2.0,3.0,4.0,7.0,8.0,3.0,1.0,16.0,2.0,1.0,2.0,5.0,15.0,2.0,8.0,11.0,5.0,1.0,26.0,4.0,1.0,10.0,7.0,10.0,7.0,13.0,11.0,12.0,16.0,14.0,2.0,5.0,4.0,4.0,5.0,13.0],\"yaxis\":\"y\",\"type\":\"scatter\"}],                        {\"template\":{\"data\":{\"histogram2dcontour\":[{\"type\":\"histogram2dcontour\",\"colorbar\":{\"outlinewidth\":0,\"ticks\":\"\"},\"colorscale\":[[0.0,\"#0d0887\"],[0.1111111111111111,\"#46039f\"],[0.2222222222222222,\"#7201a8\"],[0.3333333333333333,\"#9c179e\"],[0.4444444444444444,\"#bd3786\"],[0.5555555555555556,\"#d8576b\"],[0.6666666666666666,\"#ed7953\"],[0.7777777777777778,\"#fb9f3a\"],[0.8888888888888888,\"#fdca26\"],[1.0,\"#f0f921\"]]}],\"choropleth\":[{\"type\":\"choropleth\",\"colorbar\":{\"outlinewidth\":0,\"ticks\":\"\"}}],\"histogram2d\":[{\"type\":\"histogram2d\",\"colorbar\":{\"outlinewidth\":0,\"ticks\":\"\"},\"colorscale\":[[0.0,\"#0d0887\"],[0.1111111111111111,\"#46039f\"],[0.2222222222222222,\"#7201a8\"],[0.3333333333333333,\"#9c179e\"],[0.4444444444444444,\"#bd3786\"],[0.5555555555555556,\"#d8576b\"],[0.6666666666666666,\"#ed7953\"],[0.7777777777777778,\"#fb9f3a\"],[0.8888888888888888,\"#fdca26\"],[1.0,\"#f0f921\"]]}],\"heatmap\":[{\"type\":\"heatmap\",\"colorbar\":{\"outlinewidth\":0,\"ticks\":\"\"},\"colorscale\":[[0.0,\"#0d0887\"],[0.1111111111111111,\"#46039f\"],[0.2222222222222222,\"#7201a8\"],[0.3333333333333333,\"#9c179e\"],[0.4444444444444444,\"#bd3786\"],[0.5555555555555556,\"#d8576b\"],[0.6666666666666666,\"#ed7953\"],[0.7777777777777778,\"#fb9f3a\"],[0.8888888888888888,\"#fdca26\"],[1.0,\"#f0f921\"]]}],\"heatmapgl\":[{\"type\":\"heatmapgl\",\"colorbar\":{\"outlinewidth\":0,\"ticks\":\"\"},\"colorscale\":[[0.0,\"#0d0887\"],[0.1111111111111111,\"#46039f\"],[0.2222222222222222,\"#7201a8\"],[0.3333333333333333,\"#9c179e\"],[0.4444444444444444,\"#bd3786\"],[0.5555555555555556,\"#d8576b\"],[0.6666666666666666,\"#ed7953\"],[0.7777777777777778,\"#fb9f3a\"],[0.8888888888888888,\"#fdca26\"],[1.0,\"#f0f921\"]]}],\"contourcarpet\":[{\"type\":\"contourcarpet\",\"colorbar\":{\"outlinewidth\":0,\"ticks\":\"\"}}],\"contour\":[{\"type\":\"contour\",\"colorbar\":{\"outlinewidth\":0,\"ticks\":\"\"},\"colorscale\":[[0.0,\"#0d0887\"],[0.1111111111111111,\"#46039f\"],[0.2222222222222222,\"#7201a8\"],[0.3333333333333333,\"#9c179e\"],[0.4444444444444444,\"#bd3786\"],[0.5555555555555556,\"#d8576b\"],[0.6666666666666666,\"#ed7953\"],[0.7777777777777778,\"#fb9f3a\"],[0.8888888888888888,\"#fdca26\"],[1.0,\"#f0f921\"]]}],\"surface\":[{\"type\":\"surface\",\"colorbar\":{\"outlinewidth\":0,\"ticks\":\"\"},\"colorscale\":[[0.0,\"#0d0887\"],[0.1111111111111111,\"#46039f\"],[0.2222222222222222,\"#7201a8\"],[0.3333333333333333,\"#9c179e\"],[0.4444444444444444,\"#bd3786\"],[0.5555555555555556,\"#d8576b\"],[0.6666666666666666,\"#ed7953\"],[0.7777777777777778,\"#fb9f3a\"],[0.8888888888888888,\"#fdca26\"],[1.0,\"#f0f921\"]]}],\"mesh3d\":[{\"type\":\"mesh3d\",\"colorbar\":{\"outlinewidth\":0,\"ticks\":\"\"}}],\"scatter\":[{\"fillpattern\":{\"fillmode\":\"overlay\",\"size\":10,\"solidity\":0.2},\"type\":\"scatter\"}],\"parcoords\":[{\"type\":\"parcoords\",\"line\":{\"colorbar\":{\"outlinewidth\":0,\"ticks\":\"\"}}}],\"scatterpolargl\":[{\"type\":\"scatterpolargl\",\"marker\":{\"colorbar\":{\"outlinewidth\":0,\"ticks\":\"\"}}}],\"bar\":[{\"error_x\":{\"color\":\"#2a3f5f\"},\"error_y\":{\"color\":\"#2a3f5f\"},\"marker\":{\"line\":{\"color\":\"#E5ECF6\",\"width\":0.5},\"pattern\":{\"fillmode\":\"overlay\",\"size\":10,\"solidity\":0.2}},\"type\":\"bar\"}],\"scattergeo\":[{\"type\":\"scattergeo\",\"marker\":{\"colorbar\":{\"outlinewidth\":0,\"ticks\":\"\"}}}],\"scatterpolar\":[{\"type\":\"scatterpolar\",\"marker\":{\"colorbar\":{\"outlinewidth\":0,\"ticks\":\"\"}}}],\"histogram\":[{\"marker\":{\"pattern\":{\"fillmode\":\"overlay\",\"size\":10,\"solidity\":0.2}},\"type\":\"histogram\"}],\"scattergl\":[{\"type\":\"scattergl\",\"marker\":{\"colorbar\":{\"outlinewidth\":0,\"ticks\":\"\"}}}],\"scatter3d\":[{\"type\":\"scatter3d\",\"line\":{\"colorbar\":{\"outlinewidth\":0,\"ticks\":\"\"}},\"marker\":{\"colorbar\":{\"outlinewidth\":0,\"ticks\":\"\"}}}],\"scattermapbox\":[{\"type\":\"scattermapbox\",\"marker\":{\"colorbar\":{\"outlinewidth\":0,\"ticks\":\"\"}}}],\"scatterternary\":[{\"type\":\"scatterternary\",\"marker\":{\"colorbar\":{\"outlinewidth\":0,\"ticks\":\"\"}}}],\"scattercarpet\":[{\"type\":\"scattercarpet\",\"marker\":{\"colorbar\":{\"outlinewidth\":0,\"ticks\":\"\"}}}],\"carpet\":[{\"aaxis\":{\"endlinecolor\":\"#2a3f5f\",\"gridcolor\":\"white\",\"linecolor\":\"white\",\"minorgridcolor\":\"white\",\"startlinecolor\":\"#2a3f5f\"},\"baxis\":{\"endlinecolor\":\"#2a3f5f\",\"gridcolor\":\"white\",\"linecolor\":\"white\",\"minorgridcolor\":\"white\",\"startlinecolor\":\"#2a3f5f\"},\"type\":\"carpet\"}],\"table\":[{\"cells\":{\"fill\":{\"color\":\"#EBF0F8\"},\"line\":{\"color\":\"white\"}},\"header\":{\"fill\":{\"color\":\"#C8D4E3\"},\"line\":{\"color\":\"white\"}},\"type\":\"table\"}],\"barpolar\":[{\"marker\":{\"line\":{\"color\":\"#E5ECF6\",\"width\":0.5},\"pattern\":{\"fillmode\":\"overlay\",\"size\":10,\"solidity\":0.2}},\"type\":\"barpolar\"}],\"pie\":[{\"automargin\":true,\"type\":\"pie\"}]},\"layout\":{\"autotypenumbers\":\"strict\",\"colorway\":[\"#636efa\",\"#EF553B\",\"#00cc96\",\"#ab63fa\",\"#FFA15A\",\"#19d3f3\",\"#FF6692\",\"#B6E880\",\"#FF97FF\",\"#FECB52\"],\"font\":{\"color\":\"#2a3f5f\"},\"hovermode\":\"closest\",\"hoverlabel\":{\"align\":\"left\"},\"paper_bgcolor\":\"white\",\"plot_bgcolor\":\"#E5ECF6\",\"polar\":{\"bgcolor\":\"#E5ECF6\",\"angularaxis\":{\"gridcolor\":\"white\",\"linecolor\":\"white\",\"ticks\":\"\"},\"radialaxis\":{\"gridcolor\":\"white\",\"linecolor\":\"white\",\"ticks\":\"\"}},\"ternary\":{\"bgcolor\":\"#E5ECF6\",\"aaxis\":{\"gridcolor\":\"white\",\"linecolor\":\"white\",\"ticks\":\"\"},\"baxis\":{\"gridcolor\":\"white\",\"linecolor\":\"white\",\"ticks\":\"\"},\"caxis\":{\"gridcolor\":\"white\",\"linecolor\":\"white\",\"ticks\":\"\"}},\"coloraxis\":{\"colorbar\":{\"outlinewidth\":0,\"ticks\":\"\"}},\"colorscale\":{\"sequential\":[[0.0,\"#0d0887\"],[0.1111111111111111,\"#46039f\"],[0.2222222222222222,\"#7201a8\"],[0.3333333333333333,\"#9c179e\"],[0.4444444444444444,\"#bd3786\"],[0.5555555555555556,\"#d8576b\"],[0.6666666666666666,\"#ed7953\"],[0.7777777777777778,\"#fb9f3a\"],[0.8888888888888888,\"#fdca26\"],[1.0,\"#f0f921\"]],\"sequentialminus\":[[0.0,\"#0d0887\"],[0.1111111111111111,\"#46039f\"],[0.2222222222222222,\"#7201a8\"],[0.3333333333333333,\"#9c179e\"],[0.4444444444444444,\"#bd3786\"],[0.5555555555555556,\"#d8576b\"],[0.6666666666666666,\"#ed7953\"],[0.7777777777777778,\"#fb9f3a\"],[0.8888888888888888,\"#fdca26\"],[1.0,\"#f0f921\"]],\"diverging\":[[0,\"#8e0152\"],[0.1,\"#c51b7d\"],[0.2,\"#de77ae\"],[0.3,\"#f1b6da\"],[0.4,\"#fde0ef\"],[0.5,\"#f7f7f7\"],[0.6,\"#e6f5d0\"],[0.7,\"#b8e186\"],[0.8,\"#7fbc41\"],[0.9,\"#4d9221\"],[1,\"#276419\"]]},\"xaxis\":{\"gridcolor\":\"white\",\"linecolor\":\"white\",\"ticks\":\"\",\"title\":{\"standoff\":15},\"zerolinecolor\":\"white\",\"automargin\":true,\"zerolinewidth\":2},\"yaxis\":{\"gridcolor\":\"white\",\"linecolor\":\"white\",\"ticks\":\"\",\"title\":{\"standoff\":15},\"zerolinecolor\":\"white\",\"automargin\":true,\"zerolinewidth\":2},\"scene\":{\"xaxis\":{\"backgroundcolor\":\"#E5ECF6\",\"gridcolor\":\"white\",\"linecolor\":\"white\",\"showbackground\":true,\"ticks\":\"\",\"zerolinecolor\":\"white\",\"gridwidth\":2},\"yaxis\":{\"backgroundcolor\":\"#E5ECF6\",\"gridcolor\":\"white\",\"linecolor\":\"white\",\"showbackground\":true,\"ticks\":\"\",\"zerolinecolor\":\"white\",\"gridwidth\":2},\"zaxis\":{\"backgroundcolor\":\"#E5ECF6\",\"gridcolor\":\"white\",\"linecolor\":\"white\",\"showbackground\":true,\"ticks\":\"\",\"zerolinecolor\":\"white\",\"gridwidth\":2}},\"shapedefaults\":{\"line\":{\"color\":\"#2a3f5f\"}},\"annotationdefaults\":{\"arrowcolor\":\"#2a3f5f\",\"arrowhead\":0,\"arrowwidth\":1},\"geo\":{\"bgcolor\":\"white\",\"landcolor\":\"#E5ECF6\",\"subunitcolor\":\"white\",\"showland\":true,\"showlakes\":true,\"lakecolor\":\"white\"},\"title\":{\"x\":0.05},\"mapbox\":{\"style\":\"light\"}}},\"xaxis\":{\"anchor\":\"y\",\"domain\":[0.0,1.0],\"title\":{\"text\":\"x\"}},\"yaxis\":{\"anchor\":\"x\",\"domain\":[0.0,1.0],\"title\":{\"text\":\"y\"}},\"legend\":{\"tracegroupgap\":0},\"margin\":{\"t\":60}},                        {\"responsive\": true}                    ).then(function(){\n",
              "                            \n",
              "var gd = document.getElementById('7c72ac60-97fc-4845-b532-d8336c4de8c0');\n",
              "var x = new MutationObserver(function (mutations, observer) {{\n",
              "        var display = window.getComputedStyle(gd).display;\n",
              "        if (!display || display === 'none') {{\n",
              "            console.log([gd, 'removed!']);\n",
              "            Plotly.purge(gd);\n",
              "            observer.disconnect();\n",
              "        }}\n",
              "}});\n",
              "\n",
              "// Listen for the removal of the full notebook cells\n",
              "var notebookContainer = gd.closest('#notebook-container');\n",
              "if (notebookContainer) {{\n",
              "    x.observe(notebookContainer, {childList: true});\n",
              "}}\n",
              "\n",
              "// Listen for the clearing of the current output cell\n",
              "var outputEl = gd.closest('.output');\n",
              "if (outputEl) {{\n",
              "    x.observe(outputEl, {childList: true});\n",
              "}}\n",
              "\n",
              "                        })                };                            </script>        </div>\n",
              "</body>\n",
              "</html>"
            ]
          },
          "metadata": {}
        }
      ]
    },
    {
      "cell_type": "code",
      "source": [
        "# Gráfico 2 (mais detalhado)\n",
        "# Qual é a representação gráfica do modelo de regressão criado? R:\n",
        "grafico = px.scatter(x = X.ravel(), y = y)\n",
        "grafico.add_scatter(x = X.ravel(), y = previsao_valores, name = \"Previsões\")\n",
        "grafico.show()\n",
        "\n"
      ],
      "metadata": {
        "colab": {
          "base_uri": "https://localhost:8080/",
          "height": 542
        },
        "id": "NN-zU8YcFcKM",
        "outputId": "1cfe7572-5f1c-4200-a33b-93f7caae4e4b"
      },
      "execution_count": 25,
      "outputs": [
        {
          "output_type": "display_data",
          "data": {
            "text/html": [
              "<html>\n",
              "<head><meta charset=\"utf-8\" /></head>\n",
              "<body>\n",
              "    <div>            <script src=\"https://cdnjs.cloudflare.com/ajax/libs/mathjax/2.7.5/MathJax.js?config=TeX-AMS-MML_SVG\"></script><script type=\"text/javascript\">if (window.MathJax && window.MathJax.Hub && window.MathJax.Hub.Config) {window.MathJax.Hub.Config({SVG: {font: \"STIX-Web\"}});}</script>                <script type=\"text/javascript\">window.PlotlyConfig = {MathJaxConfig: 'local'};</script>\n",
              "        <script src=\"https://cdn.plot.ly/plotly-2.18.2.min.js\"></script>                <div id=\"06660e55-afb0-45c9-9be2-65596386dd64\" class=\"plotly-graph-div\" style=\"height:525px; width:100%;\"></div>            <script type=\"text/javascript\">                                    window.PLOTLYENV=window.PLOTLYENV || {};                                    if (document.getElementById(\"06660e55-afb0-45c9-9be2-65596386dd64\")) {                    Plotly.newPlot(                        \"06660e55-afb0-45c9-9be2-65596386dd64\",                        [{\"hovertemplate\":\"x=%{x}<br>y=%{y}<extra></extra>\",\"legendgroup\":\"\",\"marker\":{\"color\":\"#636efa\",\"symbol\":\"circle\"},\"mode\":\"markers\",\"name\":\"\",\"orientation\":\"v\",\"showlegend\":false,\"x\":[106.04,103.51,82.69,108.23,116.11,116.26,92.89,116.46,111.23,48.95,41.5,78.98,102.68,63.54,92.67,49.36,59.45,89.51,91.84,70.88,115.21,60.42,119.57,66.0,118.7,37.7,88.29,56.9,87.75,101.31,82.85,65.84,96.94,68.87,33.47,60.72,100.98,106.64,109.98,84.89,76.32,100.53,117.47,86.73,115.8,69.96,98.35,84.64,118.49,94.12,89.33,82.59,100.33,117.05,85.69,59.6,108.99,95.84,118.57,50.12,80.26,74.58,57.69,60.26,115.93,88.84,92.82,89.15,96.69,114.66,114.56,60.02,91.63,119.06,98.77,88.12,59.78,95.71,74.45,95.53,87.85,109.58,19.17,107.31,107.27,93.99,83.67,73.73,84.72,75.63,78.52,77.17,51.31,46.94,102.65,84.04,108.2,96.42,115.34,70.3],\"xaxis\":\"x\",\"y\":[8.0,1.0,13.0,4.0,1.0,2.0,11.0,1.0,4.0,15.0,18.0,7.0,6.0,17.0,9.0,20.0,16.0,3.0,5.0,11.0,2.0,18.0,3.0,13.0,1.0,17.0,5.0,16.0,7.0,4.0,10.0,15.0,5.0,9.0,23.0,12.0,9.0,7.0,1.0,7.0,6.0,4.0,1.0,8.0,1.0,13.0,9.0,6.0,2.0,11.0,11.0,10.0,8.0,1.0,13.0,16.0,1.0,5.0,4.0,19.0,12.0,10.0,13.0,12.0,2.0,3.0,4.0,7.0,8.0,3.0,1.0,16.0,2.0,1.0,2.0,5.0,15.0,2.0,8.0,11.0,5.0,1.0,26.0,4.0,1.0,10.0,7.0,10.0,7.0,13.0,11.0,12.0,16.0,14.0,2.0,5.0,4.0,4.0,5.0,13.0],\"yaxis\":\"y\",\"type\":\"scatter\"},{\"name\":\"Previs\\u00f5es\",\"x\":[106.04,103.51,82.69,108.23,116.11,116.26,92.89,116.46,111.23,48.95,41.5,78.98,102.68,63.54,92.67,49.36,59.45,89.51,91.84,70.88,115.21,60.42,119.57,66.0,118.7,37.7,88.29,56.9,87.75,101.31,82.85,65.84,96.94,68.87,33.47,60.72,100.98,106.64,109.98,84.89,76.32,100.53,117.47,86.73,115.8,69.96,98.35,84.64,118.49,94.12,89.33,82.59,100.33,117.05,85.69,59.6,108.99,95.84,118.57,50.12,80.26,74.58,57.69,60.26,115.93,88.84,92.82,89.15,96.69,114.66,114.56,60.02,91.63,119.06,98.77,88.12,59.78,95.71,74.45,95.53,87.85,109.58,19.17,107.31,107.27,93.99,83.67,73.73,84.72,75.63,78.52,77.17,51.31,46.94,102.65,84.04,108.2,96.42,115.34,70.3],\"y\":[3.832387043552167,4.4077529321040565,9.142582101926312,3.33434305306654,1.542294356707302,1.508181754619244,6.822925159938464,1.462698285168507,2.6520910113054086,16.815643398266506,18.509902635306652,9.986300460237576,4.596509330324636,13.497624301834868,6.8729569763342795,16.722402285892485,14.427761252102545,7.591595793656005,7.061713374554859,11.828380972992633,1.7469699692356428,14.207166425266445,0.7554303352094642,12.938177627590742,0.9532834273201907,19.374088554870752,7.86904495730553,15.007675487599508,7.991850324822536,4.908071096062219,9.106195326365718,12.974564403151334,5.901884903560937,12.285489840972591,20.336063933753948,14.138941221090333,4.9831188206559425,3.695936635199942,2.936362695372548,8.64226393796815,10.591230603932448,5.085456626920113,1.2330067644422549,8.22381601902132,1.6127937343559537,12.037604932466047,5.581226443933204,8.699118274781576,1.001041070243474,6.543201822816396,7.632530916161674,9.16532383665168,5.130940096370857,1.3285220502888144,8.46033006016518,14.39364865001449,3.161505869153725,6.152043985540015,0.9828476824631771,16.549565101979667,9.695206255752826,10.986936788153905,14.828015783269077,14.24355320082704,1.5832294792129673,7.743965416315991,6.838844374246225,7.673466038667339,5.9587392403743635,1.8720495102251853,1.8947912449505537,14.29813336416793,7.109471017478139,0.8714131823088564,5.4857111580866444,7.907705906338663,14.35271352750882,6.181608240683001,11.016501043296884,6.222543363188667,7.969108590097164,3.0273296342740323,23.58813199948201,3.543567012539956,3.5526637064301063,6.572766077959383,8.919713101617674,11.180241533319556,8.680924887001279,10.74814857353751,10.090912439974286,10.397925858766794,16.27893845874775,17.272752266246464,4.603331850742247,8.8355686831338,3.3411655734841545,6.020141924132865,1.71740571409266,11.960283034399787],\"type\":\"scatter\"}],                        {\"template\":{\"data\":{\"histogram2dcontour\":[{\"type\":\"histogram2dcontour\",\"colorbar\":{\"outlinewidth\":0,\"ticks\":\"\"},\"colorscale\":[[0.0,\"#0d0887\"],[0.1111111111111111,\"#46039f\"],[0.2222222222222222,\"#7201a8\"],[0.3333333333333333,\"#9c179e\"],[0.4444444444444444,\"#bd3786\"],[0.5555555555555556,\"#d8576b\"],[0.6666666666666666,\"#ed7953\"],[0.7777777777777778,\"#fb9f3a\"],[0.8888888888888888,\"#fdca26\"],[1.0,\"#f0f921\"]]}],\"choropleth\":[{\"type\":\"choropleth\",\"colorbar\":{\"outlinewidth\":0,\"ticks\":\"\"}}],\"histogram2d\":[{\"type\":\"histogram2d\",\"colorbar\":{\"outlinewidth\":0,\"ticks\":\"\"},\"colorscale\":[[0.0,\"#0d0887\"],[0.1111111111111111,\"#46039f\"],[0.2222222222222222,\"#7201a8\"],[0.3333333333333333,\"#9c179e\"],[0.4444444444444444,\"#bd3786\"],[0.5555555555555556,\"#d8576b\"],[0.6666666666666666,\"#ed7953\"],[0.7777777777777778,\"#fb9f3a\"],[0.8888888888888888,\"#fdca26\"],[1.0,\"#f0f921\"]]}],\"heatmap\":[{\"type\":\"heatmap\",\"colorbar\":{\"outlinewidth\":0,\"ticks\":\"\"},\"colorscale\":[[0.0,\"#0d0887\"],[0.1111111111111111,\"#46039f\"],[0.2222222222222222,\"#7201a8\"],[0.3333333333333333,\"#9c179e\"],[0.4444444444444444,\"#bd3786\"],[0.5555555555555556,\"#d8576b\"],[0.6666666666666666,\"#ed7953\"],[0.7777777777777778,\"#fb9f3a\"],[0.8888888888888888,\"#fdca26\"],[1.0,\"#f0f921\"]]}],\"heatmapgl\":[{\"type\":\"heatmapgl\",\"colorbar\":{\"outlinewidth\":0,\"ticks\":\"\"},\"colorscale\":[[0.0,\"#0d0887\"],[0.1111111111111111,\"#46039f\"],[0.2222222222222222,\"#7201a8\"],[0.3333333333333333,\"#9c179e\"],[0.4444444444444444,\"#bd3786\"],[0.5555555555555556,\"#d8576b\"],[0.6666666666666666,\"#ed7953\"],[0.7777777777777778,\"#fb9f3a\"],[0.8888888888888888,\"#fdca26\"],[1.0,\"#f0f921\"]]}],\"contourcarpet\":[{\"type\":\"contourcarpet\",\"colorbar\":{\"outlinewidth\":0,\"ticks\":\"\"}}],\"contour\":[{\"type\":\"contour\",\"colorbar\":{\"outlinewidth\":0,\"ticks\":\"\"},\"colorscale\":[[0.0,\"#0d0887\"],[0.1111111111111111,\"#46039f\"],[0.2222222222222222,\"#7201a8\"],[0.3333333333333333,\"#9c179e\"],[0.4444444444444444,\"#bd3786\"],[0.5555555555555556,\"#d8576b\"],[0.6666666666666666,\"#ed7953\"],[0.7777777777777778,\"#fb9f3a\"],[0.8888888888888888,\"#fdca26\"],[1.0,\"#f0f921\"]]}],\"surface\":[{\"type\":\"surface\",\"colorbar\":{\"outlinewidth\":0,\"ticks\":\"\"},\"colorscale\":[[0.0,\"#0d0887\"],[0.1111111111111111,\"#46039f\"],[0.2222222222222222,\"#7201a8\"],[0.3333333333333333,\"#9c179e\"],[0.4444444444444444,\"#bd3786\"],[0.5555555555555556,\"#d8576b\"],[0.6666666666666666,\"#ed7953\"],[0.7777777777777778,\"#fb9f3a\"],[0.8888888888888888,\"#fdca26\"],[1.0,\"#f0f921\"]]}],\"mesh3d\":[{\"type\":\"mesh3d\",\"colorbar\":{\"outlinewidth\":0,\"ticks\":\"\"}}],\"scatter\":[{\"fillpattern\":{\"fillmode\":\"overlay\",\"size\":10,\"solidity\":0.2},\"type\":\"scatter\"}],\"parcoords\":[{\"type\":\"parcoords\",\"line\":{\"colorbar\":{\"outlinewidth\":0,\"ticks\":\"\"}}}],\"scatterpolargl\":[{\"type\":\"scatterpolargl\",\"marker\":{\"colorbar\":{\"outlinewidth\":0,\"ticks\":\"\"}}}],\"bar\":[{\"error_x\":{\"color\":\"#2a3f5f\"},\"error_y\":{\"color\":\"#2a3f5f\"},\"marker\":{\"line\":{\"color\":\"#E5ECF6\",\"width\":0.5},\"pattern\":{\"fillmode\":\"overlay\",\"size\":10,\"solidity\":0.2}},\"type\":\"bar\"}],\"scattergeo\":[{\"type\":\"scattergeo\",\"marker\":{\"colorbar\":{\"outlinewidth\":0,\"ticks\":\"\"}}}],\"scatterpolar\":[{\"type\":\"scatterpolar\",\"marker\":{\"colorbar\":{\"outlinewidth\":0,\"ticks\":\"\"}}}],\"histogram\":[{\"marker\":{\"pattern\":{\"fillmode\":\"overlay\",\"size\":10,\"solidity\":0.2}},\"type\":\"histogram\"}],\"scattergl\":[{\"type\":\"scattergl\",\"marker\":{\"colorbar\":{\"outlinewidth\":0,\"ticks\":\"\"}}}],\"scatter3d\":[{\"type\":\"scatter3d\",\"line\":{\"colorbar\":{\"outlinewidth\":0,\"ticks\":\"\"}},\"marker\":{\"colorbar\":{\"outlinewidth\":0,\"ticks\":\"\"}}}],\"scattermapbox\":[{\"type\":\"scattermapbox\",\"marker\":{\"colorbar\":{\"outlinewidth\":0,\"ticks\":\"\"}}}],\"scatterternary\":[{\"type\":\"scatterternary\",\"marker\":{\"colorbar\":{\"outlinewidth\":0,\"ticks\":\"\"}}}],\"scattercarpet\":[{\"type\":\"scattercarpet\",\"marker\":{\"colorbar\":{\"outlinewidth\":0,\"ticks\":\"\"}}}],\"carpet\":[{\"aaxis\":{\"endlinecolor\":\"#2a3f5f\",\"gridcolor\":\"white\",\"linecolor\":\"white\",\"minorgridcolor\":\"white\",\"startlinecolor\":\"#2a3f5f\"},\"baxis\":{\"endlinecolor\":\"#2a3f5f\",\"gridcolor\":\"white\",\"linecolor\":\"white\",\"minorgridcolor\":\"white\",\"startlinecolor\":\"#2a3f5f\"},\"type\":\"carpet\"}],\"table\":[{\"cells\":{\"fill\":{\"color\":\"#EBF0F8\"},\"line\":{\"color\":\"white\"}},\"header\":{\"fill\":{\"color\":\"#C8D4E3\"},\"line\":{\"color\":\"white\"}},\"type\":\"table\"}],\"barpolar\":[{\"marker\":{\"line\":{\"color\":\"#E5ECF6\",\"width\":0.5},\"pattern\":{\"fillmode\":\"overlay\",\"size\":10,\"solidity\":0.2}},\"type\":\"barpolar\"}],\"pie\":[{\"automargin\":true,\"type\":\"pie\"}]},\"layout\":{\"autotypenumbers\":\"strict\",\"colorway\":[\"#636efa\",\"#EF553B\",\"#00cc96\",\"#ab63fa\",\"#FFA15A\",\"#19d3f3\",\"#FF6692\",\"#B6E880\",\"#FF97FF\",\"#FECB52\"],\"font\":{\"color\":\"#2a3f5f\"},\"hovermode\":\"closest\",\"hoverlabel\":{\"align\":\"left\"},\"paper_bgcolor\":\"white\",\"plot_bgcolor\":\"#E5ECF6\",\"polar\":{\"bgcolor\":\"#E5ECF6\",\"angularaxis\":{\"gridcolor\":\"white\",\"linecolor\":\"white\",\"ticks\":\"\"},\"radialaxis\":{\"gridcolor\":\"white\",\"linecolor\":\"white\",\"ticks\":\"\"}},\"ternary\":{\"bgcolor\":\"#E5ECF6\",\"aaxis\":{\"gridcolor\":\"white\",\"linecolor\":\"white\",\"ticks\":\"\"},\"baxis\":{\"gridcolor\":\"white\",\"linecolor\":\"white\",\"ticks\":\"\"},\"caxis\":{\"gridcolor\":\"white\",\"linecolor\":\"white\",\"ticks\":\"\"}},\"coloraxis\":{\"colorbar\":{\"outlinewidth\":0,\"ticks\":\"\"}},\"colorscale\":{\"sequential\":[[0.0,\"#0d0887\"],[0.1111111111111111,\"#46039f\"],[0.2222222222222222,\"#7201a8\"],[0.3333333333333333,\"#9c179e\"],[0.4444444444444444,\"#bd3786\"],[0.5555555555555556,\"#d8576b\"],[0.6666666666666666,\"#ed7953\"],[0.7777777777777778,\"#fb9f3a\"],[0.8888888888888888,\"#fdca26\"],[1.0,\"#f0f921\"]],\"sequentialminus\":[[0.0,\"#0d0887\"],[0.1111111111111111,\"#46039f\"],[0.2222222222222222,\"#7201a8\"],[0.3333333333333333,\"#9c179e\"],[0.4444444444444444,\"#bd3786\"],[0.5555555555555556,\"#d8576b\"],[0.6666666666666666,\"#ed7953\"],[0.7777777777777778,\"#fb9f3a\"],[0.8888888888888888,\"#fdca26\"],[1.0,\"#f0f921\"]],\"diverging\":[[0,\"#8e0152\"],[0.1,\"#c51b7d\"],[0.2,\"#de77ae\"],[0.3,\"#f1b6da\"],[0.4,\"#fde0ef\"],[0.5,\"#f7f7f7\"],[0.6,\"#e6f5d0\"],[0.7,\"#b8e186\"],[0.8,\"#7fbc41\"],[0.9,\"#4d9221\"],[1,\"#276419\"]]},\"xaxis\":{\"gridcolor\":\"white\",\"linecolor\":\"white\",\"ticks\":\"\",\"title\":{\"standoff\":15},\"zerolinecolor\":\"white\",\"automargin\":true,\"zerolinewidth\":2},\"yaxis\":{\"gridcolor\":\"white\",\"linecolor\":\"white\",\"ticks\":\"\",\"title\":{\"standoff\":15},\"zerolinecolor\":\"white\",\"automargin\":true,\"zerolinewidth\":2},\"scene\":{\"xaxis\":{\"backgroundcolor\":\"#E5ECF6\",\"gridcolor\":\"white\",\"linecolor\":\"white\",\"showbackground\":true,\"ticks\":\"\",\"zerolinecolor\":\"white\",\"gridwidth\":2},\"yaxis\":{\"backgroundcolor\":\"#E5ECF6\",\"gridcolor\":\"white\",\"linecolor\":\"white\",\"showbackground\":true,\"ticks\":\"\",\"zerolinecolor\":\"white\",\"gridwidth\":2},\"zaxis\":{\"backgroundcolor\":\"#E5ECF6\",\"gridcolor\":\"white\",\"linecolor\":\"white\",\"showbackground\":true,\"ticks\":\"\",\"zerolinecolor\":\"white\",\"gridwidth\":2}},\"shapedefaults\":{\"line\":{\"color\":\"#2a3f5f\"}},\"annotationdefaults\":{\"arrowcolor\":\"#2a3f5f\",\"arrowhead\":0,\"arrowwidth\":1},\"geo\":{\"bgcolor\":\"white\",\"landcolor\":\"#E5ECF6\",\"subunitcolor\":\"white\",\"showland\":true,\"showlakes\":true,\"lakecolor\":\"white\"},\"title\":{\"x\":0.05},\"mapbox\":{\"style\":\"light\"}}},\"xaxis\":{\"anchor\":\"y\",\"domain\":[0.0,1.0],\"title\":{\"text\":\"x\"}},\"yaxis\":{\"anchor\":\"x\",\"domain\":[0.0,1.0],\"title\":{\"text\":\"y\"}},\"legend\":{\"tracegroupgap\":0},\"margin\":{\"t\":60}},                        {\"responsive\": true}                    ).then(function(){\n",
              "                            \n",
              "var gd = document.getElementById('06660e55-afb0-45c9-9be2-65596386dd64');\n",
              "var x = new MutationObserver(function (mutations, observer) {{\n",
              "        var display = window.getComputedStyle(gd).display;\n",
              "        if (!display || display === 'none') {{\n",
              "            console.log([gd, 'removed!']);\n",
              "            Plotly.purge(gd);\n",
              "            observer.disconnect();\n",
              "        }}\n",
              "}});\n",
              "\n",
              "// Listen for the removal of the full notebook cells\n",
              "var notebookContainer = gd.closest('#notebook-container');\n",
              "if (notebookContainer) {{\n",
              "    x.observe(notebookContainer, {childList: true});\n",
              "}}\n",
              "\n",
              "// Listen for the clearing of the current output cell\n",
              "var outputEl = gd.closest('.output');\n",
              "if (outputEl) {{\n",
              "    x.observe(outputEl, {childList: true});\n",
              "}}\n",
              "\n",
              "                        })                };                            </script>        </div>\n",
              "</body>\n",
              "</html>"
            ]
          },
          "metadata": {}
        }
      ]
    },
    {
      "cell_type": "markdown",
      "source": [
        " Qual a diferença entre o valor predito e o valor real para o frente de R$37,70?\n",
        "\n",
        " R: Passando o mouse por sobre a linha de previsão obtemos: \n",
        " ![PREVISAO.png](data:image/png;base64,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)\n",
        "\n"
      ],
      "metadata": {
        "id": "3CVxIq9HEEoO"
      }
    },
    {
      "cell_type": "markdown",
      "source": [
        "Mas o valor real é: \n",
        "![REAL.png](data:image/png;base64,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)"
      ],
      "metadata": {
        "id": "cjnMqemcE_Hm"
      }
    },
    {
      "cell_type": "markdown",
      "source": [
        "Assim, a diferença entre o valor real e o valor previsto é: 19.37 - 17 = 2.37"
      ],
      "metadata": {
        "id": "1Fg9uEdNFLvX"
      }
    },
    {
      "cell_type": "code",
      "source": [
        "# Qual a previsão de entrega de um item caso o frete seja de R$ 118,00? \n",
        "# Utilize a função de arredondamento (round) para geração do resultado.\n",
        "# R: Aproximadamente, 1 dia.\n",
        "\n",
        "alfa = predicao_dados.intercept_\n",
        "beta = predicao_dados.coef_\n",
        "xi = 118\n",
        "\n",
        "previsao_dias = (alfa + (beta * xi)).round()\n",
        "\n",
        "previsao_dias "
      ],
      "metadata": {
        "colab": {
          "base_uri": "https://localhost:8080/"
        },
        "id": "29NvHcQgFv-4",
        "outputId": "ce3b5165-15a0-450e-ffba-ee56350cfbc9"
      },
      "execution_count": 26,
      "outputs": [
        {
          "output_type": "execute_result",
          "data": {
            "text/plain": [
              "array([1.])"
            ]
          },
          "metadata": {},
          "execution_count": 26
        }
      ]
    },
    {
      "cell_type": "code",
      "source": [
        "# Qual a previsão de entrega de um item caso o frete seja de R$ 52.98? \n",
        "# Utilize a função de arredondamento (round) para geração do resultado.\n",
        "# R: Aproximadamente, 16 dias.\n",
        "\n",
        "alfa = predicao_dados.intercept_\n",
        "beta = predicao_dados.coef_\n",
        "xi = 52.98\n",
        "\n",
        "previsao_dias = (alfa + (beta * xi)).round()\n",
        "\n",
        "previsao_dias "
      ],
      "metadata": {
        "id": "s-hKgzYMH1rV",
        "colab": {
          "base_uri": "https://localhost:8080/"
        },
        "outputId": "12d156f0-3854-484c-f7b1-55bf448d8224"
      },
      "execution_count": 27,
      "outputs": [
        {
          "output_type": "execute_result",
          "data": {
            "text/plain": [
              "array([16.])"
            ]
          },
          "metadata": {},
          "execution_count": 27
        }
      ]
    },
    {
      "cell_type": "markdown",
      "source": [
        "# Avaliação do Modelo"
      ],
      "metadata": {
        "id": "6oAEsiOmGNhM"
      }
    },
    {
      "cell_type": "code",
      "source": [
        "# Qual foi o score do modelo gerado? R:0.81\n",
        "predicao_dados.score(X,y)"
      ],
      "metadata": {
        "colab": {
          "base_uri": "https://localhost:8080/"
        },
        "id": "TnLP2Es3GLCr",
        "outputId": "51551ab7-71b5-43fd-f0c5-5aef8e205514"
      },
      "execution_count": 28,
      "outputs": [
        {
          "output_type": "execute_result",
          "data": {
            "text/plain": [
              "0.8111671052762233"
            ]
          },
          "metadata": {},
          "execution_count": 28
        }
      ]
    },
    {
      "cell_type": "code",
      "source": [
        "# Calculando o Mean Absolut Error\n",
        "erro = mean_absolute_error(y, previsao_valores)"
      ],
      "metadata": {
        "id": "STJ-VmWjGTwz"
      },
      "execution_count": 29,
      "outputs": []
    },
    {
      "cell_type": "code",
      "source": [
        "# Qual o valor do mean absolute error do modelo criado? R: 2.09\n",
        "erro"
      ],
      "metadata": {
        "colab": {
          "base_uri": "https://localhost:8080/"
        },
        "id": "IsP6-EPOHXQr",
        "outputId": "25984fc0-2d48-4717-c5c4-c865d4f82f89"
      },
      "execution_count": 30,
      "outputs": [
        {
          "output_type": "execute_result",
          "data": {
            "text/plain": [
              "2.091861170350245"
            ]
          },
          "metadata": {},
          "execution_count": 30
        }
      ]
    }
  ]
}